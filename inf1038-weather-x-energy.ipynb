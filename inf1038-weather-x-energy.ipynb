{
 "cells": [
  {
   "cell_type": "markdown",
   "metadata": {},
   "source": [
    "<h1><b>Inf1038 - Aprendizado Automático<b></h1>\n",
    "<h4><b>Grupo:</b></h4> \n",
    " - Eduardo Luna: 2111484 <br>\n",
    " - Luca Ribeiro: 2112662 <br>\n",
    " - Lucas Larios: 2020723 <br>"
   ]
  },
  {
   "cell_type": "code",
   "execution_count": 2,
   "metadata": {},
   "outputs": [
    {
     "name": "stdout",
     "output_type": "stream",
     "text": [
      "\u001b[33mWARNING: Running pip as the 'root' user can result in broken permissions and conflicting behaviour with the system package manager. It is recommended to use a virtual environment instead: https://pip.pypa.io/warnings/venv\u001b[0m\u001b[33m\n",
      "\u001b[0m\n",
      "\u001b[1m[\u001b[0m\u001b[34;49mnotice\u001b[0m\u001b[1;39;49m]\u001b[0m\u001b[39;49m A new release of pip is available: \u001b[0m\u001b[31;49m23.2.1\u001b[0m\u001b[39;49m -> \u001b[0m\u001b[32;49m23.3.1\u001b[0m\n",
      "\u001b[1m[\u001b[0m\u001b[34;49mnotice\u001b[0m\u001b[1;39;49m]\u001b[0m\u001b[39;49m To update, run: \u001b[0m\u001b[32;49mpython3 -m pip install --upgrade pip\u001b[0m\n"
     ]
    }
   ],
   "source": [
    "!pip install scikeras | grep -v 'already satisfied'"
   ]
  },
  {
   "cell_type": "code",
   "execution_count": 5,
   "metadata": {},
   "outputs": [
    {
     "name": "stdout",
     "output_type": "stream",
     "text": [
      "Requirement already satisfied: eli5 in /usr/local/lib/python3.11/dist-packages (0.13.0)\n",
      "Requirement already satisfied: attrs>17.1.0 in /usr/local/lib/python3.11/dist-packages (from eli5) (23.1.0)\n",
      "Requirement already satisfied: jinja2>=3.0.0 in /usr/local/lib/python3.11/dist-packages (from eli5) (3.1.2)\n",
      "Requirement already satisfied: numpy>=1.9.0 in /usr/local/lib/python3.11/dist-packages (from eli5) (1.26.0)\n",
      "Requirement already satisfied: scipy in /usr/local/lib/python3.11/dist-packages (from eli5) (1.11.3)\n",
      "Requirement already satisfied: six in /usr/lib/python3/dist-packages (from eli5) (1.16.0)\n",
      "Requirement already satisfied: scikit-learn>=0.20 in /usr/local/lib/python3.11/dist-packages (from eli5) (1.3.2)\n",
      "Requirement already satisfied: graphviz in /usr/local/lib/python3.11/dist-packages (from eli5) (0.20.1)\n",
      "Requirement already satisfied: tabulate>=0.7.7 in /usr/local/lib/python3.11/dist-packages (from eli5) (0.9.0)\n",
      "Requirement already satisfied: MarkupSafe>=2.0 in /usr/local/lib/python3.11/dist-packages (from jinja2>=3.0.0->eli5) (2.1.3)\n",
      "Requirement already satisfied: joblib>=1.1.1 in /usr/local/lib/python3.11/dist-packages (from scikit-learn>=0.20->eli5) (1.3.2)\n",
      "Requirement already satisfied: threadpoolctl>=2.0.0 in /usr/local/lib/python3.11/dist-packages (from scikit-learn>=0.20->eli5) (3.2.0)\n",
      "\u001b[33mWARNING: Running pip as the 'root' user can result in broken permissions and conflicting behaviour with the system package manager. It is recommended to use a virtual environment instead: https://pip.pypa.io/warnings/venv\u001b[0m\u001b[33m\n",
      "\u001b[0m\n",
      "\u001b[1m[\u001b[0m\u001b[34;49mnotice\u001b[0m\u001b[1;39;49m]\u001b[0m\u001b[39;49m A new release of pip is available: \u001b[0m\u001b[31;49m23.2.1\u001b[0m\u001b[39;49m -> \u001b[0m\u001b[32;49m23.3.1\u001b[0m\n",
      "\u001b[1m[\u001b[0m\u001b[34;49mnotice\u001b[0m\u001b[1;39;49m]\u001b[0m\u001b[39;49m To update, run: \u001b[0m\u001b[32;49mpython3 -m pip install --upgrade pip\u001b[0m\n"
     ]
    }
   ],
   "source": [
    "!pip install eli5"
   ]
  },
  {
   "cell_type": "code",
   "execution_count": 8,
   "metadata": {
    "_cell_guid": "b1076dfc-b9ad-4769-8c92-a6c4dae69d19",
    "_uuid": "8f2839f25d086af736a60e9eeb907d3b93b6e0e5"
   },
   "outputs": [],
   "source": [
    "# import eli5\n",
    "import numpy as np\n",
    "import pandas as pd\n",
    "import re\n",
    "import seaborn as sns\n",
    "import tensorflow as tf\n",
    "# from eli5.sklearn import PermutationImportance\n",
    "from lightgbm import LGBMRegressor\n",
    "from matplotlib import pyplot as plt\n",
    "from scikeras.wrappers import KerasRegressor\n",
    "from sklearn.compose import ColumnTransformer\n",
    "from sklearn.decomposition import PCA\n",
    "from sklearn.ensemble import HistGradientBoostingRegressor, RandomForestRegressor\n",
    "from sklearn.linear_model import ElasticNet, LinearRegression, Ridge\n",
    "from sklearn.metrics import mean_squared_error as mse, r2_score\n",
    "from sklearn.model_selection import cross_val_score, train_test_split, GridSearchCV\n",
    "from sklearn.pipeline import Pipeline\n",
    "from sklearn.preprocessing import OneHotEncoder, StandardScaler\n",
    "from sklearn.svm import SVR\n",
    "from sklearn.tree import plot_tree, DecisionTreeRegressor\n",
    "from tensorflow.keras import layers, callbacks\n",
    "from xgboost import XGBRegressor\n",
    "from yellowbrick.model_selection import ValidationCurve"
   ]
  },
  {
   "cell_type": "code",
   "execution_count": 9,
   "metadata": {},
   "outputs": [
    {
     "data": {
      "text/html": [
       "<div>\n",
       "<style scoped>\n",
       "    .dataframe tbody tr th:only-of-type {\n",
       "        vertical-align: middle;\n",
       "    }\n",
       "\n",
       "    .dataframe tbody tr th {\n",
       "        vertical-align: top;\n",
       "    }\n",
       "\n",
       "    .dataframe thead th {\n",
       "        text-align: right;\n",
       "    }\n",
       "</style>\n",
       "<table border=\"1\" class=\"dataframe\">\n",
       "  <thead>\n",
       "    <tr style=\"text-align: right;\">\n",
       "      <th></th>\n",
       "      <th>Time</th>\n",
       "      <th>Energy delta[Wh]</th>\n",
       "      <th>GHI</th>\n",
       "      <th>temp</th>\n",
       "      <th>pressure</th>\n",
       "      <th>humidity</th>\n",
       "      <th>wind_speed</th>\n",
       "      <th>rain_1h</th>\n",
       "      <th>snow_1h</th>\n",
       "      <th>clouds_all</th>\n",
       "      <th>isSun</th>\n",
       "      <th>sunlightTime</th>\n",
       "      <th>dayLength</th>\n",
       "      <th>SunlightTime/daylength</th>\n",
       "      <th>weather_type</th>\n",
       "      <th>hour</th>\n",
       "      <th>month</th>\n",
       "    </tr>\n",
       "  </thead>\n",
       "  <tbody>\n",
       "    <tr>\n",
       "      <th>0</th>\n",
       "      <td>2017-01-01 00:00:00</td>\n",
       "      <td>0</td>\n",
       "      <td>0.0</td>\n",
       "      <td>1.6</td>\n",
       "      <td>1021</td>\n",
       "      <td>100</td>\n",
       "      <td>4.9</td>\n",
       "      <td>0.0</td>\n",
       "      <td>0.0</td>\n",
       "      <td>100</td>\n",
       "      <td>0</td>\n",
       "      <td>0</td>\n",
       "      <td>450</td>\n",
       "      <td>0.00</td>\n",
       "      <td>4</td>\n",
       "      <td>0</td>\n",
       "      <td>1</td>\n",
       "    </tr>\n",
       "    <tr>\n",
       "      <th>1</th>\n",
       "      <td>2017-01-01 00:15:00</td>\n",
       "      <td>0</td>\n",
       "      <td>0.0</td>\n",
       "      <td>1.6</td>\n",
       "      <td>1021</td>\n",
       "      <td>100</td>\n",
       "      <td>4.9</td>\n",
       "      <td>0.0</td>\n",
       "      <td>0.0</td>\n",
       "      <td>100</td>\n",
       "      <td>0</td>\n",
       "      <td>0</td>\n",
       "      <td>450</td>\n",
       "      <td>0.00</td>\n",
       "      <td>4</td>\n",
       "      <td>0</td>\n",
       "      <td>1</td>\n",
       "    </tr>\n",
       "    <tr>\n",
       "      <th>2</th>\n",
       "      <td>2017-01-01 00:30:00</td>\n",
       "      <td>0</td>\n",
       "      <td>0.0</td>\n",
       "      <td>1.6</td>\n",
       "      <td>1021</td>\n",
       "      <td>100</td>\n",
       "      <td>4.9</td>\n",
       "      <td>0.0</td>\n",
       "      <td>0.0</td>\n",
       "      <td>100</td>\n",
       "      <td>0</td>\n",
       "      <td>0</td>\n",
       "      <td>450</td>\n",
       "      <td>0.00</td>\n",
       "      <td>4</td>\n",
       "      <td>0</td>\n",
       "      <td>1</td>\n",
       "    </tr>\n",
       "    <tr>\n",
       "      <th>3</th>\n",
       "      <td>2017-01-01 00:45:00</td>\n",
       "      <td>0</td>\n",
       "      <td>0.0</td>\n",
       "      <td>1.6</td>\n",
       "      <td>1021</td>\n",
       "      <td>100</td>\n",
       "      <td>4.9</td>\n",
       "      <td>0.0</td>\n",
       "      <td>0.0</td>\n",
       "      <td>100</td>\n",
       "      <td>0</td>\n",
       "      <td>0</td>\n",
       "      <td>450</td>\n",
       "      <td>0.00</td>\n",
       "      <td>4</td>\n",
       "      <td>0</td>\n",
       "      <td>1</td>\n",
       "    </tr>\n",
       "    <tr>\n",
       "      <th>4</th>\n",
       "      <td>2017-01-01 01:00:00</td>\n",
       "      <td>0</td>\n",
       "      <td>0.0</td>\n",
       "      <td>1.7</td>\n",
       "      <td>1020</td>\n",
       "      <td>100</td>\n",
       "      <td>5.2</td>\n",
       "      <td>0.0</td>\n",
       "      <td>0.0</td>\n",
       "      <td>100</td>\n",
       "      <td>0</td>\n",
       "      <td>0</td>\n",
       "      <td>450</td>\n",
       "      <td>0.00</td>\n",
       "      <td>4</td>\n",
       "      <td>1</td>\n",
       "      <td>1</td>\n",
       "    </tr>\n",
       "    <tr>\n",
       "      <th>...</th>\n",
       "      <td>...</td>\n",
       "      <td>...</td>\n",
       "      <td>...</td>\n",
       "      <td>...</td>\n",
       "      <td>...</td>\n",
       "      <td>...</td>\n",
       "      <td>...</td>\n",
       "      <td>...</td>\n",
       "      <td>...</td>\n",
       "      <td>...</td>\n",
       "      <td>...</td>\n",
       "      <td>...</td>\n",
       "      <td>...</td>\n",
       "      <td>...</td>\n",
       "      <td>...</td>\n",
       "      <td>...</td>\n",
       "      <td>...</td>\n",
       "    </tr>\n",
       "    <tr>\n",
       "      <th>196771</th>\n",
       "      <td>2022-08-31 16:45:00</td>\n",
       "      <td>118</td>\n",
       "      <td>23.7</td>\n",
       "      <td>18.6</td>\n",
       "      <td>1023</td>\n",
       "      <td>57</td>\n",
       "      <td>3.8</td>\n",
       "      <td>0.0</td>\n",
       "      <td>0.0</td>\n",
       "      <td>52</td>\n",
       "      <td>1</td>\n",
       "      <td>780</td>\n",
       "      <td>825</td>\n",
       "      <td>0.95</td>\n",
       "      <td>3</td>\n",
       "      <td>16</td>\n",
       "      <td>8</td>\n",
       "    </tr>\n",
       "    <tr>\n",
       "      <th>196772</th>\n",
       "      <td>2022-08-31 17:00:00</td>\n",
       "      <td>82</td>\n",
       "      <td>15.6</td>\n",
       "      <td>18.5</td>\n",
       "      <td>1023</td>\n",
       "      <td>61</td>\n",
       "      <td>4.2</td>\n",
       "      <td>0.0</td>\n",
       "      <td>0.0</td>\n",
       "      <td>60</td>\n",
       "      <td>1</td>\n",
       "      <td>795</td>\n",
       "      <td>825</td>\n",
       "      <td>0.96</td>\n",
       "      <td>3</td>\n",
       "      <td>17</td>\n",
       "      <td>8</td>\n",
       "    </tr>\n",
       "    <tr>\n",
       "      <th>196773</th>\n",
       "      <td>2022-08-31 17:15:00</td>\n",
       "      <td>51</td>\n",
       "      <td>8.0</td>\n",
       "      <td>18.5</td>\n",
       "      <td>1023</td>\n",
       "      <td>61</td>\n",
       "      <td>4.2</td>\n",
       "      <td>0.0</td>\n",
       "      <td>0.0</td>\n",
       "      <td>60</td>\n",
       "      <td>1</td>\n",
       "      <td>810</td>\n",
       "      <td>825</td>\n",
       "      <td>0.98</td>\n",
       "      <td>3</td>\n",
       "      <td>17</td>\n",
       "      <td>8</td>\n",
       "    </tr>\n",
       "    <tr>\n",
       "      <th>196774</th>\n",
       "      <td>2022-08-31 17:30:00</td>\n",
       "      <td>24</td>\n",
       "      <td>2.1</td>\n",
       "      <td>18.5</td>\n",
       "      <td>1023</td>\n",
       "      <td>61</td>\n",
       "      <td>4.2</td>\n",
       "      <td>0.0</td>\n",
       "      <td>0.0</td>\n",
       "      <td>60</td>\n",
       "      <td>1</td>\n",
       "      <td>825</td>\n",
       "      <td>825</td>\n",
       "      <td>1.00</td>\n",
       "      <td>3</td>\n",
       "      <td>17</td>\n",
       "      <td>8</td>\n",
       "    </tr>\n",
       "    <tr>\n",
       "      <th>196775</th>\n",
       "      <td>2022-08-31 17:45:00</td>\n",
       "      <td>0</td>\n",
       "      <td>0.0</td>\n",
       "      <td>18.5</td>\n",
       "      <td>1023</td>\n",
       "      <td>61</td>\n",
       "      <td>4.2</td>\n",
       "      <td>0.0</td>\n",
       "      <td>0.0</td>\n",
       "      <td>60</td>\n",
       "      <td>0</td>\n",
       "      <td>0</td>\n",
       "      <td>825</td>\n",
       "      <td>0.00</td>\n",
       "      <td>3</td>\n",
       "      <td>17</td>\n",
       "      <td>8</td>\n",
       "    </tr>\n",
       "  </tbody>\n",
       "</table>\n",
       "<p>196776 rows × 17 columns</p>\n",
       "</div>"
      ],
      "text/plain": [
       "                      Time  Energy delta[Wh]   GHI  temp  pressure  humidity  \\\n",
       "0      2017-01-01 00:00:00                 0   0.0   1.6      1021       100   \n",
       "1      2017-01-01 00:15:00                 0   0.0   1.6      1021       100   \n",
       "2      2017-01-01 00:30:00                 0   0.0   1.6      1021       100   \n",
       "3      2017-01-01 00:45:00                 0   0.0   1.6      1021       100   \n",
       "4      2017-01-01 01:00:00                 0   0.0   1.7      1020       100   \n",
       "...                    ...               ...   ...   ...       ...       ...   \n",
       "196771 2022-08-31 16:45:00               118  23.7  18.6      1023        57   \n",
       "196772 2022-08-31 17:00:00                82  15.6  18.5      1023        61   \n",
       "196773 2022-08-31 17:15:00                51   8.0  18.5      1023        61   \n",
       "196774 2022-08-31 17:30:00                24   2.1  18.5      1023        61   \n",
       "196775 2022-08-31 17:45:00                 0   0.0  18.5      1023        61   \n",
       "\n",
       "        wind_speed  rain_1h  snow_1h  clouds_all  isSun  sunlightTime  \\\n",
       "0              4.9      0.0      0.0         100      0             0   \n",
       "1              4.9      0.0      0.0         100      0             0   \n",
       "2              4.9      0.0      0.0         100      0             0   \n",
       "3              4.9      0.0      0.0         100      0             0   \n",
       "4              5.2      0.0      0.0         100      0             0   \n",
       "...            ...      ...      ...         ...    ...           ...   \n",
       "196771         3.8      0.0      0.0          52      1           780   \n",
       "196772         4.2      0.0      0.0          60      1           795   \n",
       "196773         4.2      0.0      0.0          60      1           810   \n",
       "196774         4.2      0.0      0.0          60      1           825   \n",
       "196775         4.2      0.0      0.0          60      0             0   \n",
       "\n",
       "        dayLength  SunlightTime/daylength  weather_type  hour  month  \n",
       "0             450                    0.00             4     0      1  \n",
       "1             450                    0.00             4     0      1  \n",
       "2             450                    0.00             4     0      1  \n",
       "3             450                    0.00             4     0      1  \n",
       "4             450                    0.00             4     1      1  \n",
       "...           ...                     ...           ...   ...    ...  \n",
       "196771        825                    0.95             3    16      8  \n",
       "196772        825                    0.96             3    17      8  \n",
       "196773        825                    0.98             3    17      8  \n",
       "196774        825                    1.00             3    17      8  \n",
       "196775        825                    0.00             3    17      8  \n",
       "\n",
       "[196776 rows x 17 columns]"
      ]
     },
     "metadata": {},
     "output_type": "display_data"
    }
   ],
   "source": [
    "# data set https://www.kaggle.com/datasets/samanemami/renewable-energy-and-weather-conditions\n",
    "df = pd.read_csv('data/solar_weather.csv', parse_dates = ['Time'])\n",
    " \n",
    "display(df)"
   ]
  },
  {
   "cell_type": "code",
   "execution_count": 10,
   "metadata": {},
   "outputs": [],
   "source": [
    "df['weather_type'] = df['weather_type'].astype('category')"
   ]
  },
  {
   "cell_type": "markdown",
   "metadata": {},
   "source": [
    "# Análise Exploratória dos Dados"
   ]
  },
  {
   "cell_type": "code",
   "execution_count": 11,
   "metadata": {},
   "outputs": [
    {
     "name": "stdout",
     "output_type": "stream",
     "text": [
      "Dataset features = Index(['Time', 'Energy delta[Wh]', 'GHI', 'temp', 'pressure', 'humidity',\n",
      "       'wind_speed', 'rain_1h', 'snow_1h', 'clouds_all', 'isSun',\n",
      "       'sunlightTime', 'dayLength', 'SunlightTime/daylength', 'weather_type',\n",
      "       'hour', 'month'],\n",
      "      dtype='object')\n"
     ]
    }
   ],
   "source": [
    "print(f'Dataset features = {df.columns}')"
   ]
  },
  {
   "cell_type": "markdown",
   "metadata": {},
   "source": [
    "## Análise para verificar a incidência de valores nulos no dataset"
   ]
  },
  {
   "cell_type": "code",
   "execution_count": 12,
   "metadata": {},
   "outputs": [
    {
     "data": {
      "text/html": [
       "<div>\n",
       "<style scoped>\n",
       "    .dataframe tbody tr th:only-of-type {\n",
       "        vertical-align: middle;\n",
       "    }\n",
       "\n",
       "    .dataframe tbody tr th {\n",
       "        vertical-align: top;\n",
       "    }\n",
       "\n",
       "    .dataframe thead th {\n",
       "        text-align: right;\n",
       "    }\n",
       "</style>\n",
       "<table border=\"1\" class=\"dataframe\">\n",
       "  <thead>\n",
       "    <tr style=\"text-align: right;\">\n",
       "      <th></th>\n",
       "      <th>Time</th>\n",
       "      <th>Energy delta[Wh]</th>\n",
       "      <th>GHI</th>\n",
       "      <th>temp</th>\n",
       "      <th>pressure</th>\n",
       "      <th>humidity</th>\n",
       "      <th>wind_speed</th>\n",
       "      <th>rain_1h</th>\n",
       "      <th>snow_1h</th>\n",
       "      <th>clouds_all</th>\n",
       "      <th>isSun</th>\n",
       "      <th>sunlightTime</th>\n",
       "      <th>dayLength</th>\n",
       "      <th>SunlightTime/daylength</th>\n",
       "      <th>weather_type</th>\n",
       "      <th>hour</th>\n",
       "      <th>month</th>\n",
       "    </tr>\n",
       "  </thead>\n",
       "  <tbody>\n",
       "    <tr>\n",
       "      <th>Null amount</th>\n",
       "      <td>0</td>\n",
       "      <td>0</td>\n",
       "      <td>0</td>\n",
       "      <td>0</td>\n",
       "      <td>0</td>\n",
       "      <td>0</td>\n",
       "      <td>0</td>\n",
       "      <td>0</td>\n",
       "      <td>0</td>\n",
       "      <td>0</td>\n",
       "      <td>0</td>\n",
       "      <td>0</td>\n",
       "      <td>0</td>\n",
       "      <td>0</td>\n",
       "      <td>0</td>\n",
       "      <td>0</td>\n",
       "      <td>0</td>\n",
       "    </tr>\n",
       "  </tbody>\n",
       "</table>\n",
       "</div>"
      ],
      "text/plain": [
       "             Time  Energy delta[Wh]  GHI  temp  pressure  humidity  \\\n",
       "Null amount     0                 0    0     0         0         0   \n",
       "\n",
       "             wind_speed  rain_1h  snow_1h  clouds_all  isSun  sunlightTime  \\\n",
       "Null amount           0        0        0           0      0             0   \n",
       "\n",
       "             dayLength  SunlightTime/daylength  weather_type  hour  month  \n",
       "Null amount          0                       0             0     0      0  "
      ]
     },
     "metadata": {},
     "output_type": "display_data"
    },
    {
     "name": "stdout",
     "output_type": "stream",
     "text": [
      "\n",
      "Total null values = 0\n"
     ]
    }
   ],
   "source": [
    "nulls_df = pd.DataFrame(df.isnull().sum(), columns = ['Null amount'])\n",
    "\n",
    "display(nulls_df.T)\n",
    "\n",
    "print(f\"\\nTotal null values = {np.sum(nulls_df.values)}\")"
   ]
  },
  {
   "cell_type": "markdown",
   "metadata": {},
   "source": [
    "## Análise sobre a distribuição dos atributos numéricos do dataset"
   ]
  },
  {
   "cell_type": "code",
   "execution_count": null,
   "metadata": {
    "execution": {
     "iopub.execute_input": "2023-10-13T15:55:39.519572Z",
     "iopub.status.busy": "2023-10-13T15:55:39.519237Z",
     "iopub.status.idle": "2023-10-13T15:55:39.679088Z",
     "shell.execute_reply": "2023-10-13T15:55:39.678268Z",
     "shell.execute_reply.started": "2023-10-13T15:55:39.519544Z"
    }
   },
   "outputs": [],
   "source": [
    "display(df.describe())"
   ]
  },
  {
   "cell_type": "code",
   "execution_count": null,
   "metadata": {
    "execution": {
     "iopub.execute_input": "2023-10-13T15:55:39.680194Z",
     "iopub.status.busy": "2023-10-13T15:55:39.679939Z",
     "iopub.status.idle": "2023-10-13T15:55:41.146519Z",
     "shell.execute_reply": "2023-10-13T15:55:41.145343Z",
     "shell.execute_reply.started": "2023-10-13T15:55:39.680172Z"
    }
   },
   "outputs": [],
   "source": [
    "temp_distribution = f\"Temperature skew = {df['temp'].skew()}\\n\" + f\"Temperature kurtosis = {df['temp'].kurtosis()}\\n\"\n",
    "\n",
    "fig, ax = plt.subplots(figsize = (10,10))\n",
    "\n",
    "sns.kdeplot(data = df['temp'], color = 'DarkCyan', ax = ax).set_title(temp_distribution)\n",
    "\n",
    "ax.axvline(x = df['temp'].mean(), color = 'ForestGreen', label = 'Mean temperature')\n",
    "ax.axvline(x = df['temp'].median(), color = 'Silver', label = 'Median temperature')\n",
    "\n",
    "plt.legend()\n",
    "\n",
    "plt.show()"
   ]
  },
  {
   "cell_type": "markdown",
   "metadata": {},
   "source": [
    "A partir do gráfico acima é possível notar uma leve assimetria, com uma cauda direita na distribuição, indicada ainda pelo valor \"skew\" ser maior do que zero. \n",
    "Pelo coeficiente de curtose, concluí-se que a distribuição é leptocúrtica, sendo mais concentrada que uma distribuição normal"
   ]
  },
  {
   "cell_type": "code",
   "execution_count": null,
   "metadata": {
    "execution": {
     "iopub.execute_input": "2023-10-13T15:55:41.148012Z",
     "iopub.status.busy": "2023-10-13T15:55:41.147696Z",
     "iopub.status.idle": "2023-10-13T15:55:42.664442Z",
     "shell.execute_reply": "2023-10-13T15:55:42.663261Z",
     "shell.execute_reply.started": "2023-10-13T15:55:41.147985Z"
    }
   },
   "outputs": [],
   "source": [
    "fig, axes = plt.subplots(1, 2, figsize = (12, 5))\n",
    "\n",
    "sns.histplot(data = df['temp'], color = 'DarkGreen', kde = True, ax = axes[0])\n",
    "\n",
    "sns.boxplot(x = df['temp'], color = 'SeaGreen', ax = axes[1])\n",
    "\n",
    "plt.show()"
   ]
  },
  {
   "cell_type": "code",
   "execution_count": null,
   "metadata": {
    "execution": {
     "iopub.execute_input": "2023-10-13T15:55:42.668208Z",
     "iopub.status.busy": "2023-10-13T15:55:42.667856Z",
     "iopub.status.idle": "2023-10-13T15:58:08.908081Z",
     "shell.execute_reply": "2023-10-13T15:58:08.906884Z",
     "shell.execute_reply.started": "2023-10-13T15:55:42.668175Z"
    }
   },
   "outputs": [],
   "source": [
    "fig, axes = plt.subplots(1, 2, figsize = (12, 5))\n",
    "\n",
    "sns.regplot(data = df, \n",
    "            x = 'Energy delta[Wh]', \n",
    "            y = 'temp', \n",
    "            ax = axes[0],\n",
    "            color = 'LightBlue'\n",
    "           )\n",
    "\n",
    "sns.regplot(data = df, \n",
    "           x = 'pressure', \n",
    "           y = 'temp', \n",
    "           ax = axes[1],\n",
    "           color = 'LightSeaGreen'\n",
    "          )\n",
    "\n",
    "plt.show()"
   ]
  },
  {
   "cell_type": "code",
   "execution_count": null,
   "metadata": {
    "execution": {
     "iopub.execute_input": "2023-10-13T15:58:08.910096Z",
     "iopub.status.busy": "2023-10-13T15:58:08.909377Z",
     "iopub.status.idle": "2023-10-13T15:58:09.247004Z",
     "shell.execute_reply": "2023-10-13T15:58:09.245521Z",
     "shell.execute_reply.started": "2023-10-13T15:58:08.910065Z"
    }
   },
   "outputs": [],
   "source": [
    "mean_temp_by_month = df.groupby('month')[['temp']].mean()\n",
    "\n",
    "sns.scatterplot(x = mean_temp_by_month.index, \n",
    "                y = mean_temp_by_month.temp\n",
    "               )\n",
    "\n",
    "sns.lineplot(x = mean_temp_by_month.index, \n",
    "             y = mean_temp_by_month.temp\n",
    "            ).set_title('Mean temperature by month')\n",
    "\n",
    "plt.show()"
   ]
  },
  {
   "cell_type": "code",
   "execution_count": null,
   "metadata": {
    "execution": {
     "iopub.execute_input": "2023-10-13T15:58:09.248661Z",
     "iopub.status.busy": "2023-10-13T15:58:09.248323Z",
     "iopub.status.idle": "2023-10-13T15:58:09.508493Z",
     "shell.execute_reply": "2023-10-13T15:58:09.507023Z",
     "shell.execute_reply.started": "2023-10-13T15:58:09.248632Z"
    }
   },
   "outputs": [],
   "source": [
    "weather_type_counts = df['weather_type'].value_counts()\n",
    "\n",
    "sns.barplot(x = weather_type_counts.index, \n",
    "            y = weather_type_counts.values, \n",
    "            palette = ['steelblue', 'purple', 'gold', 'springgreen', 'teal']\n",
    "           )\n",
    "\n",
    "plt.show()"
   ]
  },
  {
   "cell_type": "code",
   "execution_count": null,
   "metadata": {
    "execution": {
     "iopub.execute_input": "2023-10-13T15:58:09.510171Z",
     "iopub.status.busy": "2023-10-13T15:58:09.509871Z",
     "iopub.status.idle": "2023-10-13T15:58:10.330191Z",
     "shell.execute_reply": "2023-10-13T15:58:10.328852Z",
     "shell.execute_reply.started": "2023-10-13T15:58:09.510145Z"
    }
   },
   "outputs": [],
   "source": [
    "fig, axes = plt.subplots(2, 2, figsize = (14, 10))\n",
    "\n",
    "wind_speed_title = f\"Wind Speed Boxplot\\nWind Speed median = {df['wind_speed'].median()}\"\n",
    "sns.boxplot(data = df, y = 'wind_speed', color = 'DarkRed', ax = axes[0][0]).set_title(wind_speed_title)\n",
    "\n",
    "energy_title = f\"Energy Boxplot\\nEnergy median = {df['Energy delta[Wh]'].median()}\"\n",
    "sns.boxplot(data = df, y = 'Energy delta[Wh]', color = 'DarkOrange', ax = axes[0][1]).set_title(energy_title)\n",
    "\n",
    "pressure_title = f\"Pressure Boxplot\\nPressure median = {df['pressure'].median()}\"\n",
    "sns.boxplot(data = df, y = 'pressure', color = 'Purple', ax = axes[1][0]).set_title(pressure_title)\n",
    "\n",
    "humidity_title = f\"Humidity Boxplot\\nHumidity median = {df['humidity'].median()}\"\n",
    "sns.boxplot(data = df, y = 'humidity', color = 'DarkBlue', ax = axes[1][1]).set_title(humidity_title)\n",
    "\n",
    "plt.show()"
   ]
  },
  {
   "cell_type": "code",
   "execution_count": null,
   "metadata": {
    "execution": {
     "iopub.execute_input": "2023-10-13T15:58:10.332336Z",
     "iopub.status.busy": "2023-10-13T15:58:10.331900Z",
     "iopub.status.idle": "2023-10-13T15:58:10.352151Z",
     "shell.execute_reply": "2023-10-13T15:58:10.351046Z",
     "shell.execute_reply.started": "2023-10-13T15:58:10.332296Z"
    }
   },
   "outputs": [],
   "source": [
    "numeric_features = df.drop(columns = ['isSun', 'weather_type'])"
   ]
  },
  {
   "cell_type": "code",
   "execution_count": null,
   "metadata": {
    "execution": {
     "iopub.execute_input": "2023-10-13T15:58:10.353788Z",
     "iopub.status.busy": "2023-10-13T15:58:10.353490Z",
     "iopub.status.idle": "2023-10-13T15:58:11.209517Z",
     "shell.execute_reply": "2023-10-13T15:58:11.208520Z",
     "shell.execute_reply.started": "2023-10-13T15:58:10.353763Z"
    }
   },
   "outputs": [],
   "source": [
    "numeric_data = numeric_features.copy()\n",
    "\n",
    "for feature in numeric_data.columns:\n",
    "    numeric_data[feature] -= np.min(numeric_data[feature])\n",
    "    numeric_data[feature] /= np.max(numeric_data[feature])\n",
    "\n",
    "fig, ax = plt.subplots(figsize = (20, 4))\n",
    "    \n",
    "sns.boxplot(data = numeric_data, palette = \"viridis\").set_title(\"Scaled numeric features boxplots\")\n",
    "\n",
    "plt.xticks(rotation = 45)\n",
    "\n",
    "plt.show()"
   ]
  },
  {
   "cell_type": "code",
   "execution_count": null,
   "metadata": {
    "execution": {
     "iopub.execute_input": "2023-10-13T15:58:11.211459Z",
     "iopub.status.busy": "2023-10-13T15:58:11.211050Z",
     "iopub.status.idle": "2023-10-13T16:00:54.763376Z",
     "shell.execute_reply": "2023-10-13T16:00:54.762221Z",
     "shell.execute_reply.started": "2023-10-13T15:58:11.211394Z"
    }
   },
   "outputs": [],
   "source": [
    "pd.plotting.scatter_matrix(numeric_features, c = df['weather_type'], figsize = (20, 20), cmap = 'viridis')\n",
    "\n",
    "plt.show()"
   ]
  },
  {
   "cell_type": "code",
   "execution_count": null,
   "metadata": {
    "execution": {
     "iopub.execute_input": "2023-10-13T16:00:54.765519Z",
     "iopub.status.busy": "2023-10-13T16:00:54.764722Z",
     "iopub.status.idle": "2023-10-13T16:00:56.013157Z",
     "shell.execute_reply": "2023-10-13T16:00:56.012133Z",
     "shell.execute_reply.started": "2023-10-13T16:00:54.765478Z"
    }
   },
   "outputs": [],
   "source": [
    "fig, ax = plt.subplots(figsize = (20,20))\n",
    "sns.heatmap(numeric_features.corr(), annot = True, cmap = 'viridis')\n",
    "plt.show()"
   ]
  },
  {
   "cell_type": "markdown",
   "metadata": {},
   "source": [
    "O heatmap acima indica a correlação, usando o método de Pearson, entre os atributos numéricos do dataset. A partir do gráfico, é possível observar uma forte correlação positiva entre a energia produzida e o GHI (global horizontal irradiance).<br> \n",
    "Por outro lado, nota-se também uma forte correlação negativa entre o tempo de luminosidade e a humidade."
   ]
  },
  {
   "cell_type": "code",
   "execution_count": null,
   "metadata": {},
   "outputs": [],
   "source": [
    "X = df.drop(columns = ['temp', 'Time'])\n",
    "y = df['temp']"
   ]
  },
  {
   "cell_type": "code",
   "execution_count": null,
   "metadata": {},
   "outputs": [],
   "source": [
    "numeric_X_features = ['Energy delta[Wh]', 'GHI', 'pressure', 'humidity',\n",
    "       'wind_speed', 'rain_1h', 'snow_1h', 'clouds_all',\n",
    "       'sunlightTime', 'dayLength', 'SunlightTime/daylength',\n",
    "       'hour', 'month']\n",
    "\n",
    "categorical_X_features = ['weather_type']"
   ]
  },
  {
   "cell_type": "code",
   "execution_count": null,
   "metadata": {
    "execution": {
     "iopub.execute_input": "2023-10-23T14:55:06.395742Z",
     "iopub.status.busy": "2023-10-23T14:55:06.395031Z",
     "iopub.status.idle": "2023-10-23T14:55:06.400500Z",
     "shell.execute_reply": "2023-10-23T14:55:06.399659Z",
     "shell.execute_reply.started": "2023-10-23T14:55:06.395708Z"
    }
   },
   "outputs": [],
   "source": [
    "preprocessor = ColumnTransformer(transformers = \n",
    "                                    [(\"numeric\", StandardScaler(), numeric_X_features),\n",
    "                                     (\"categorical\", OneHotEncoder(handle_unknown = \"ignore\"), categorical_X_features)]\n",
    "                                ) "
   ]
  },
  {
   "cell_type": "code",
   "execution_count": null,
   "metadata": {},
   "outputs": [],
   "source": [
    "train_X, test_X, train_y, test_y = train_test_split(X, y, \n",
    "                                                    test_size = 0.6, \n",
    "                                                    random_state = 42\n",
    "                                                   )\n",
    "\n",
    "print(f\"X Train shape = {train_X.shape}\")\n",
    "print(f\"y Train shape = {train_y.shape}\")\n",
    "print(f\"X Test shape = {test_X.shape}\")\n",
    "print(f\"y Test shape = {test_y.shape}\")"
   ]
  },
  {
   "cell_type": "code",
   "execution_count": null,
   "metadata": {
    "execution": {
     "iopub.execute_input": "2023-10-13T16:00:56.148787Z",
     "iopub.status.busy": "2023-10-13T16:00:56.148464Z",
     "iopub.status.idle": "2023-10-13T16:00:56.454681Z",
     "shell.execute_reply": "2023-10-13T16:00:56.453162Z",
     "shell.execute_reply.started": "2023-10-13T16:00:56.148760Z"
    }
   },
   "outputs": [],
   "source": [
    "rlinear = Pipeline([('preprocessor', preprocessor),\n",
    "                    ('linear_reg', LinearRegression())\n",
    "                   ])\n",
    "\n",
    "rlinear.fit(train_X, train_y)"
   ]
  },
  {
   "cell_type": "code",
   "execution_count": null,
   "metadata": {
    "execution": {
     "iopub.execute_input": "2023-10-13T16:00:56.457189Z",
     "iopub.status.busy": "2023-10-13T16:00:56.456751Z",
     "iopub.status.idle": "2023-10-13T16:00:56.687039Z",
     "shell.execute_reply": "2023-10-13T16:00:56.685054Z",
     "shell.execute_reply.started": "2023-10-13T16:00:56.457156Z"
    }
   },
   "outputs": [],
   "source": [
    "print(f\"Linear regression train r2 score = {rlinear.score(train_X, train_y)}\")\n",
    "print(f\"Linear regression test r2 score = {rlinear.score(test_X, test_y)}\")"
   ]
  },
  {
   "cell_type": "code",
   "execution_count": null,
   "metadata": {
    "execution": {
     "iopub.execute_input": "2023-10-13T16:00:56.694716Z",
     "iopub.status.busy": "2023-10-13T16:00:56.688421Z",
     "iopub.status.idle": "2023-10-13T16:01:05.215357Z",
     "shell.execute_reply": "2023-10-13T16:01:05.213934Z",
     "shell.execute_reply.started": "2023-10-13T16:00:56.694656Z"
    }
   },
   "outputs": [],
   "source": [
    "linear_scores = cross_val_score(Pipeline([('preprocessor', preprocessor), \n",
    "                                          ('linear_reg', LinearRegression())\n",
    "                                         ]), \n",
    "                                X, y, cv = 5, n_jobs = 4\n",
    "                               )"
   ]
  },
  {
   "cell_type": "code",
   "execution_count": null,
   "metadata": {
    "execution": {
     "iopub.execute_input": "2023-10-13T16:01:05.217695Z",
     "iopub.status.busy": "2023-10-13T16:01:05.217301Z",
     "iopub.status.idle": "2023-10-13T16:01:05.225384Z",
     "shell.execute_reply": "2023-10-13T16:01:05.223938Z",
     "shell.execute_reply.started": "2023-10-13T16:01:05.217659Z"
    }
   },
   "outputs": [],
   "source": [
    "print(f\"Cross val scores for linear regression = {linear_scores}\")\n",
    "print(f\"Mean cross val scores = {linear_scores.mean()}\")\n",
    "print(f\"Cross val scores standard deviation = {linear_scores.std()}\")"
   ]
  },
  {
   "cell_type": "code",
   "execution_count": null,
   "metadata": {
    "execution": {
     "iopub.execute_input": "2023-10-13T16:01:05.227076Z",
     "iopub.status.busy": "2023-10-13T16:01:05.226749Z",
     "iopub.status.idle": "2023-10-13T16:01:11.008060Z",
     "shell.execute_reply": "2023-10-13T16:01:11.007006Z",
     "shell.execute_reply.started": "2023-10-13T16:01:05.227049Z"
    }
   },
   "outputs": [],
   "source": [
    "ridge_grid_param = {'ridge__alpha': [0.01, 0.1, 1, 10, 100]} \n",
    "\n",
    "ridge_pipe = Pipeline([('preprocessor', preprocessor), ('ridge', Ridge())])\n",
    "\n",
    "ridge = GridSearchCV(ridge_pipe, ridge_grid_param, cv = 5)\n",
    "\n",
    "ridge.fit(train_X, train_y)"
   ]
  },
  {
   "cell_type": "code",
   "execution_count": null,
   "metadata": {
    "execution": {
     "iopub.execute_input": "2023-10-13T16:01:11.010683Z",
     "iopub.status.busy": "2023-10-13T16:01:11.009881Z",
     "iopub.status.idle": "2023-10-13T16:01:11.234866Z",
     "shell.execute_reply": "2023-10-13T16:01:11.232354Z",
     "shell.execute_reply.started": "2023-10-13T16:01:11.010642Z"
    }
   },
   "outputs": [],
   "source": [
    "print(f\"Ridge train r2 score = {ridge.score(train_X, train_y)}\")\n",
    "print(f\"Ridge test r2 score = {ridge.score(test_X, test_y)}\")"
   ]
  },
  {
   "cell_type": "code",
   "execution_count": null,
   "metadata": {
    "execution": {
     "iopub.execute_input": "2023-10-13T16:01:11.259337Z",
     "iopub.status.busy": "2023-10-13T16:01:11.258970Z",
     "iopub.status.idle": "2023-10-13T16:01:11.283452Z",
     "shell.execute_reply": "2023-10-13T16:01:11.280507Z",
     "shell.execute_reply.started": "2023-10-13T16:01:11.259310Z"
    }
   },
   "outputs": [],
   "source": [
    "print(f\"Best parameter for ridge = {ridge.best_estimator_.named_steps['ridge']}\")"
   ]
  },
  {
   "cell_type": "code",
   "execution_count": null,
   "metadata": {
    "execution": {
     "iopub.execute_input": "2023-10-13T16:01:11.287166Z",
     "iopub.status.busy": "2023-10-13T16:01:11.286635Z",
     "iopub.status.idle": "2023-10-13T16:01:12.028017Z",
     "shell.execute_reply": "2023-10-13T16:01:12.025838Z",
     "shell.execute_reply.started": "2023-10-13T16:01:11.287120Z"
    }
   },
   "outputs": [],
   "source": [
    "elastic_net = Pipeline([('preprocessor', preprocessor), \n",
    "                        ('elast_net', ElasticNet(random_state = 42, alpha = 0.001))\n",
    "                       ])\n",
    "\n",
    "elastic_net.fit(train_X, train_y)"
   ]
  },
  {
   "cell_type": "code",
   "execution_count": null,
   "metadata": {
    "execution": {
     "iopub.execute_input": "2023-10-13T16:01:12.031080Z",
     "iopub.status.busy": "2023-10-13T16:01:12.030762Z",
     "iopub.status.idle": "2023-10-13T16:01:12.285088Z",
     "shell.execute_reply": "2023-10-13T16:01:12.282764Z",
     "shell.execute_reply.started": "2023-10-13T16:01:12.031054Z"
    }
   },
   "outputs": [],
   "source": [
    "print(f\"Elastic Net train r2 score = {elastic_net.score(train_X, train_y)}\")\n",
    "print(f\"Elastic Net test r2 score = {elastic_net.score(test_X, test_y)}\")"
   ]
  },
  {
   "cell_type": "code",
   "execution_count": null,
   "metadata": {
    "execution": {
     "iopub.execute_input": "2023-10-13T16:01:12.287981Z",
     "iopub.status.busy": "2023-10-13T16:01:12.287499Z",
     "iopub.status.idle": "2023-10-13T16:01:20.404102Z",
     "shell.execute_reply": "2023-10-13T16:01:20.402805Z",
     "shell.execute_reply.started": "2023-10-13T16:01:12.287936Z"
    }
   },
   "outputs": [],
   "source": [
    "elastic_scores = cross_val_score(Pipeline([('preprocessor', preprocessor), \n",
    "                                           ('elast_net', ElasticNet(random_state = 42, alpha = 0.001))\n",
    "                                          ]),\n",
    "                                 X, y, cv = 5, n_jobs = 4\n",
    "                                )"
   ]
  },
  {
   "cell_type": "code",
   "execution_count": null,
   "metadata": {
    "execution": {
     "iopub.execute_input": "2023-10-13T16:01:20.405841Z",
     "iopub.status.busy": "2023-10-13T16:01:20.405521Z",
     "iopub.status.idle": "2023-10-13T16:01:20.412605Z",
     "shell.execute_reply": "2023-10-13T16:01:20.411515Z",
     "shell.execute_reply.started": "2023-10-13T16:01:20.405814Z"
    }
   },
   "outputs": [],
   "source": [
    "print(f\"Cross val scores for elastic net = {elastic_scores}\")\n",
    "print(f\"Mean cross val scores = {elastic_scores.mean()}\")\n",
    "print(f\"Cross val scores standard deviation = {elastic_scores.std()}\")"
   ]
  },
  {
   "cell_type": "code",
   "execution_count": null,
   "metadata": {
    "execution": {
     "iopub.execute_input": "2023-10-13T16:01:20.414412Z",
     "iopub.status.busy": "2023-10-13T16:01:20.414111Z",
     "iopub.status.idle": "2023-10-13T16:13:07.789465Z",
     "shell.execute_reply": "2023-10-13T16:13:07.788324Z",
     "shell.execute_reply.started": "2023-10-13T16:01:20.414387Z"
    }
   },
   "outputs": [],
   "source": [
    "svr = Pipeline([('preprocessor', preprocessor), ('svr', SVR(C = 100, gamma = 0.01))])\n",
    "\n",
    "svr.fit(train_X, train_y)"
   ]
  },
  {
   "cell_type": "code",
   "execution_count": null,
   "metadata": {
    "execution": {
     "iopub.execute_input": "2023-10-13T16:13:07.792450Z",
     "iopub.status.busy": "2023-10-13T16:13:07.791525Z",
     "iopub.status.idle": "2023-10-13T16:28:10.519539Z",
     "shell.execute_reply": "2023-10-13T16:28:10.518280Z",
     "shell.execute_reply.started": "2023-10-13T16:13:07.792386Z"
    }
   },
   "outputs": [],
   "source": [
    "print(f\"SVR train r2 score = {svr.score(train_X, train_y)}\")\n",
    "print(f\"SVR test r2 score = {svr.score(test_X, test_y)}\")"
   ]
  },
  {
   "cell_type": "code",
   "execution_count": null,
   "metadata": {
    "execution": {
     "iopub.execute_input": "2023-10-23T15:05:02.339514Z",
     "iopub.status.busy": "2023-10-23T15:05:02.338928Z",
     "iopub.status.idle": "2023-10-23T15:05:02.569087Z",
     "shell.execute_reply": "2023-10-23T15:05:02.568016Z",
     "shell.execute_reply.started": "2023-10-23T15:05:02.339471Z"
    }
   },
   "outputs": [],
   "source": [
    "tree = DecisionTreeRegressor(max_leaf_nodes = 12, criterion = \"squared_error\")\n",
    "\n",
    "tree.fit(train_X, train_y)"
   ]
  },
  {
   "cell_type": "code",
   "execution_count": null,
   "metadata": {
    "execution": {
     "iopub.execute_input": "2023-10-23T15:05:04.710447Z",
     "iopub.status.busy": "2023-10-23T15:05:04.709350Z",
     "iopub.status.idle": "2023-10-23T15:05:04.772178Z",
     "shell.execute_reply": "2023-10-23T15:05:04.771044Z",
     "shell.execute_reply.started": "2023-10-23T15:05:04.710410Z"
    }
   },
   "outputs": [],
   "source": [
    "print(f\"Decision Tree train r2 score = {tree.score(train_X, train_y)}\")\n",
    "print(f\"Decision Tree test r2 score = {tree.score(test_X, test_y)}\")"
   ]
  },
  {
   "cell_type": "code",
   "execution_count": null,
   "metadata": {
    "execution": {
     "iopub.execute_input": "2023-10-23T15:05:50.642330Z",
     "iopub.status.busy": "2023-10-23T15:05:50.641198Z",
     "iopub.status.idle": "2023-10-23T15:05:51.838730Z",
     "shell.execute_reply": "2023-10-23T15:05:51.837645Z",
     "shell.execute_reply.started": "2023-10-23T15:05:50.642295Z"
    }
   },
   "outputs": [],
   "source": [
    "fig, ax = plt.subplots(figsize = (14, 10))\n",
    "plot_tree(tree)\n",
    "plt.show()"
   ]
  },
  {
   "cell_type": "code",
   "execution_count": null,
   "metadata": {},
   "outputs": [],
   "source": [
    "tree_scores = cross_val_score(DecisionTreeRegressor(max_leaf_nodes = 1484, \n",
    "                                                    max_featurrs = 14), \n",
    "                              X, y, cv = 5, n_jobs = 4)"
   ]
  },
  {
   "cell_type": "code",
   "execution_count": null,
   "metadata": {},
   "outputs": [],
   "source": [
    "print(f'Decision Tree scores = {tree_scores}')\n",
    "print(f'Mean score = {tree_scores.mean()}')\n",
    "print(f'SD score = {tree_scores.std()}')"
   ]
  },
  {
   "cell_type": "code",
   "execution_count": null,
   "metadata": {},
   "outputs": [],
   "source": [
    "tree_grid_param = {'max_leaf_nodes': [954, 1354, 1654], \n",
    "                   'max_features': [10, 12, 13, 14],\n",
    "                   'criterion': ['squared_error', 'absolute_error']\n",
    "                  } \n",
    "\n",
    "\n",
    "grid_tree = GridSearchCV(DecisionTreeRegressor(), tree_grid_param, cv = 5, n_jobs = 4)\n",
    "\n",
    "grid_tree.fit(train_X, train_y)"
   ]
  },
  {
   "cell_type": "code",
   "execution_count": null,
   "metadata": {},
   "outputs": [],
   "source": [
    "print(f\"Gridge Decision Tree train r2 score = {grid_tree.score(train_X, train_y)}\")\n",
    "print(f\"Gridge Decision Tree test r2 score = {grid_tree.score(test_X, test_y)}\")"
   ]
  },
  {
   "cell_type": "code",
   "execution_count": null,
   "metadata": {},
   "outputs": [],
   "source": [
    "print(f\"Best parameter for Decision Tree = {grid_tree.best_estimator_}\")"
   ]
  },
  {
   "cell_type": "code",
   "execution_count": null,
   "metadata": {
    "execution": {
     "iopub.execute_input": "2023-10-13T16:28:10.521694Z",
     "iopub.status.busy": "2023-10-13T16:28:10.521283Z",
     "iopub.status.idle": "2023-10-13T16:29:02.620999Z",
     "shell.execute_reply": "2023-10-13T16:29:02.619623Z",
     "shell.execute_reply.started": "2023-10-13T16:28:10.521663Z"
    }
   },
   "outputs": [],
   "source": [
    "forest = RandomForestRegressor(random_state = 42, \n",
    "                               n_estimators = 154, \n",
    "                               max_leaf_nodes = 704, \n",
    "                               n_jobs = 2 \n",
    "                              )\n",
    "\n",
    "forest.fit(train_X, train_y)"
   ]
  },
  {
   "cell_type": "code",
   "execution_count": null,
   "metadata": {
    "execution": {
     "iopub.execute_input": "2023-10-13T16:29:02.623048Z",
     "iopub.status.busy": "2023-10-13T16:29:02.622527Z",
     "iopub.status.idle": "2023-10-13T16:29:06.428677Z",
     "shell.execute_reply": "2023-10-13T16:29:06.427348Z",
     "shell.execute_reply.started": "2023-10-13T16:29:02.623020Z"
    }
   },
   "outputs": [],
   "source": [
    "print(f\"Random forest train r2 score = {forest.score(train_X, train_y)}\")\n",
    "print(f\"Random forest test r2 score = {forest.score(test_X, test_y)}\")"
   ]
  },
  {
   "cell_type": "code",
   "execution_count": null,
   "metadata": {
    "execution": {
     "iopub.execute_input": "2023-10-13T16:29:06.430845Z",
     "iopub.status.busy": "2023-10-13T16:29:06.430496Z",
     "iopub.status.idle": "2023-10-13T16:31:53.659831Z",
     "shell.execute_reply": "2023-10-13T16:31:53.658645Z",
     "shell.execute_reply.started": "2023-10-13T16:29:06.430818Z"
    }
   },
   "outputs": [],
   "source": [
    "permutation = PermutationImportance(forest, random_state = 1).fit(test_X, test_y)\n",
    "eli5.show_weights(permutation, feature_names = test_X.columns.tolist())"
   ]
  },
  {
   "cell_type": "code",
   "execution_count": null,
   "metadata": {
    "execution": {
     "iopub.execute_input": "2023-10-13T16:31:53.661139Z",
     "iopub.status.busy": "2023-10-13T16:31:53.660842Z",
     "iopub.status.idle": "2023-10-13T16:39:50.171966Z",
     "shell.execute_reply": "2023-10-13T16:39:50.170326Z",
     "shell.execute_reply.started": "2023-10-13T16:31:53.661113Z"
    }
   },
   "outputs": [],
   "source": [
    "forest_scores = cross_val_score(RandomForestRegressor(random_state = 42, \n",
    "                                                      n_estimators = 154, \n",
    "                                                      max_leaf_nodes = 704\n",
    "                                                     ), \n",
    "                                X, y, cv = 5, n_jobs = 4\n",
    "                               )"
   ]
  },
  {
   "cell_type": "code",
   "execution_count": null,
   "metadata": {
    "execution": {
     "iopub.execute_input": "2023-10-13T16:39:50.174958Z",
     "iopub.status.busy": "2023-10-13T16:39:50.174492Z",
     "iopub.status.idle": "2023-10-13T16:39:50.182742Z",
     "shell.execute_reply": "2023-10-13T16:39:50.181361Z",
     "shell.execute_reply.started": "2023-10-13T16:39:50.174909Z"
    }
   },
   "outputs": [],
   "source": [
    "print(f\"Cross val scores for random forest = {forest_scores}\")\n",
    "print(f\"Mean cross val scores = {forest_scores.mean()}\")\n",
    "print(f\"Cross val scores standard deviation = {forest_scores.std()}\")"
   ]
  },
  {
   "cell_type": "code",
   "execution_count": null,
   "metadata": {
    "execution": {
     "iopub.execute_input": "2023-10-13T16:39:50.184971Z",
     "iopub.status.busy": "2023-10-13T16:39:50.184535Z",
     "iopub.status.idle": "2023-10-13T16:39:57.867866Z",
     "shell.execute_reply": "2023-10-13T16:39:57.866885Z",
     "shell.execute_reply.started": "2023-10-13T16:39:50.184935Z"
    }
   },
   "outputs": [],
   "source": [
    "histboost = HistGradientBoostingRegressor(random_state = 42, \n",
    "                                          learning_rate = 0.11, \n",
    "                                          max_leaf_nodes = 38, \n",
    "                                          scoring = \"r2\"\n",
    "                                         )\n",
    "\n",
    "histboost.fit(train_X, train_y)"
   ]
  },
  {
   "cell_type": "code",
   "execution_count": null,
   "metadata": {
    "execution": {
     "iopub.execute_input": "2023-10-13T16:39:57.869724Z",
     "iopub.status.busy": "2023-10-13T16:39:57.869246Z",
     "iopub.status.idle": "2023-10-13T16:39:59.998957Z",
     "shell.execute_reply": "2023-10-13T16:39:59.997928Z",
     "shell.execute_reply.started": "2023-10-13T16:39:57.869684Z"
    }
   },
   "outputs": [],
   "source": [
    "print(f\"Histogram Gradient Boosting train r2 score = {histboost.score(train_X, train_y)}\")\n",
    "print(f\"Histogram Gradient Boosting test r2 score = {histboost.score(test_X, test_y)}\")"
   ]
  },
  {
   "cell_type": "code",
   "execution_count": null,
   "metadata": {
    "execution": {
     "iopub.execute_input": "2023-10-13T16:40:00.000772Z",
     "iopub.status.busy": "2023-10-13T16:40:00.000309Z",
     "iopub.status.idle": "2023-10-13T16:40:57.830459Z",
     "shell.execute_reply": "2023-10-13T16:40:57.829183Z",
     "shell.execute_reply.started": "2023-10-13T16:40:00.000726Z"
    }
   },
   "outputs": [],
   "source": [
    "histboost_scores = cross_val_score(HistGradientBoostingRegressor(random_state = 42, \n",
    "                                                                 learning_rate = 0.11, \n",
    "                                                                 max_leaf_nodes = 38, \n",
    "                                                                 scoring = \"r2\"\n",
    "                                                                ),\n",
    "                                   X, y, cv = 5, n_jobs = 4\n",
    "                                  )"
   ]
  },
  {
   "cell_type": "code",
   "execution_count": null,
   "metadata": {
    "execution": {
     "iopub.execute_input": "2023-10-13T16:40:57.832515Z",
     "iopub.status.busy": "2023-10-13T16:40:57.832065Z",
     "iopub.status.idle": "2023-10-13T16:40:57.838516Z",
     "shell.execute_reply": "2023-10-13T16:40:57.837774Z",
     "shell.execute_reply.started": "2023-10-13T16:40:57.832476Z"
    }
   },
   "outputs": [],
   "source": [
    "print(f\"Cross val scores for Histogram Gradient Boosting = {histboost_scores}\")\n",
    "print(f\"Mean cross val scores = {histboost_scores.mean()}\")\n",
    "print(f\"Cross val scores standard deviation = {histboost_scores.std()}\")"
   ]
  },
  {
   "cell_type": "code",
   "execution_count": null,
   "metadata": {
    "execution": {
     "iopub.execute_input": "2023-10-13T16:40:57.840515Z",
     "iopub.status.busy": "2023-10-13T16:40:57.839965Z",
     "iopub.status.idle": "2023-10-13T16:40:57.931055Z",
     "shell.execute_reply": "2023-10-13T16:40:57.930020Z",
     "shell.execute_reply.started": "2023-10-13T16:40:57.840484Z"
    }
   },
   "outputs": [],
   "source": [
    "lgbr_X = X.copy()\n",
    "\n",
    "lgbr_X = lgbr_X.rename(columns = lambda x: re.sub('[^A-Za-z0-9_]+', '', x))\n",
    "\n",
    "lgbr_train_X, lgbr_test_X, lgbr_train_y, lgbr_test_y = train_test_split(lgbr_X, y, \n",
    "                                                                        random_state = 42, \n",
    "                                                                        test_size = 0.6\n",
    "                                                                       ) "
   ]
  },
  {
   "cell_type": "code",
   "execution_count": null,
   "metadata": {
    "execution": {
     "iopub.execute_input": "2023-10-13T19:09:20.677556Z",
     "iopub.status.busy": "2023-10-13T19:09:20.677130Z",
     "iopub.status.idle": "2023-10-13T19:09:28.047009Z",
     "shell.execute_reply": "2023-10-13T19:09:28.045861Z",
     "shell.execute_reply.started": "2023-10-13T19:09:20.677517Z"
    }
   },
   "outputs": [],
   "source": [
    "lgbmr = LGBMRegressor(n_estimators = 674,\n",
    "                      max_depth = 21, \n",
    "                      learning_rate = 0.12, \n",
    "                      num_leaves = 32 \n",
    "                     )\n",
    "\n",
    "lgbmr.fit(lgbr_train_X, lgbr_train_y)"
   ]
  },
  {
   "cell_type": "code",
   "execution_count": null,
   "metadata": {
    "execution": {
     "iopub.execute_input": "2023-10-13T19:09:28.049498Z",
     "iopub.status.busy": "2023-10-13T19:09:28.049147Z",
     "iopub.status.idle": "2023-10-13T19:09:31.585246Z",
     "shell.execute_reply": "2023-10-13T19:09:31.584475Z",
     "shell.execute_reply.started": "2023-10-13T19:09:28.049470Z"
    }
   },
   "outputs": [],
   "source": [
    "print(f\"LGBM train r2 score = {lgbmr.score(lgbr_train_X, lgbr_train_y)}\")\n",
    "print(f\"LGBM test r2 score = {lgbmr.score(lgbr_test_X, lgbr_test_y)}\")"
   ]
  },
  {
   "cell_type": "code",
   "execution_count": null,
   "metadata": {
    "execution": {
     "iopub.execute_input": "2023-10-13T19:09:31.587165Z",
     "iopub.status.busy": "2023-10-13T19:09:31.586221Z",
     "iopub.status.idle": "2023-10-13T19:10:17.251151Z",
     "shell.execute_reply": "2023-10-13T19:10:17.249892Z",
     "shell.execute_reply.started": "2023-10-13T19:09:31.587125Z"
    }
   },
   "outputs": [],
   "source": [
    "lgbmr_scores = cross_val_score(LGBMRegressor(n_estimators = 674,\n",
    "                                             max_depth = 21, \n",
    "                                             learning_rate = 0.12, \n",
    "                                             num_leaves = 32 \n",
    "                                            ), \n",
    "                               lgbr_X, y,\n",
    "                               cv = 5,\n",
    "                               n_jobs = 4\n",
    "                              )"
   ]
  },
  {
   "cell_type": "code",
   "execution_count": null,
   "metadata": {
    "execution": {
     "iopub.execute_input": "2023-10-13T19:10:17.255227Z",
     "iopub.status.busy": "2023-10-13T19:10:17.254735Z",
     "iopub.status.idle": "2023-10-13T19:10:17.263507Z",
     "shell.execute_reply": "2023-10-13T19:10:17.262260Z",
     "shell.execute_reply.started": "2023-10-13T19:10:17.255176Z"
    }
   },
   "outputs": [],
   "source": [
    "print(f\"LGBM scores = {lgbmr_scores}\")\n",
    "print(f\"LGBM mean score = {lgbmr_scores.mean()}\")\n",
    "print(f\"LGBM score standard deviation = {lgbmr_scores.std()}\")"
   ]
  },
  {
   "cell_type": "code",
   "execution_count": null,
   "metadata": {
    "execution": {
     "iopub.execute_input": "2023-10-13T16:42:07.274531Z",
     "iopub.status.busy": "2023-10-13T16:42:07.274203Z",
     "iopub.status.idle": "2023-10-13T16:42:24.467673Z",
     "shell.execute_reply": "2023-10-13T16:42:24.466699Z",
     "shell.execute_reply.started": "2023-10-13T16:42:07.274503Z"
    }
   },
   "outputs": [],
   "source": [
    "xgbr = Pipeline([\n",
    "         ('scaler', StandardScaler()),\n",
    "         ('xgbr', XGBRegressor(random_state = 1,\n",
    "                               n_estimators = 200, \n",
    "                               learning_rate = 0.1,\n",
    "                               base_score = 0.5\n",
    "                              )\n",
    "         ) \n",
    "        ])\n",
    "\n",
    "xgbr.fit(train_X, train_y)"
   ]
  },
  {
   "cell_type": "code",
   "execution_count": null,
   "metadata": {
    "execution": {
     "iopub.execute_input": "2023-10-13T16:42:24.469556Z",
     "iopub.status.busy": "2023-10-13T16:42:24.469245Z",
     "iopub.status.idle": "2023-10-13T16:42:25.421172Z",
     "shell.execute_reply": "2023-10-13T16:42:25.420109Z",
     "shell.execute_reply.started": "2023-10-13T16:42:24.469530Z"
    }
   },
   "outputs": [],
   "source": [
    "print(f\"XGBoost train r2 score = {xgbr.score(train_X, train_y)}\")\n",
    "print(f\"XGBoost test r2 score = {xgbr.score(test_X, test_y)}\")"
   ]
  },
  {
   "cell_type": "code",
   "execution_count": null,
   "metadata": {
    "execution": {
     "iopub.execute_input": "2023-10-13T16:42:25.422875Z",
     "iopub.status.busy": "2023-10-13T16:42:25.422530Z",
     "iopub.status.idle": "2023-10-13T16:45:18.657147Z",
     "shell.execute_reply": "2023-10-13T16:45:18.655895Z",
     "shell.execute_reply.started": "2023-10-13T16:42:25.422848Z"
    }
   },
   "outputs": [],
   "source": [
    "xgbr_scores = cross_val_score(\n",
    "                Pipeline([\n",
    "                    ('scaler', StandardScaler()),\n",
    "                    ('xgbr', XGBRegressor(random_state = 1,\n",
    "                                          n_estimators = 200, \n",
    "                                          learning_rate = 0.1,\n",
    "                                          base_score = 0.5\n",
    "                                         ))\n",
    "                ]), X, y, cv = 5, n_jobs = 2\n",
    "              )"
   ]
  },
  {
   "cell_type": "code",
   "execution_count": null,
   "metadata": {
    "execution": {
     "iopub.execute_input": "2023-10-13T16:45:18.658807Z",
     "iopub.status.busy": "2023-10-13T16:45:18.658517Z",
     "iopub.status.idle": "2023-10-13T16:45:18.664147Z",
     "shell.execute_reply": "2023-10-13T16:45:18.663382Z",
     "shell.execute_reply.started": "2023-10-13T16:45:18.658783Z"
    }
   },
   "outputs": [],
   "source": [
    "print(f\"Cross val scores for XGBoost = {xgbr_scores}\")\n",
    "print(f\"Mean cross val scores = {xgbr_scores.mean()}\")\n",
    "print(f\"Cross val scores standard deviation = {xgbr_scores.std()}\")"
   ]
  },
  {
   "cell_type": "code",
   "execution_count": null,
   "metadata": {
    "execution": {
     "iopub.execute_input": "2023-10-13T16:45:18.666157Z",
     "iopub.status.busy": "2023-10-13T16:45:18.665738Z",
     "iopub.status.idle": "2023-10-13T16:45:18.727302Z",
     "shell.execute_reply": "2023-10-13T16:45:18.726347Z",
     "shell.execute_reply.started": "2023-10-13T16:45:18.666131Z"
    }
   },
   "outputs": [],
   "source": [
    "scaler = StandardScaler().fit(train_X)\n",
    "\n",
    "train_X_scaled = scaler.transform(train_X)\n",
    "test_X_scaled = scaler.transform(test_X)"
   ]
  },
  {
   "cell_type": "code",
   "execution_count": null,
   "metadata": {
    "execution": {
     "iopub.execute_input": "2023-10-13T16:45:18.729229Z",
     "iopub.status.busy": "2023-10-13T16:45:18.728351Z",
     "iopub.status.idle": "2023-10-13T16:45:18.994316Z",
     "shell.execute_reply": "2023-10-13T16:45:18.993112Z",
     "shell.execute_reply.started": "2023-10-13T16:45:18.729194Z"
    }
   },
   "outputs": [],
   "source": [
    "neural_net = tf.keras.Sequential([\n",
    "                layers.Dense(128, input_shape = [train_X_scaled.shape[1]], activation = 'relu'),\n",
    "                layers.Dense(16, activation = 'relu'),\n",
    "                layers.Dense(8),\n",
    "                layers.Dense(1)\n",
    "             ])"
   ]
  },
  {
   "cell_type": "code",
   "execution_count": null,
   "metadata": {
    "execution": {
     "iopub.execute_input": "2023-10-13T16:45:18.996081Z",
     "iopub.status.busy": "2023-10-13T16:45:18.995725Z",
     "iopub.status.idle": "2023-10-13T16:45:19.018294Z",
     "shell.execute_reply": "2023-10-13T16:45:19.017143Z",
     "shell.execute_reply.started": "2023-10-13T16:45:18.996049Z"
    }
   },
   "outputs": [],
   "source": [
    "neural_net.compile(optimizer = 'adam',\n",
    "                   loss = 'mse',\n",
    "                   metrics = ['mean_absolute_error']\n",
    "                  )"
   ]
  },
  {
   "cell_type": "code",
   "execution_count": null,
   "metadata": {
    "execution": {
     "iopub.execute_input": "2023-10-13T16:45:19.020847Z",
     "iopub.status.busy": "2023-10-13T16:45:19.020223Z",
     "iopub.status.idle": "2023-10-13T16:47:42.064847Z",
     "shell.execute_reply": "2023-10-13T16:47:42.063530Z",
     "shell.execute_reply.started": "2023-10-13T16:45:19.020801Z"
    }
   },
   "outputs": [],
   "source": [
    "history = neural_net.fit(train_X_scaled, \n",
    "                         train_y, \n",
    "                         validation_data = (test_X_scaled, test_y),\n",
    "                         epochs = 14\n",
    "                        )"
   ]
  },
  {
   "cell_type": "code",
   "execution_count": null,
   "metadata": {
    "execution": {
     "iopub.execute_input": "2023-10-13T16:47:42.067532Z",
     "iopub.status.busy": "2023-10-13T16:47:42.067062Z",
     "iopub.status.idle": "2023-10-13T16:47:42.081173Z",
     "shell.execute_reply": "2023-10-13T16:47:42.080127Z",
     "shell.execute_reply.started": "2023-10-13T16:47:42.067491Z"
    }
   },
   "outputs": [],
   "source": [
    "history_df = pd.DataFrame(history.history)\n",
    "\n",
    "display(history_df.head())"
   ]
  },
  {
   "cell_type": "code",
   "execution_count": null,
   "metadata": {
    "execution": {
     "iopub.execute_input": "2023-10-13T16:47:42.083129Z",
     "iopub.status.busy": "2023-10-13T16:47:42.082752Z",
     "iopub.status.idle": "2023-10-13T16:47:42.669394Z",
     "shell.execute_reply": "2023-10-13T16:47:42.668373Z",
     "shell.execute_reply.started": "2023-10-13T16:47:42.083100Z"
    }
   },
   "outputs": [],
   "source": [
    "fig, axes = plt.subplots(1, 2, figsize = (10, 5))\n",
    "\n",
    "sns.lineplot(history_df.loc[:, ['loss', 'val_loss']], \n",
    "             ax = axes[0], \n",
    "             palette = ['Blue', 'Green']\n",
    "            ).set(title = \"Tensorflow Regression Loss\")\n",
    "\n",
    "sns.lineplot(history_df.loc[:, ['mean_absolute_error', 'val_mean_absolute_error']], \n",
    "             ax = axes[1], \n",
    "             palette = ['DarkBlue', 'DarkGreen']\n",
    "            ).set(title = \"Tensorflow MAE\")\n",
    "\n",
    "plt.show()"
   ]
  },
  {
   "cell_type": "code",
   "execution_count": null,
   "metadata": {
    "execution": {
     "iopub.execute_input": "2023-10-13T16:47:42.671318Z",
     "iopub.status.busy": "2023-10-13T16:47:42.670904Z",
     "iopub.status.idle": "2023-10-13T16:47:58.224309Z",
     "shell.execute_reply": "2023-10-13T16:47:58.223447Z",
     "shell.execute_reply.started": "2023-10-13T16:47:42.671279Z"
    }
   },
   "outputs": [],
   "source": [
    "predict_train_y = neural_net.predict(train_X_scaled) \n",
    "predict_y = neural_net.predict(test_X_scaled)"
   ]
  },
  {
   "cell_type": "code",
   "execution_count": null,
   "metadata": {
    "execution": {
     "iopub.execute_input": "2023-10-13T16:47:58.226369Z",
     "iopub.status.busy": "2023-10-13T16:47:58.226038Z",
     "iopub.status.idle": "2023-10-13T16:47:58.235196Z",
     "shell.execute_reply": "2023-10-13T16:47:58.234426Z",
     "shell.execute_reply.started": "2023-10-13T16:47:58.226342Z"
    }
   },
   "outputs": [],
   "source": [
    "print(f\"Neural Network train r2 score = {r2_score(predict_train_y, train_y)}\")\n",
    "print(f\"Neural Network test r2 score = {r2_score(predict_y, test_y)}\")"
   ]
  },
  {
   "cell_type": "code",
   "execution_count": null,
   "metadata": {
    "execution": {
     "iopub.execute_input": "2023-10-13T16:47:58.237249Z",
     "iopub.status.busy": "2023-10-13T16:47:58.236260Z",
     "iopub.status.idle": "2023-10-13T16:47:58.383535Z",
     "shell.execute_reply": "2023-10-13T16:47:58.382562Z",
     "shell.execute_reply.started": "2023-10-13T16:47:58.237220Z"
    }
   },
   "outputs": [],
   "source": [
    "nn_X = X.copy()\n",
    "\n",
    "nn_X = pd.DataFrame(preprocessor.fit_transform(nn_X))"
   ]
  },
  {
   "cell_type": "code",
   "execution_count": null,
   "metadata": {
    "execution": {
     "iopub.execute_input": "2023-10-13T16:47:58.386034Z",
     "iopub.status.busy": "2023-10-13T16:47:58.385076Z",
     "iopub.status.idle": "2023-10-13T16:47:58.391602Z",
     "shell.execute_reply": "2023-10-13T16:47:58.390298Z",
     "shell.execute_reply.started": "2023-10-13T16:47:58.385992Z"
    }
   },
   "outputs": [],
   "source": [
    "early_stopping = callbacks.EarlyStopping(patience = 5)"
   ]
  },
  {
   "cell_type": "code",
   "execution_count": null,
   "metadata": {
    "execution": {
     "iopub.execute_input": "2023-10-13T16:47:58.393400Z",
     "iopub.status.busy": "2023-10-13T16:47:58.393082Z",
     "iopub.status.idle": "2023-10-13T17:08:29.253292Z",
     "shell.execute_reply": "2023-10-13T17:08:29.251998Z",
     "shell.execute_reply.started": "2023-10-13T16:47:58.393374Z"
    }
   },
   "outputs": [],
   "source": [
    "model = tf.keras.Sequential([\n",
    "                layers.Dense(256, input_shape = [nn_X.shape[1]], activation = 'relu'),\n",
    "                layers.Dense(128, activation = 'relu'),\n",
    "                layers.Dense(64, activation = 'relu'),\n",
    "                layers.Dense(64, activation = 'relu'),\n",
    "                layers.Dense(16),\n",
    "                layers.Dense(1)\n",
    "        ])\n",
    "\n",
    "model.compile(optimizer = 'adam', loss = 'mse', metrics = ['mae'])\n",
    "\n",
    "scikeras_model = KerasRegressor(model, \n",
    "                                callbacks = [early_stopping], \n",
    "                                epochs = 424, \n",
    "                                batch_size = 64,\n",
    "                                verbose = 0\n",
    "                               )\n",
    "\n",
    "nn_X_train, nn_X_test, nn_y_train, nn_y_test = train_test_split(nn_X, y, \n",
    "                                                                random_state = 1, \n",
    "                                                                test_size= 0.6\n",
    "                                                               )\n",
    "\n",
    "hist = scikeras_model.fit(nn_X_train, nn_y_train)\n",
    "\n",
    "nn_y_tr_pred = scikeras_model.predict(nn_X_train)\n",
    "nn_y_ts_pred = scikeras_model.predict(nn_X_test)\n",
    "\n",
    "print(f\"Neural Network train r2 score = {r2_score(nn_y_tr_pred, nn_y_train)}\")\n",
    "print(f\"Neural Network test r2 score = {r2_score(nn_y_ts_pred, nn_y_test)}\")"
   ]
  },
  {
   "cell_type": "code",
   "execution_count": null,
   "metadata": {
    "execution": {
     "iopub.execute_input": "2023-10-13T17:08:29.255401Z",
     "iopub.status.busy": "2023-10-13T17:08:29.255092Z",
     "iopub.status.idle": "2023-10-13T17:08:30.484801Z",
     "shell.execute_reply": "2023-10-13T17:08:30.483841Z",
     "shell.execute_reply.started": "2023-10-13T17:08:29.255375Z"
    }
   },
   "outputs": [],
   "source": [
    "filename = \"neural_network_98and96\"\n",
    "\n",
    "model.save(f\"/kaggle/working/{filename}\")"
   ]
  },
  {
   "cell_type": "code",
   "execution_count": null,
   "metadata": {
    "execution": {
     "iopub.execute_input": "2023-10-13T17:08:30.488230Z",
     "iopub.status.busy": "2023-10-13T17:08:30.487500Z",
     "iopub.status.idle": "2023-10-13T17:08:41.307864Z",
     "shell.execute_reply": "2023-10-13T17:08:41.306513Z",
     "shell.execute_reply.started": "2023-10-13T17:08:30.488187Z"
    }
   },
   "outputs": [],
   "source": [
    "saved_model = tf.keras.models.load_model(f\"/kaggle/working/{filename}\")\n",
    "\n",
    "saved_pred = saved_model.predict(nn_X_test)\n",
    "\n",
    "print(f\"Score = {r2_score(saved_pred, nn_y_test)}\")"
   ]
  },
  {
   "cell_type": "code",
   "execution_count": null,
   "metadata": {
    "execution": {
     "iopub.execute_input": "2023-10-13T23:23:43.622231Z",
     "iopub.status.busy": "2023-10-13T23:23:43.620297Z",
     "iopub.status.idle": "2023-10-13T23:23:43.714872Z",
     "shell.execute_reply": "2023-10-13T23:23:43.713803Z",
     "shell.execute_reply.started": "2023-10-13T23:23:43.622187Z"
    }
   },
   "outputs": [],
   "source": [
    "model = tf.keras.Sequential([\n",
    "                layers.Dense(64, input_shape = [nn_X.shape[1]], activation = 'relu'),\n",
    "                layers.Dense(16, activation = 'relu'),\n",
    "                layers.Dense(8),\n",
    "                layers.Dense(1)\n",
    "        ])\n",
    "\n",
    "model.compile(optimizer = 'adam', loss = 'mse', metrics = ['mae'])"
   ]
  },
  {
   "cell_type": "code",
   "execution_count": null,
   "metadata": {
    "execution": {
     "iopub.execute_input": "2023-10-13T23:23:46.126486Z",
     "iopub.status.busy": "2023-10-13T23:23:46.126107Z",
     "iopub.status.idle": "2023-10-13T23:23:46.135741Z",
     "shell.execute_reply": "2023-10-13T23:23:46.134650Z",
     "shell.execute_reply.started": "2023-10-13T23:23:46.126456Z"
    }
   },
   "outputs": [],
   "source": [
    "scikeras_model = KerasRegressor(model, \n",
    "                                callbacks = [early_stopping], \n",
    "                                epochs = 54, \n",
    "                                batch_size = 16,\n",
    "                                verbose = 0\n",
    "                               )"
   ]
  },
  {
   "cell_type": "code",
   "execution_count": null,
   "metadata": {
    "execution": {
     "iopub.execute_input": "2023-10-13T23:23:48.600915Z",
     "iopub.status.busy": "2023-10-13T23:23:48.600542Z",
     "iopub.status.idle": "2023-10-14T00:22:25.622040Z",
     "shell.execute_reply": "2023-10-14T00:22:25.620610Z",
     "shell.execute_reply.started": "2023-10-13T23:23:48.600888Z"
    }
   },
   "outputs": [],
   "source": [
    "neural_net_scores = cross_val_score(scikeras_model, \n",
    "                                    nn_X, y, \n",
    "                                    cv = 4, n_jobs = 4\n",
    "                                   )"
   ]
  },
  {
   "cell_type": "code",
   "execution_count": null,
   "metadata": {
    "execution": {
     "iopub.execute_input": "2023-10-14T00:22:25.624968Z",
     "iopub.status.busy": "2023-10-14T00:22:25.624367Z",
     "iopub.status.idle": "2023-10-14T00:22:25.639568Z",
     "shell.execute_reply": "2023-10-14T00:22:25.638505Z",
     "shell.execute_reply.started": "2023-10-14T00:22:25.624929Z"
    }
   },
   "outputs": [],
   "source": [
    "print(f\"Cross val scores for Neural Network = {neural_net_scores}\")\n",
    "print(f\"Mean cross val scores = {neural_net_scores.mean()}\")\n",
    "print(f\"Cross val scores standard deviation = {neural_net_scores.std()}\")"
   ]
  },
  {
   "cell_type": "code",
   "execution_count": null,
   "metadata": {
    "execution": {
     "iopub.execute_input": "2023-10-13T19:07:04.784027Z",
     "iopub.status.busy": "2023-10-13T19:07:04.783668Z",
     "iopub.status.idle": "2023-10-13T19:07:04.889118Z",
     "shell.execute_reply": "2023-10-13T19:07:04.887888Z",
     "shell.execute_reply.started": "2023-10-13T19:07:04.783999Z"
    }
   },
   "outputs": [],
   "source": [
    "X_transformed = pd.DataFrame(preprocessor.fit_transform(X))"
   ]
  },
  {
   "cell_type": "code",
   "execution_count": null,
   "metadata": {
    "execution": {
     "iopub.execute_input": "2023-10-13T19:11:18.858710Z",
     "iopub.status.busy": "2023-10-13T19:11:18.858335Z",
     "iopub.status.idle": "2023-10-13T19:11:18.864767Z",
     "shell.execute_reply": "2023-10-13T19:11:18.863502Z",
     "shell.execute_reply.started": "2023-10-13T19:11:18.858682Z"
    }
   },
   "outputs": [],
   "source": [
    "X_transformed.columns = numeric_X_features + [f'weather_type{i}' for i in range(1, 6)]"
   ]
  },
  {
   "cell_type": "code",
   "execution_count": null,
   "metadata": {
    "execution": {
     "iopub.execute_input": "2023-10-13T19:11:21.423506Z",
     "iopub.status.busy": "2023-10-13T19:11:21.423051Z",
     "iopub.status.idle": "2023-10-13T19:11:23.086342Z",
     "shell.execute_reply": "2023-10-13T19:11:23.084889Z",
     "shell.execute_reply.started": "2023-10-13T19:11:21.423477Z"
    }
   },
   "outputs": [],
   "source": [
    "pca = PCA(n_components = 2)\n",
    "pca.fit(X_transformed)"
   ]
  },
  {
   "cell_type": "code",
   "execution_count": null,
   "metadata": {
    "execution": {
     "iopub.execute_input": "2023-10-13T19:11:24.102885Z",
     "iopub.status.busy": "2023-10-13T19:11:24.102472Z",
     "iopub.status.idle": "2023-10-13T19:11:24.159259Z",
     "shell.execute_reply": "2023-10-13T19:11:24.157096Z",
     "shell.execute_reply.started": "2023-10-13T19:11:24.102854Z"
    }
   },
   "outputs": [],
   "source": [
    "X_pca = pca.transform(X_transformed)\n",
    "print(\"Original shape: \", X_transformed.shape)\n",
    "print(\"Transformed shape: \", X_pca.shape)"
   ]
  },
  {
   "cell_type": "code",
   "execution_count": null,
   "metadata": {
    "execution": {
     "iopub.execute_input": "2023-10-13T19:17:02.561308Z",
     "iopub.status.busy": "2023-10-13T19:17:02.560941Z",
     "iopub.status.idle": "2023-10-13T19:17:03.210908Z",
     "shell.execute_reply": "2023-10-13T19:17:03.209743Z",
     "shell.execute_reply.started": "2023-10-13T19:17:02.561280Z"
    }
   },
   "outputs": [],
   "source": [
    "plt.matshow(pca.components_, cmap = 'viridis')\n",
    "plt.yticks([0, 1], [\"First component\", \"Second component\"])\n",
    "plt.colorbar()\n",
    "plt.xticks(range(len(X_transformed.columns)), X_transformed.columns, rotation = 60, ha = 'left')\n",
    "plt.show()"
   ]
  },
  {
   "cell_type": "code",
   "execution_count": null,
   "metadata": {
    "execution": {
     "iopub.execute_input": "2023-10-13T19:17:09.797972Z",
     "iopub.status.busy": "2023-10-13T19:17:09.797497Z",
     "iopub.status.idle": "2023-10-13T19:17:09.806163Z",
     "shell.execute_reply": "2023-10-13T19:17:09.804889Z",
     "shell.execute_reply.started": "2023-10-13T19:17:09.797943Z"
    }
   },
   "outputs": [],
   "source": [
    "# print best features by name and by most important to least important\n",
    "print(f\"Best features by name: {X_transformed.columns[np.argsort(pca.components_[0])][::-1]}\\n\")\n",
    "print(f\"Best features by importance: {np.sort(pca.components_[0])[::-1]}\\n\")"
   ]
  },
  {
   "cell_type": "code",
   "execution_count": null,
   "metadata": {
    "execution": {
     "iopub.execute_input": "2023-10-13T19:17:24.932396Z",
     "iopub.status.busy": "2023-10-13T19:17:24.932023Z",
     "iopub.status.idle": "2023-10-13T19:17:28.998905Z",
     "shell.execute_reply": "2023-10-13T19:17:28.997722Z",
     "shell.execute_reply.started": "2023-10-13T19:17:24.932369Z"
    }
   },
   "outputs": [],
   "source": [
    "plt.figure(figsize = (8, 8))\n",
    "plt.scatter(X_pca[:, 0], X_pca[:, 1], c = y, cmap = 'viridis')\n",
    "plt.xlabel('First principal component')\n",
    "plt.ylabel('Second principal component')\n",
    "plt.show()"
   ]
  },
  {
   "cell_type": "code",
   "execution_count": null,
   "metadata": {
    "execution": {
     "iopub.execute_input": "2023-10-13T19:17:52.405015Z",
     "iopub.status.busy": "2023-10-13T19:17:52.404645Z",
     "iopub.status.idle": "2023-10-13T19:17:52.410713Z",
     "shell.execute_reply": "2023-10-13T19:17:52.409522Z",
     "shell.execute_reply.started": "2023-10-13T19:17:52.404988Z"
    }
   },
   "outputs": [],
   "source": [
    "viz = ValidationCurve(\n",
    "        RandomForestRegressor(random_state = 1), \n",
    "        param_name = \"max_leaf_nodes\",\n",
    "        param_range = [10**x + 1 for x in range(1, 5)], \n",
    "        cv = 4, scoring = \"r2\",\n",
    "        logx = True,\n",
    "        n_jobs = 4\n",
    "      )"
   ]
  },
  {
   "cell_type": "code",
   "execution_count": null,
   "metadata": {
    "execution": {
     "iopub.execute_input": "2023-10-13T19:17:56.168211Z",
     "iopub.status.busy": "2023-10-13T19:17:56.167806Z",
     "iopub.status.idle": "2023-10-13T19:31:02.493653Z",
     "shell.execute_reply": "2023-10-13T19:31:02.492500Z",
     "shell.execute_reply.started": "2023-10-13T19:17:56.168181Z"
    }
   },
   "outputs": [],
   "source": [
    "viz.fit(X, y)"
   ]
  }
 ],
 "metadata": {
  "kernelspec": {
   "display_name": "Python 3 (ipykernel)",
   "language": "python",
   "name": "python3"
  },
  "language_info": {
   "codemirror_mode": {
    "name": "ipython",
    "version": 3
   },
   "file_extension": ".py",
   "mimetype": "text/x-python",
   "name": "python",
   "nbconvert_exporter": "python",
   "pygments_lexer": "ipython3",
   "version": "3.11.0rc1"
  }
 },
 "nbformat": 4,
 "nbformat_minor": 4
}
