{
 "cells": [
  {
   "cell_type": "markdown",
   "metadata": {},
   "source": [
    "<h1><b>Inf1038 - Aprendizado Automático<b></h1>\n",
    "<h4><b>Grupo:</b></h4> \n",
    " - Eduardo Luna: 2111484 <br>\n",
    " - Luca Ribeiro: 2112662 <br>\n",
    " - Lucas Larios: 2020723 <br>"
   ]
  },
  {
   "cell_type": "code",
   "execution_count": 4,
   "metadata": {},
   "outputs": [
    {
     "name": "stdout",
     "output_type": "stream",
     "text": [
      "Collecting eli5 (from -r requirements.txt (line 1))\n",
      "  Downloading eli5-0.13.0.tar.gz (216 kB)\n",
      "\u001b[2K     \u001b[90m━━━━━━━━━━━━━━━━━━━━━━━━━━━━━━━━━━━━━━━\u001b[0m \u001b[32m216.2/216.2 kB\u001b[0m \u001b[31m4.5 MB/s\u001b[0m eta \u001b[36m0:00:00\u001b[0m00:01\u001b[0m\n",
      "\u001b[?25h  Preparing metadata (setup.py) ... \u001b[?25ldone\n",
      "\u001b[?25hRequirement already satisfied: numpy in /usr/local/lib/python3.11/dist-packages (from -r requirements.txt (line 2)) (1.26.0)\n",
      "Collecting pandas (from -r requirements.txt (line 3))\n",
      "  Obtaining dependency information for pandas from https://files.pythonhosted.org/packages/de/ce/b5d9c7ce1aaf9023b823c81932a50cd5e8f407198a696b0d1c6025a40b03/pandas-2.1.1-cp311-cp311-manylinux_2_17_x86_64.manylinux2014_x86_64.whl.metadata\n",
      "  Downloading pandas-2.1.1-cp311-cp311-manylinux_2_17_x86_64.manylinux2014_x86_64.whl.metadata (18 kB)\n",
      "Collecting seaborn (from -r requirements.txt (line 4))\n",
      "  Obtaining dependency information for seaborn from https://files.pythonhosted.org/packages/7b/e5/83fcd7e9db036c179e0352bfcd20f81d728197a16f883e7b90307a88e65e/seaborn-0.13.0-py3-none-any.whl.metadata\n",
      "  Downloading seaborn-0.13.0-py3-none-any.whl.metadata (5.3 kB)\n",
      "Requirement already satisfied: tensorflow in /usr/local/lib/python3.11/dist-packages (from -r requirements.txt (line 5)) (2.14.0)\n",
      "Collecting torch (from -r requirements.txt (line 6))\n",
      "  Obtaining dependency information for torch from https://files.pythonhosted.org/packages/5b/13/fcabc86948f9e89b62a538670720f8589d63f93d3f4f3d172236a98e70f8/torch-2.1.0-cp311-cp311-manylinux1_x86_64.whl.metadata\n",
      "  Downloading torch-2.1.0-cp311-cp311-manylinux1_x86_64.whl.metadata (25 kB)\n",
      "Collecting lightgbm (from -r requirements.txt (line 7))\n",
      "  Obtaining dependency information for lightgbm from https://files.pythonhosted.org/packages/b8/9d/1ce80cee7c5ef60f2fcc7e9fa97f29f7a8de3dc5a08922b3b2f1e9106481/lightgbm-4.1.0-py3-none-manylinux_2_28_x86_64.whl.metadata\n",
      "  Downloading lightgbm-4.1.0-py3-none-manylinux_2_28_x86_64.whl.metadata (19 kB)\n",
      "Requirement already satisfied: matplotlib in /usr/local/lib/python3.11/dist-packages (from -r requirements.txt (line 8)) (3.8.0)\n",
      "Requirement already satisfied: scikeras in /usr/local/lib/python3.11/dist-packages (from -r requirements.txt (line 9)) (0.12.0)\n",
      "Requirement already satisfied: scikit-learn in /usr/local/lib/python3.11/dist-packages (from -r requirements.txt (line 10)) (1.3.2)\n",
      "Collecting skorch (from -r requirements.txt (line 11))\n",
      "  Obtaining dependency information for skorch from https://files.pythonhosted.org/packages/7a/7e/aca63fab758a7ddb1f043a0ee8c77f06bbb92d99bb8baf17047f09a328f5/skorch-0.15.0-py3-none-any.whl.metadata\n",
      "  Downloading skorch-0.15.0-py3-none-any.whl.metadata (11 kB)\n",
      "Collecting xgboost (from -r requirements.txt (line 12))\n",
      "  Obtaining dependency information for xgboost from https://files.pythonhosted.org/packages/ee/2c/03d466d00818c8e0ffcf778946ca4a5e05694a11b85bc51f1bc5c18ca54e/xgboost-2.0.1-py3-none-manylinux2014_x86_64.whl.metadata\n",
      "  Downloading xgboost-2.0.1-py3-none-manylinux2014_x86_64.whl.metadata (2.0 kB)\n",
      "Collecting yellowbrick (from -r requirements.txt (line 13))\n",
      "  Downloading yellowbrick-1.5-py3-none-any.whl (282 kB)\n",
      "\u001b[2K     \u001b[90m━━━━━━━━━━━━━━━━━━━━━━━━━━━━━━━━━━━━━━\u001b[0m \u001b[32m282.6/282.6 kB\u001b[0m \u001b[31m25.8 MB/s\u001b[0m eta \u001b[36m0:00:00\u001b[0m\n",
      "\u001b[?25hRequirement already satisfied: attrs>17.1.0 in /usr/local/lib/python3.11/dist-packages (from eli5->-r requirements.txt (line 1)) (23.1.0)\n",
      "Requirement already satisfied: jinja2>=3.0.0 in /usr/local/lib/python3.11/dist-packages (from eli5->-r requirements.txt (line 1)) (3.1.2)\n",
      "Requirement already satisfied: scipy in /usr/local/lib/python3.11/dist-packages (from eli5->-r requirements.txt (line 1)) (1.11.3)\n",
      "Requirement already satisfied: six in /usr/lib/python3/dist-packages (from eli5->-r requirements.txt (line 1)) (1.16.0)\n",
      "Collecting graphviz (from eli5->-r requirements.txt (line 1))\n",
      "  Downloading graphviz-0.20.1-py3-none-any.whl (47 kB)\n",
      "\u001b[2K     \u001b[90m━━━━━━━━━━━━━━━━━━━━━━━━━━━━━━━━━━━━━━━━\u001b[0m \u001b[32m47.0/47.0 kB\u001b[0m \u001b[31m8.8 MB/s\u001b[0m eta \u001b[36m0:00:00\u001b[0m\n",
      "\u001b[?25hCollecting tabulate>=0.7.7 (from eli5->-r requirements.txt (line 1))\n",
      "  Downloading tabulate-0.9.0-py3-none-any.whl (35 kB)\n",
      "Requirement already satisfied: python-dateutil>=2.8.2 in /usr/local/lib/python3.11/dist-packages (from pandas->-r requirements.txt (line 3)) (2.8.2)\n",
      "Collecting pytz>=2020.1 (from pandas->-r requirements.txt (line 3))\n",
      "  Obtaining dependency information for pytz>=2020.1 from https://files.pythonhosted.org/packages/32/4d/aaf7eff5deb402fd9a24a1449a8119f00d74ae9c2efa79f8ef9994261fc2/pytz-2023.3.post1-py2.py3-none-any.whl.metadata\n",
      "  Downloading pytz-2023.3.post1-py2.py3-none-any.whl.metadata (22 kB)\n",
      "Collecting tzdata>=2022.1 (from pandas->-r requirements.txt (line 3))\n",
      "  Downloading tzdata-2023.3-py2.py3-none-any.whl (341 kB)\n",
      "\u001b[2K     \u001b[90m━━━━━━━━━━━━━━━━━━━━━━━━━━━━━━━━━━━━━━\u001b[0m \u001b[32m341.8/341.8 kB\u001b[0m \u001b[31m25.7 MB/s\u001b[0m eta \u001b[36m0:00:00\u001b[0m\n",
      "\u001b[?25hRequirement already satisfied: absl-py>=1.0.0 in /usr/local/lib/python3.11/dist-packages (from tensorflow->-r requirements.txt (line 5)) (2.0.0)\n",
      "Requirement already satisfied: astunparse>=1.6.0 in /usr/local/lib/python3.11/dist-packages (from tensorflow->-r requirements.txt (line 5)) (1.6.3)\n",
      "Requirement already satisfied: flatbuffers>=23.5.26 in /usr/local/lib/python3.11/dist-packages (from tensorflow->-r requirements.txt (line 5)) (23.5.26)\n",
      "Requirement already satisfied: gast!=0.5.0,!=0.5.1,!=0.5.2,>=0.2.1 in /usr/local/lib/python3.11/dist-packages (from tensorflow->-r requirements.txt (line 5)) (0.5.4)\n",
      "Requirement already satisfied: google-pasta>=0.1.1 in /usr/local/lib/python3.11/dist-packages (from tensorflow->-r requirements.txt (line 5)) (0.2.0)\n",
      "Requirement already satisfied: h5py>=2.9.0 in /usr/local/lib/python3.11/dist-packages (from tensorflow->-r requirements.txt (line 5)) (3.9.0)\n",
      "Requirement already satisfied: libclang>=13.0.0 in /usr/local/lib/python3.11/dist-packages (from tensorflow->-r requirements.txt (line 5)) (16.0.6)\n",
      "Requirement already satisfied: ml-dtypes==0.2.0 in /usr/local/lib/python3.11/dist-packages (from tensorflow->-r requirements.txt (line 5)) (0.2.0)\n",
      "Requirement already satisfied: opt-einsum>=2.3.2 in /usr/local/lib/python3.11/dist-packages (from tensorflow->-r requirements.txt (line 5)) (3.3.0)\n",
      "Requirement already satisfied: packaging in /usr/local/lib/python3.11/dist-packages (from tensorflow->-r requirements.txt (line 5)) (23.1)\n",
      "Requirement already satisfied: protobuf!=4.21.0,!=4.21.1,!=4.21.2,!=4.21.3,!=4.21.4,!=4.21.5,<5.0.0dev,>=3.20.3 in /usr/local/lib/python3.11/dist-packages (from tensorflow->-r requirements.txt (line 5)) (4.24.3)\n",
      "Requirement already satisfied: setuptools in /usr/local/lib/python3.11/dist-packages (from tensorflow->-r requirements.txt (line 5)) (68.2.2)\n",
      "Requirement already satisfied: termcolor>=1.1.0 in /usr/local/lib/python3.11/dist-packages (from tensorflow->-r requirements.txt (line 5)) (2.3.0)\n",
      "Requirement already satisfied: typing-extensions>=3.6.6 in /usr/local/lib/python3.11/dist-packages (from tensorflow->-r requirements.txt (line 5)) (4.8.0)\n",
      "Requirement already satisfied: wrapt<1.15,>=1.11.0 in /usr/local/lib/python3.11/dist-packages (from tensorflow->-r requirements.txt (line 5)) (1.14.1)\n",
      "Requirement already satisfied: tensorflow-io-gcs-filesystem>=0.23.1 in /usr/local/lib/python3.11/dist-packages (from tensorflow->-r requirements.txt (line 5)) (0.34.0)\n",
      "Requirement already satisfied: grpcio<2.0,>=1.24.3 in /usr/local/lib/python3.11/dist-packages (from tensorflow->-r requirements.txt (line 5)) (1.58.0)\n",
      "Requirement already satisfied: tensorboard<2.15,>=2.14 in /usr/local/lib/python3.11/dist-packages (from tensorflow->-r requirements.txt (line 5)) (2.14.0)\n",
      "Requirement already satisfied: tensorflow-estimator<2.15,>=2.14.0 in /usr/local/lib/python3.11/dist-packages (from tensorflow->-r requirements.txt (line 5)) (2.14.0)\n",
      "Requirement already satisfied: keras<2.15,>=2.14.0 in /usr/local/lib/python3.11/dist-packages (from tensorflow->-r requirements.txt (line 5)) (2.14.0)\n",
      "Collecting filelock (from torch->-r requirements.txt (line 6))\n",
      "  Obtaining dependency information for filelock from https://files.pythonhosted.org/packages/5e/5d/97afbafd9d584ff1b45fcb354a479a3609bd97f912f8f1f6c563cb1fae21/filelock-3.12.4-py3-none-any.whl.metadata\n",
      "  Downloading filelock-3.12.4-py3-none-any.whl.metadata (2.8 kB)\n",
      "Collecting sympy (from torch->-r requirements.txt (line 6))\n",
      "  Downloading sympy-1.12-py3-none-any.whl (5.7 MB)\n",
      "\u001b[2K     \u001b[90m━━━━━━━━━━━━━━━━━━━━━━━━━━━━━━━━━━━━━━━━\u001b[0m \u001b[32m5.7/5.7 MB\u001b[0m \u001b[31m34.9 MB/s\u001b[0m eta \u001b[36m0:00:00\u001b[0ma \u001b[36m0:00:01\u001b[0m\n",
      "\u001b[?25hCollecting networkx (from torch->-r requirements.txt (line 6))\n",
      "  Obtaining dependency information for networkx from https://files.pythonhosted.org/packages/f6/eb/5585c96636bbb2755865c31d83a19dd220ef88e716df4659dacb86e009cc/networkx-3.2-py3-none-any.whl.metadata\n",
      "  Downloading networkx-3.2-py3-none-any.whl.metadata (5.2 kB)\n",
      "Collecting fsspec (from torch->-r requirements.txt (line 6))\n",
      "  Obtaining dependency information for fsspec from https://files.pythonhosted.org/packages/e8/f6/3eccfb530aac90ad1301c582da228e4763f19e719ac8200752a4841b0b2d/fsspec-2023.10.0-py3-none-any.whl.metadata\n",
      "  Downloading fsspec-2023.10.0-py3-none-any.whl.metadata (6.8 kB)\n",
      "Collecting nvidia-cuda-nvrtc-cu12==12.1.105 (from torch->-r requirements.txt (line 6))\n",
      "  Downloading nvidia_cuda_nvrtc_cu12-12.1.105-py3-none-manylinux1_x86_64.whl (23.7 MB)\n",
      "\u001b[2K     \u001b[90m━━━━━━━━━━━━━━━━━━━━━━━━━━━━━━━━━━━━━━━━\u001b[0m \u001b[32m23.7/23.7 MB\u001b[0m \u001b[31m30.7 MB/s\u001b[0m eta \u001b[36m0:00:00\u001b[0m00:01\u001b[0m00:01\u001b[0m\n",
      "\u001b[?25hCollecting nvidia-cuda-runtime-cu12==12.1.105 (from torch->-r requirements.txt (line 6))\n",
      "  Downloading nvidia_cuda_runtime_cu12-12.1.105-py3-none-manylinux1_x86_64.whl (823 kB)\n",
      "\u001b[2K     \u001b[90m━━━━━━━━━━━━━━━━━━━━━━━━━━━━━━━━━━━━━━\u001b[0m \u001b[32m823.6/823.6 kB\u001b[0m \u001b[31m34.7 MB/s\u001b[0m eta \u001b[36m0:00:00\u001b[0m\n",
      "\u001b[?25hCollecting nvidia-cuda-cupti-cu12==12.1.105 (from torch->-r requirements.txt (line 6))\n",
      "  Downloading nvidia_cuda_cupti_cu12-12.1.105-py3-none-manylinux1_x86_64.whl (14.1 MB)\n",
      "\u001b[2K     \u001b[90m━━━━━━━━━━━━━━━━━━━━━━━━━━━━━━━━━━━━━━━━\u001b[0m \u001b[32m14.1/14.1 MB\u001b[0m \u001b[31m32.3 MB/s\u001b[0m eta \u001b[36m0:00:00\u001b[0m00:01\u001b[0m00:01\u001b[0m\n",
      "\u001b[?25hCollecting nvidia-cudnn-cu12==8.9.2.26 (from torch->-r requirements.txt (line 6))\n",
      "  Obtaining dependency information for nvidia-cudnn-cu12==8.9.2.26 from https://files.pythonhosted.org/packages/ff/74/a2e2be7fb83aaedec84f391f082cf765dfb635e7caa9b49065f73e4835d8/nvidia_cudnn_cu12-8.9.2.26-py3-none-manylinux1_x86_64.whl.metadata\n",
      "  Downloading nvidia_cudnn_cu12-8.9.2.26-py3-none-manylinux1_x86_64.whl.metadata (1.6 kB)\n",
      "Collecting nvidia-cublas-cu12==12.1.3.1 (from torch->-r requirements.txt (line 6))\n",
      "  Downloading nvidia_cublas_cu12-12.1.3.1-py3-none-manylinux1_x86_64.whl (410.6 MB)\n",
      "\u001b[2K     \u001b[90m━━━━━━━━━━━━━━━━━━━━━━━━━━━━━━━━━━━━━━━\u001b[0m \u001b[32m410.6/410.6 MB\u001b[0m \u001b[31m7.8 MB/s\u001b[0m eta \u001b[36m0:00:00\u001b[0m00:01\u001b[0m00:01\u001b[0m\n",
      "\u001b[?25hCollecting nvidia-cufft-cu12==11.0.2.54 (from torch->-r requirements.txt (line 6))\n",
      "  Downloading nvidia_cufft_cu12-11.0.2.54-py3-none-manylinux1_x86_64.whl (121.6 MB)\n",
      "\u001b[2K     \u001b[90m━━━━━━━━━━━━━━━━━━━━━━━━━━━━━━━━━━━━━━\u001b[0m \u001b[32m121.6/121.6 MB\u001b[0m \u001b[31m13.3 MB/s\u001b[0m eta \u001b[36m0:00:00\u001b[0m00:01\u001b[0m00:01\u001b[0m\n",
      "\u001b[?25hCollecting nvidia-curand-cu12==10.3.2.106 (from torch->-r requirements.txt (line 6))\n",
      "  Downloading nvidia_curand_cu12-10.3.2.106-py3-none-manylinux1_x86_64.whl (56.5 MB)\n",
      "\u001b[2K     \u001b[90m━━━━━━━━━━━━━━━━━━━━━━━━━━━━━━━━━━━━━━━━\u001b[0m \u001b[32m56.5/56.5 MB\u001b[0m \u001b[31m24.8 MB/s\u001b[0m eta \u001b[36m0:00:00\u001b[0m00:01\u001b[0m00:01\u001b[0m\n",
      "\u001b[?25hCollecting nvidia-cusolver-cu12==11.4.5.107 (from torch->-r requirements.txt (line 6))\n",
      "  Downloading nvidia_cusolver_cu12-11.4.5.107-py3-none-manylinux1_x86_64.whl (124.2 MB)\n",
      "\u001b[2K     \u001b[90m━━━━━━━━━━━━━━━━━━━━━━━━━━━━━━━━━━━━━━\u001b[0m \u001b[32m124.2/124.2 MB\u001b[0m \u001b[31m11.8 MB/s\u001b[0m eta \u001b[36m0:00:00\u001b[0m00:01\u001b[0m00:01\u001b[0m\n",
      "\u001b[?25hCollecting nvidia-cusparse-cu12==12.1.0.106 (from torch->-r requirements.txt (line 6))\n",
      "  Downloading nvidia_cusparse_cu12-12.1.0.106-py3-none-manylinux1_x86_64.whl (196.0 MB)\n",
      "\u001b[2K     \u001b[90m━━━━━━━━━━━━━━━━━━━━━━━━━━━━━━━━━━━━━━\u001b[0m \u001b[32m196.0/196.0 MB\u001b[0m \u001b[31m15.1 MB/s\u001b[0m eta \u001b[36m0:00:00\u001b[0m00:01\u001b[0m00:01\u001b[0m\n",
      "\u001b[?25hCollecting nvidia-nccl-cu12==2.18.1 (from torch->-r requirements.txt (line 6))\n",
      "  Downloading nvidia_nccl_cu12-2.18.1-py3-none-manylinux1_x86_64.whl (209.8 MB)\n",
      "\u001b[2K     \u001b[90m━━━━━━━━━━━━━━━━━━━━━━━━━━━━━━━━━━━━━━\u001b[0m \u001b[32m209.8/209.8 MB\u001b[0m \u001b[31m12.7 MB/s\u001b[0m eta \u001b[36m0:00:00\u001b[0m00:01\u001b[0m00:01\u001b[0m\n",
      "\u001b[?25hCollecting nvidia-nvtx-cu12==12.1.105 (from torch->-r requirements.txt (line 6))\n",
      "  Downloading nvidia_nvtx_cu12-12.1.105-py3-none-manylinux1_x86_64.whl (99 kB)\n",
      "\u001b[2K     \u001b[90m━━━━━━━━━━━━━━━━━━━━━━━━━━━━━━━━━━━━━━━━\u001b[0m \u001b[32m99.1/99.1 kB\u001b[0m \u001b[31m9.4 MB/s\u001b[0m eta \u001b[36m0:00:00\u001b[0m\n",
      "\u001b[?25hCollecting triton==2.1.0 (from torch->-r requirements.txt (line 6))\n",
      "  Obtaining dependency information for triton==2.1.0 from https://files.pythonhosted.org/packages/5c/c1/54fffb2eb13d293d9a429fead3646752ea190de0229bcf3d591ba2481263/triton-2.1.0-0-cp311-cp311-manylinux2014_x86_64.manylinux_2_17_x86_64.whl.metadata\n",
      "  Downloading triton-2.1.0-0-cp311-cp311-manylinux2014_x86_64.manylinux_2_17_x86_64.whl.metadata (1.3 kB)\n",
      "Collecting nvidia-nvjitlink-cu12 (from nvidia-cusolver-cu12==11.4.5.107->torch->-r requirements.txt (line 6))\n",
      "  Obtaining dependency information for nvidia-nvjitlink-cu12 from https://files.pythonhosted.org/packages/45/de/885b6d3e1fa07bf19124076b348d3cf30f68051f813cba99e103f53d2f75/nvidia_nvjitlink_cu12-12.3.52-py3-none-manylinux1_x86_64.whl.metadata\n",
      "  Downloading nvidia_nvjitlink_cu12-12.3.52-py3-none-manylinux1_x86_64.whl.metadata (1.5 kB)\n",
      "Requirement already satisfied: contourpy>=1.0.1 in /usr/local/lib/python3.11/dist-packages (from matplotlib->-r requirements.txt (line 8)) (1.1.1)\n",
      "Requirement already satisfied: cycler>=0.10 in /usr/local/lib/python3.11/dist-packages (from matplotlib->-r requirements.txt (line 8)) (0.11.0)\n",
      "Requirement already satisfied: fonttools>=4.22.0 in /usr/local/lib/python3.11/dist-packages (from matplotlib->-r requirements.txt (line 8)) (4.42.1)\n",
      "Requirement already satisfied: kiwisolver>=1.0.1 in /usr/local/lib/python3.11/dist-packages (from matplotlib->-r requirements.txt (line 8)) (1.4.5)\n",
      "Requirement already satisfied: pillow>=6.2.0 in /usr/local/lib/python3.11/dist-packages (from matplotlib->-r requirements.txt (line 8)) (10.0.1)\n",
      "Requirement already satisfied: pyparsing>=2.3.1 in /usr/lib/python3/dist-packages (from matplotlib->-r requirements.txt (line 8)) (2.4.7)\n",
      "Requirement already satisfied: joblib>=1.1.1 in /usr/local/lib/python3.11/dist-packages (from scikit-learn->-r requirements.txt (line 10)) (1.3.2)\n",
      "Requirement already satisfied: threadpoolctl>=2.0.0 in /usr/local/lib/python3.11/dist-packages (from scikit-learn->-r requirements.txt (line 10)) (3.2.0)\n",
      "Collecting tqdm>=4.14.0 (from skorch->-r requirements.txt (line 11))\n",
      "  Obtaining dependency information for tqdm>=4.14.0 from https://files.pythonhosted.org/packages/00/e5/f12a80907d0884e6dff9c16d0c0114d81b8cd07dc3ae54c5e962cc83037e/tqdm-4.66.1-py3-none-any.whl.metadata\n",
      "  Downloading tqdm-4.66.1-py3-none-any.whl.metadata (57 kB)\n",
      "\u001b[2K     \u001b[90m━━━━━━━━━━━━━━━━━━━━━━━━━━━━━━━━━━━━━━━━\u001b[0m \u001b[32m57.6/57.6 kB\u001b[0m \u001b[31m14.9 MB/s\u001b[0m eta \u001b[36m0:00:00\u001b[0m\n",
      "\u001b[?25hRequirement already satisfied: wheel<1.0,>=0.23.0 in /usr/local/lib/python3.11/dist-packages (from astunparse>=1.6.0->tensorflow->-r requirements.txt (line 5)) (0.41.2)\n",
      "Requirement already satisfied: MarkupSafe>=2.0 in /usr/local/lib/python3.11/dist-packages (from jinja2>=3.0.0->eli5->-r requirements.txt (line 1)) (2.1.3)\n",
      "Requirement already satisfied: google-auth<3,>=1.6.3 in /usr/local/lib/python3.11/dist-packages (from tensorboard<2.15,>=2.14->tensorflow->-r requirements.txt (line 5)) (2.23.1)\n",
      "Requirement already satisfied: google-auth-oauthlib<1.1,>=0.5 in /usr/local/lib/python3.11/dist-packages (from tensorboard<2.15,>=2.14->tensorflow->-r requirements.txt (line 5)) (1.0.0)\n",
      "Requirement already satisfied: markdown>=2.6.8 in /usr/local/lib/python3.11/dist-packages (from tensorboard<2.15,>=2.14->tensorflow->-r requirements.txt (line 5)) (3.4.4)\n",
      "Requirement already satisfied: requests<3,>=2.21.0 in /usr/local/lib/python3.11/dist-packages (from tensorboard<2.15,>=2.14->tensorflow->-r requirements.txt (line 5)) (2.31.0)\n",
      "Requirement already satisfied: tensorboard-data-server<0.8.0,>=0.7.0 in /usr/local/lib/python3.11/dist-packages (from tensorboard<2.15,>=2.14->tensorflow->-r requirements.txt (line 5)) (0.7.1)\n",
      "Requirement already satisfied: werkzeug>=1.0.1 in /usr/local/lib/python3.11/dist-packages (from tensorboard<2.15,>=2.14->tensorflow->-r requirements.txt (line 5)) (2.3.7)\n",
      "Collecting mpmath>=0.19 (from sympy->torch->-r requirements.txt (line 6))\n",
      "  Downloading mpmath-1.3.0-py3-none-any.whl (536 kB)\n",
      "\u001b[2K     \u001b[90m━━━━━━━━━━━━━━━━━━━━━━━━━━━━━━━━━━━━━━\u001b[0m \u001b[32m536.2/536.2 kB\u001b[0m \u001b[31m33.6 MB/s\u001b[0m eta \u001b[36m0:00:00\u001b[0m\n",
      "\u001b[?25hRequirement already satisfied: cachetools<6.0,>=2.0.0 in /usr/local/lib/python3.11/dist-packages (from google-auth<3,>=1.6.3->tensorboard<2.15,>=2.14->tensorflow->-r requirements.txt (line 5)) (5.3.1)\n",
      "Requirement already satisfied: pyasn1-modules>=0.2.1 in /usr/local/lib/python3.11/dist-packages (from google-auth<3,>=1.6.3->tensorboard<2.15,>=2.14->tensorflow->-r requirements.txt (line 5)) (0.3.0)\n",
      "Requirement already satisfied: rsa<5,>=3.1.4 in /usr/local/lib/python3.11/dist-packages (from google-auth<3,>=1.6.3->tensorboard<2.15,>=2.14->tensorflow->-r requirements.txt (line 5)) (4.9)\n",
      "Requirement already satisfied: urllib3>=2.0.5 in /usr/local/lib/python3.11/dist-packages (from google-auth<3,>=1.6.3->tensorboard<2.15,>=2.14->tensorflow->-r requirements.txt (line 5)) (2.0.5)\n",
      "Requirement already satisfied: requests-oauthlib>=0.7.0 in /usr/local/lib/python3.11/dist-packages (from google-auth-oauthlib<1.1,>=0.5->tensorboard<2.15,>=2.14->tensorflow->-r requirements.txt (line 5)) (1.3.1)\n",
      "Requirement already satisfied: charset-normalizer<4,>=2 in /usr/local/lib/python3.11/dist-packages (from requests<3,>=2.21.0->tensorboard<2.15,>=2.14->tensorflow->-r requirements.txt (line 5)) (3.2.0)\n",
      "Requirement already satisfied: idna<4,>=2.5 in /usr/local/lib/python3.11/dist-packages (from requests<3,>=2.21.0->tensorboard<2.15,>=2.14->tensorflow->-r requirements.txt (line 5)) (3.4)\n",
      "Requirement already satisfied: certifi>=2017.4.17 in /usr/local/lib/python3.11/dist-packages (from requests<3,>=2.21.0->tensorboard<2.15,>=2.14->tensorflow->-r requirements.txt (line 5)) (2023.7.22)\n",
      "Requirement already satisfied: pyasn1<0.6.0,>=0.4.6 in /usr/local/lib/python3.11/dist-packages (from pyasn1-modules>=0.2.1->google-auth<3,>=1.6.3->tensorboard<2.15,>=2.14->tensorflow->-r requirements.txt (line 5)) (0.5.0)\n",
      "Requirement already satisfied: oauthlib>=3.0.0 in /usr/lib/python3/dist-packages (from requests-oauthlib>=0.7.0->google-auth-oauthlib<1.1,>=0.5->tensorboard<2.15,>=2.14->tensorflow->-r requirements.txt (line 5)) (3.2.0)\n",
      "Downloading pandas-2.1.1-cp311-cp311-manylinux_2_17_x86_64.manylinux2014_x86_64.whl (12.2 MB)\n",
      "\u001b[2K   \u001b[90m━━━━━━━━━━━━━━━━━━━━━━━━━━━━━━━━━━━━━━━━\u001b[0m \u001b[32m12.2/12.2 MB\u001b[0m \u001b[31m34.3 MB/s\u001b[0m eta \u001b[36m0:00:00\u001b[0m00:01\u001b[0m00:01\u001b[0m\n",
      "\u001b[?25hDownloading seaborn-0.13.0-py3-none-any.whl (294 kB)\n",
      "\u001b[2K   \u001b[90m━━━━━━━━━━━━━━━━━━━━━━━━━━━━━━━━━━━━━━━━\u001b[0m \u001b[32m294.6/294.6 kB\u001b[0m \u001b[31m35.3 MB/s\u001b[0m eta \u001b[36m0:00:00\u001b[0m\n",
      "\u001b[?25hDownloading torch-2.1.0-cp311-cp311-manylinux1_x86_64.whl (670.2 MB)\n",
      "\u001b[2K   \u001b[90m━━━━━━━━━━━━━━━━━━━━━━━━━━━━━━━━━━━━━━━━\u001b[0m \u001b[32m670.2/670.2 MB\u001b[0m \u001b[31m1.4 MB/s\u001b[0m eta \u001b[36m0:00:00\u001b[0m:00:01\u001b[0m00:01\u001b[0m\n",
      "\u001b[?25hDownloading nvidia_cudnn_cu12-8.9.2.26-py3-none-manylinux1_x86_64.whl (731.7 MB)\n",
      "\u001b[2K   \u001b[90m━━━━━━━━━━━━━━━━━━━━━━━━━━━━━━━━━━━━━━━━\u001b[0m \u001b[32m731.7/731.7 MB\u001b[0m \u001b[31m1.5 MB/s\u001b[0m eta \u001b[36m0:00:00\u001b[0m:00:01\u001b[0m00:01\u001b[0m\n",
      "\u001b[?25hDownloading triton-2.1.0-0-cp311-cp311-manylinux2014_x86_64.manylinux_2_17_x86_64.whl (89.2 MB)\n",
      "\u001b[2K   \u001b[90m━━━━━━━━━━━━━━━━━━━━━━━━━━━━━━━━━━━━━━━━\u001b[0m \u001b[32m89.2/89.2 MB\u001b[0m \u001b[31m6.6 MB/s\u001b[0m eta \u001b[36m0:00:00\u001b[0m:00:01\u001b[0m00:01\u001b[0m\n",
      "\u001b[?25hDownloading lightgbm-4.1.0-py3-none-manylinux_2_28_x86_64.whl (3.1 MB)\n",
      "\u001b[2K   \u001b[90m━━━━━━━━━━━━━━━━━━━━━━━━━━━━━━━━━━━━━━━━\u001b[0m \u001b[32m3.1/3.1 MB\u001b[0m \u001b[31m26.5 MB/s\u001b[0m eta \u001b[36m0:00:00\u001b[0m00:01\u001b[0m00:01\u001b[0m\n",
      "\u001b[?25hDownloading skorch-0.15.0-py3-none-any.whl (239 kB)\n",
      "\u001b[2K   \u001b[90m━━━━━━━━━━━━━━━━━━━━━━━━━━━━━━━━━━━━━━━━\u001b[0m \u001b[32m239.3/239.3 kB\u001b[0m \u001b[31m27.4 MB/s\u001b[0m eta \u001b[36m0:00:00\u001b[0m\n",
      "\u001b[?25hDownloading xgboost-2.0.1-py3-none-manylinux2014_x86_64.whl (297.1 MB)\n",
      "\u001b[2K   \u001b[90m━━━━━━━━━━━━━━━━━━━━━━━━━━━━━━━━━━━━━━━━\u001b[0m \u001b[32m297.1/297.1 MB\u001b[0m \u001b[31m3.2 MB/s\u001b[0m eta \u001b[36m0:00:00\u001b[0m:00:01\u001b[0m00:01\u001b[0m\n",
      "\u001b[?25hDownloading pytz-2023.3.post1-py2.py3-none-any.whl (502 kB)\n",
      "\u001b[2K   \u001b[90m━━━━━━━━━━━━━━━━━━━━━━━━━━━━━━━━━━━━━━━━\u001b[0m \u001b[32m502.5/502.5 kB\u001b[0m \u001b[31m28.2 MB/s\u001b[0m eta \u001b[36m0:00:00\u001b[0m\n",
      "\u001b[?25hDownloading tqdm-4.66.1-py3-none-any.whl (78 kB)\n",
      "\u001b[2K   \u001b[90m━━━━━━━━━━━━━━━━━━━━━━━━━━━━━━━━━━━━━━━━\u001b[0m \u001b[32m78.3/78.3 kB\u001b[0m \u001b[31m15.0 MB/s\u001b[0m eta \u001b[36m0:00:00\u001b[0m\n",
      "\u001b[?25hDownloading filelock-3.12.4-py3-none-any.whl (11 kB)\n",
      "Downloading fsspec-2023.10.0-py3-none-any.whl (166 kB)\n",
      "\u001b[2K   \u001b[90m━━━━━━━━━━━━━━━━━━━━━━━━━━━━━━━━━━━━━━━━\u001b[0m \u001b[32m166.4/166.4 kB\u001b[0m \u001b[31m18.3 MB/s\u001b[0m eta \u001b[36m0:00:00\u001b[0m\n",
      "\u001b[?25hDownloading networkx-3.2-py3-none-any.whl (1.6 MB)\n",
      "\u001b[2K   \u001b[90m━━━━━━━━━━━━━━━━━━━━━━━━━━━━━━━━━━━━━━━━\u001b[0m \u001b[32m1.6/1.6 MB\u001b[0m \u001b[31m31.9 MB/s\u001b[0m eta \u001b[36m0:00:00\u001b[0ma \u001b[36m0:00:01\u001b[0m\n",
      "\u001b[?25hDownloading nvidia_nvjitlink_cu12-12.3.52-py3-none-manylinux1_x86_64.whl (20.5 MB)\n",
      "\u001b[2K   \u001b[90m━━━━━━━━━━━━━━━━━━━━━━━━━━━━━━━━━━━━━━━━\u001b[0m \u001b[32m20.5/20.5 MB\u001b[0m \u001b[31m24.8 MB/s\u001b[0m eta \u001b[36m0:00:00\u001b[0m00:01\u001b[0m00:01\u001b[0m\n",
      "\u001b[?25hBuilding wheels for collected packages: eli5\n",
      "  Building wheel for eli5 (setup.py) ... \u001b[?25ldone\n",
      "\u001b[?25h  Created wheel for eli5: filename=eli5-0.13.0-py2.py3-none-any.whl size=107719 sha256=80a026122020aa4de750e5d2ea8ee5d4f7376de634e006c601107e1f367b4866\n",
      "  Stored in directory: /root/.cache/pip/wheels/ec/68/a9/de7d374ecb6f53462ce0eec8326fbab91b6228c82e67428d0d\n",
      "Successfully built eli5\n",
      "Installing collected packages: pytz, mpmath, tzdata, tqdm, tabulate, sympy, nvidia-nvtx-cu12, nvidia-nvjitlink-cu12, nvidia-nccl-cu12, nvidia-curand-cu12, nvidia-cufft-cu12, nvidia-cuda-runtime-cu12, nvidia-cuda-nvrtc-cu12, nvidia-cuda-cupti-cu12, nvidia-cublas-cu12, networkx, graphviz, fsspec, filelock, xgboost, triton, pandas, nvidia-cusparse-cu12, nvidia-cudnn-cu12, lightgbm, yellowbrick, skorch, seaborn, nvidia-cusolver-cu12, eli5, torch\n",
      "Successfully installed eli5-0.13.0 filelock-3.12.4 fsspec-2023.10.0 graphviz-0.20.1 lightgbm-4.1.0 mpmath-1.3.0 networkx-3.2 nvidia-cublas-cu12-12.1.3.1 nvidia-cuda-cupti-cu12-12.1.105 nvidia-cuda-nvrtc-cu12-12.1.105 nvidia-cuda-runtime-cu12-12.1.105 nvidia-cudnn-cu12-8.9.2.26 nvidia-cufft-cu12-11.0.2.54 nvidia-curand-cu12-10.3.2.106 nvidia-cusolver-cu12-11.4.5.107 nvidia-cusparse-cu12-12.1.0.106 nvidia-nccl-cu12-2.18.1 nvidia-nvjitlink-cu12-12.3.52 nvidia-nvtx-cu12-12.1.105 pandas-2.1.1 pytz-2023.3.post1 seaborn-0.13.0 skorch-0.15.0 sympy-1.12 tabulate-0.9.0 torch-2.1.0 tqdm-4.66.1 triton-2.1.0 tzdata-2023.3 xgboost-2.0.1 yellowbrick-1.5\n",
      "\u001b[33mWARNING: Running pip as the 'root' user can result in broken permissions and conflicting behaviour with the system package manager. It is recommended to use a virtual environment instead: https://pip.pypa.io/warnings/venv\u001b[0m\u001b[33m\n",
      "\u001b[0m\n",
      "\u001b[1m[\u001b[0m\u001b[34;49mnotice\u001b[0m\u001b[1;39;49m]\u001b[0m\u001b[39;49m A new release of pip is available: \u001b[0m\u001b[31;49m23.2.1\u001b[0m\u001b[39;49m -> \u001b[0m\u001b[32;49m23.3.1\u001b[0m\n",
      "\u001b[1m[\u001b[0m\u001b[34;49mnotice\u001b[0m\u001b[1;39;49m]\u001b[0m\u001b[39;49m To update, run: \u001b[0m\u001b[32;49mpython3 -m pip install --upgrade pip\u001b[0m\n"
     ]
    }
   ],
   "source": [
    "!pip install -r requirements.txt "
   ]
  },
  {
   "cell_type": "code",
   "execution_count": 1,
   "metadata": {},
   "outputs": [
    {
     "name": "stdout",
     "output_type": "stream",
     "text": [
      "Collecting scikeras\n",
      "  Obtaining dependency information for scikeras from https://files.pythonhosted.org/packages/5d/fa/9c1967952e7889d698f10ba8b6af79dfaa2e05178d97a79fbd9d1b44e589/scikeras-0.12.0-py3-none-any.whl.metadata\n",
      "  Downloading scikeras-0.12.0-py3-none-any.whl.metadata (4.0 kB)\n",
      "Collecting scikit-learn>=1.0.0 (from scikeras)\n",
      "  Obtaining dependency information for scikit-learn>=1.0.0 from https://files.pythonhosted.org/packages/0c/2a/d3ff6091406bc2207e0adb832ebd15e40ac685811c7e2e3b432bfd969b71/scikit_learn-1.3.2-cp311-cp311-manylinux_2_17_x86_64.manylinux2014_x86_64.whl.metadata\n",
      "  Downloading scikit_learn-1.3.2-cp311-cp311-manylinux_2_17_x86_64.manylinux2014_x86_64.whl.metadata (11 kB)\n",
      "Collecting scipy>=1.5.0 (from scikit-learn>=1.0.0->scikeras)\n",
      "  Obtaining dependency information for scipy>=1.5.0 from https://files.pythonhosted.org/packages/ef/1b/7538792254aec6850657d5b940fd05fe60582af829ffe40d6c054f065f34/scipy-1.11.3-cp311-cp311-manylinux_2_17_x86_64.manylinux2014_x86_64.whl.metadata\n",
      "  Downloading scipy-1.11.3-cp311-cp311-manylinux_2_17_x86_64.manylinux2014_x86_64.whl.metadata (60 kB)\n",
      "\u001b[2K     \u001b[90m━━━━━━━━━━━━━━━━━━━━━━━━━━━━━━━━━━━━━━━━\u001b[0m \u001b[32m60.4/60.4 kB\u001b[0m \u001b[31m3.2 MB/s\u001b[0m eta \u001b[36m0:00:00\u001b[0m\n",
      "\u001b[?25hCollecting joblib>=1.1.1 (from scikit-learn>=1.0.0->scikeras)\n",
      "  Obtaining dependency information for joblib>=1.1.1 from https://files.pythonhosted.org/packages/10/40/d551139c85db202f1f384ba8bcf96aca2f329440a844f924c8a0040b6d02/joblib-1.3.2-py3-none-any.whl.metadata\n",
      "  Downloading joblib-1.3.2-py3-none-any.whl.metadata (5.4 kB)\n",
      "Collecting threadpoolctl>=2.0.0 (from scikit-learn>=1.0.0->scikeras)\n",
      "  Obtaining dependency information for threadpoolctl>=2.0.0 from https://files.pythonhosted.org/packages/81/12/fd4dea011af9d69e1cad05c75f3f7202cdcbeac9b712eea58ca779a72865/threadpoolctl-3.2.0-py3-none-any.whl.metadata\n",
      "  Downloading threadpoolctl-3.2.0-py3-none-any.whl.metadata (10.0 kB)\n",
      "Downloading scikeras-0.12.0-py3-none-any.whl (27 kB)\n",
      "Downloading scikit_learn-1.3.2-cp311-cp311-manylinux_2_17_x86_64.manylinux2014_x86_64.whl (10.9 MB)\n",
      "\u001b[2K   \u001b[90m━━━━━━━━━━━━━━━━━━━━━━━━━━━━━━━━━━━━━━━━\u001b[0m \u001b[32m10.9/10.9 MB\u001b[0m \u001b[31m33.3 MB/s\u001b[0m eta \u001b[36m0:00:00\u001b[0m00:01\u001b[0m00:01\u001b[0m\n",
      "\u001b[?25hDownloading joblib-1.3.2-py3-none-any.whl (302 kB)\n",
      "\u001b[2K   \u001b[90m━━━━━━━━━━━━━━━━━━━━━━━━━━━━━━━━━━━━━━━━\u001b[0m \u001b[32m302.2/302.2 kB\u001b[0m \u001b[31m31.8 MB/s\u001b[0m eta \u001b[36m0:00:00\u001b[0m\n",
      "\u001b[?25hDownloading scipy-1.11.3-cp311-cp311-manylinux_2_17_x86_64.manylinux2014_x86_64.whl (36.4 MB)\n",
      "\u001b[2K   \u001b[90m━━━━━━━━━━━━━━━━━━━━━━━━━━━━━━━━━━━━━━━━\u001b[0m \u001b[32m36.4/36.4 MB\u001b[0m \u001b[31m28.7 MB/s\u001b[0m eta \u001b[36m0:00:00\u001b[0m00:01\u001b[0m00:01\u001b[0m\n",
      "\u001b[?25hDownloading threadpoolctl-3.2.0-py3-none-any.whl (15 kB)\n",
      "Installing collected packages: threadpoolctl, scipy, joblib, scikit-learn, scikeras\n",
      "Successfully installed joblib-1.3.2 scikeras-0.12.0 scikit-learn-1.3.2 scipy-1.11.3 threadpoolctl-3.2.0\n",
      "\u001b[33mWARNING: Running pip as the 'root' user can result in broken permissions and conflicting behaviour with the system package manager. It is recommended to use a virtual environment instead: https://pip.pypa.io/warnings/venv\u001b[0m\u001b[33m\n",
      "\u001b[0m\n",
      "\u001b[1m[\u001b[0m\u001b[34;49mnotice\u001b[0m\u001b[1;39;49m]\u001b[0m\u001b[39;49m A new release of pip is available: \u001b[0m\u001b[31;49m23.2.1\u001b[0m\u001b[39;49m -> \u001b[0m\u001b[32;49m23.3.1\u001b[0m\n",
      "\u001b[1m[\u001b[0m\u001b[34;49mnotice\u001b[0m\u001b[1;39;49m]\u001b[0m\u001b[39;49m To update, run: \u001b[0m\u001b[32;49mpython3 -m pip install --upgrade pip\u001b[0m\n"
     ]
    }
   ],
   "source": [
    "!pip install scikeras | grep -v 'already satisfied'"
   ]
  },
  {
   "cell_type": "code",
   "execution_count": 5,
   "metadata": {},
   "outputs": [
    {
     "name": "stdout",
     "output_type": "stream",
     "text": [
      "Requirement already satisfied: eli5 in /usr/local/lib/python3.11/dist-packages (0.13.0)\n",
      "Requirement already satisfied: attrs>17.1.0 in /usr/local/lib/python3.11/dist-packages (from eli5) (23.1.0)\n",
      "Requirement already satisfied: jinja2>=3.0.0 in /usr/local/lib/python3.11/dist-packages (from eli5) (3.1.2)\n",
      "Requirement already satisfied: numpy>=1.9.0 in /usr/local/lib/python3.11/dist-packages (from eli5) (1.26.0)\n",
      "Requirement already satisfied: scipy in /usr/local/lib/python3.11/dist-packages (from eli5) (1.11.3)\n",
      "Requirement already satisfied: six in /usr/lib/python3/dist-packages (from eli5) (1.16.0)\n",
      "Requirement already satisfied: scikit-learn>=0.20 in /usr/local/lib/python3.11/dist-packages (from eli5) (1.3.2)\n",
      "Requirement already satisfied: graphviz in /usr/local/lib/python3.11/dist-packages (from eli5) (0.20.1)\n",
      "Requirement already satisfied: tabulate>=0.7.7 in /usr/local/lib/python3.11/dist-packages (from eli5) (0.9.0)\n",
      "Requirement already satisfied: MarkupSafe>=2.0 in /usr/local/lib/python3.11/dist-packages (from jinja2>=3.0.0->eli5) (2.1.3)\n",
      "Requirement already satisfied: joblib>=1.1.1 in /usr/local/lib/python3.11/dist-packages (from scikit-learn>=0.20->eli5) (1.3.2)\n",
      "Requirement already satisfied: threadpoolctl>=2.0.0 in /usr/local/lib/python3.11/dist-packages (from scikit-learn>=0.20->eli5) (3.2.0)\n",
      "\u001b[33mWARNING: Running pip as the 'root' user can result in broken permissions and conflicting behaviour with the system package manager. It is recommended to use a virtual environment instead: https://pip.pypa.io/warnings/venv\u001b[0m\u001b[33m\n",
      "\u001b[0m\n",
      "\u001b[1m[\u001b[0m\u001b[34;49mnotice\u001b[0m\u001b[1;39;49m]\u001b[0m\u001b[39;49m A new release of pip is available: \u001b[0m\u001b[31;49m23.2.1\u001b[0m\u001b[39;49m -> \u001b[0m\u001b[32;49m23.3.1\u001b[0m\n",
      "\u001b[1m[\u001b[0m\u001b[34;49mnotice\u001b[0m\u001b[1;39;49m]\u001b[0m\u001b[39;49m To update, run: \u001b[0m\u001b[32;49mpython3 -m pip install --upgrade pip\u001b[0m\n"
     ]
    }
   ],
   "source": [
    "!pip install eli5"
   ]
  },
  {
   "cell_type": "code",
   "execution_count": 5,
   "metadata": {
    "_cell_guid": "b1076dfc-b9ad-4769-8c92-a6c4dae69d19",
    "_uuid": "8f2839f25d086af736a60e9eeb907d3b93b6e0e5"
   },
   "outputs": [
    {
     "name": "stderr",
     "output_type": "stream",
     "text": [
      "2023-10-24 13:30:26.762407: E tensorflow/compiler/xla/stream_executor/cuda/cuda_dnn.cc:9342] Unable to register cuDNN factory: Attempting to register factory for plugin cuDNN when one has already been registered\n",
      "2023-10-24 13:30:26.762650: E tensorflow/compiler/xla/stream_executor/cuda/cuda_fft.cc:609] Unable to register cuFFT factory: Attempting to register factory for plugin cuFFT when one has already been registered\n",
      "2023-10-24 13:30:26.764327: E tensorflow/compiler/xla/stream_executor/cuda/cuda_blas.cc:1518] Unable to register cuBLAS factory: Attempting to register factory for plugin cuBLAS when one has already been registered\n",
      "2023-10-24 13:30:26.923716: I tensorflow/core/platform/cpu_feature_guard.cc:182] This TensorFlow binary is optimized to use available CPU instructions in performance-critical operations.\n",
      "To enable the following instructions: AVX2 FMA, in other operations, rebuild TensorFlow with the appropriate compiler flags.\n"
     ]
    }
   ],
   "source": [
    "# import eli5\n",
    "import numpy as np\n",
    "import pandas as pd\n",
    "import re\n",
    "import seaborn as sns\n",
    "import tensorflow as tf\n",
    "# from eli5.sklearn import PermutationImportance\n",
    "from lightgbm import LGBMRegressor\n",
    "from matplotlib import pyplot as plt\n",
    "from scikeras.wrappers import KerasRegressor\n",
    "from sklearn.compose import ColumnTransformer\n",
    "from sklearn.decomposition import PCA\n",
    "from sklearn.ensemble import HistGradientBoostingRegressor, RandomForestRegressor\n",
    "from sklearn.linear_model import ElasticNet, LinearRegression, Ridge\n",
    "from sklearn.metrics import mean_squared_error as mse, r2_score\n",
    "from sklearn.model_selection import cross_val_score, train_test_split, GridSearchCV\n",
    "from sklearn.pipeline import Pipeline\n",
    "from sklearn.preprocessing import OneHotEncoder, StandardScaler\n",
    "from sklearn.svm import SVR\n",
    "from sklearn.tree import plot_tree, DecisionTreeRegressor\n",
    "from tensorflow.keras import layers, callbacks\n",
    "from xgboost import XGBRegressor\n",
    "from yellowbrick.model_selection import ValidationCurve"
   ]
  },
  {
   "cell_type": "code",
   "execution_count": 6,
   "metadata": {},
   "outputs": [
    {
     "data": {
      "text/html": [
       "<div>\n",
       "<style scoped>\n",
       "    .dataframe tbody tr th:only-of-type {\n",
       "        vertical-align: middle;\n",
       "    }\n",
       "\n",
       "    .dataframe tbody tr th {\n",
       "        vertical-align: top;\n",
       "    }\n",
       "\n",
       "    .dataframe thead th {\n",
       "        text-align: right;\n",
       "    }\n",
       "</style>\n",
       "<table border=\"1\" class=\"dataframe\">\n",
       "  <thead>\n",
       "    <tr style=\"text-align: right;\">\n",
       "      <th></th>\n",
       "      <th>Time</th>\n",
       "      <th>Energy delta[Wh]</th>\n",
       "      <th>GHI</th>\n",
       "      <th>temp</th>\n",
       "      <th>pressure</th>\n",
       "      <th>humidity</th>\n",
       "      <th>wind_speed</th>\n",
       "      <th>rain_1h</th>\n",
       "      <th>snow_1h</th>\n",
       "      <th>clouds_all</th>\n",
       "      <th>isSun</th>\n",
       "      <th>sunlightTime</th>\n",
       "      <th>dayLength</th>\n",
       "      <th>SunlightTime/daylength</th>\n",
       "      <th>weather_type</th>\n",
       "      <th>hour</th>\n",
       "      <th>month</th>\n",
       "    </tr>\n",
       "  </thead>\n",
       "  <tbody>\n",
       "    <tr>\n",
       "      <th>0</th>\n",
       "      <td>2017-01-01 00:00:00</td>\n",
       "      <td>0</td>\n",
       "      <td>0.0</td>\n",
       "      <td>1.6</td>\n",
       "      <td>1021</td>\n",
       "      <td>100</td>\n",
       "      <td>4.9</td>\n",
       "      <td>0.0</td>\n",
       "      <td>0.0</td>\n",
       "      <td>100</td>\n",
       "      <td>0</td>\n",
       "      <td>0</td>\n",
       "      <td>450</td>\n",
       "      <td>0.00</td>\n",
       "      <td>4</td>\n",
       "      <td>0</td>\n",
       "      <td>1</td>\n",
       "    </tr>\n",
       "    <tr>\n",
       "      <th>1</th>\n",
       "      <td>2017-01-01 00:15:00</td>\n",
       "      <td>0</td>\n",
       "      <td>0.0</td>\n",
       "      <td>1.6</td>\n",
       "      <td>1021</td>\n",
       "      <td>100</td>\n",
       "      <td>4.9</td>\n",
       "      <td>0.0</td>\n",
       "      <td>0.0</td>\n",
       "      <td>100</td>\n",
       "      <td>0</td>\n",
       "      <td>0</td>\n",
       "      <td>450</td>\n",
       "      <td>0.00</td>\n",
       "      <td>4</td>\n",
       "      <td>0</td>\n",
       "      <td>1</td>\n",
       "    </tr>\n",
       "    <tr>\n",
       "      <th>2</th>\n",
       "      <td>2017-01-01 00:30:00</td>\n",
       "      <td>0</td>\n",
       "      <td>0.0</td>\n",
       "      <td>1.6</td>\n",
       "      <td>1021</td>\n",
       "      <td>100</td>\n",
       "      <td>4.9</td>\n",
       "      <td>0.0</td>\n",
       "      <td>0.0</td>\n",
       "      <td>100</td>\n",
       "      <td>0</td>\n",
       "      <td>0</td>\n",
       "      <td>450</td>\n",
       "      <td>0.00</td>\n",
       "      <td>4</td>\n",
       "      <td>0</td>\n",
       "      <td>1</td>\n",
       "    </tr>\n",
       "    <tr>\n",
       "      <th>3</th>\n",
       "      <td>2017-01-01 00:45:00</td>\n",
       "      <td>0</td>\n",
       "      <td>0.0</td>\n",
       "      <td>1.6</td>\n",
       "      <td>1021</td>\n",
       "      <td>100</td>\n",
       "      <td>4.9</td>\n",
       "      <td>0.0</td>\n",
       "      <td>0.0</td>\n",
       "      <td>100</td>\n",
       "      <td>0</td>\n",
       "      <td>0</td>\n",
       "      <td>450</td>\n",
       "      <td>0.00</td>\n",
       "      <td>4</td>\n",
       "      <td>0</td>\n",
       "      <td>1</td>\n",
       "    </tr>\n",
       "    <tr>\n",
       "      <th>4</th>\n",
       "      <td>2017-01-01 01:00:00</td>\n",
       "      <td>0</td>\n",
       "      <td>0.0</td>\n",
       "      <td>1.7</td>\n",
       "      <td>1020</td>\n",
       "      <td>100</td>\n",
       "      <td>5.2</td>\n",
       "      <td>0.0</td>\n",
       "      <td>0.0</td>\n",
       "      <td>100</td>\n",
       "      <td>0</td>\n",
       "      <td>0</td>\n",
       "      <td>450</td>\n",
       "      <td>0.00</td>\n",
       "      <td>4</td>\n",
       "      <td>1</td>\n",
       "      <td>1</td>\n",
       "    </tr>\n",
       "    <tr>\n",
       "      <th>...</th>\n",
       "      <td>...</td>\n",
       "      <td>...</td>\n",
       "      <td>...</td>\n",
       "      <td>...</td>\n",
       "      <td>...</td>\n",
       "      <td>...</td>\n",
       "      <td>...</td>\n",
       "      <td>...</td>\n",
       "      <td>...</td>\n",
       "      <td>...</td>\n",
       "      <td>...</td>\n",
       "      <td>...</td>\n",
       "      <td>...</td>\n",
       "      <td>...</td>\n",
       "      <td>...</td>\n",
       "      <td>...</td>\n",
       "      <td>...</td>\n",
       "    </tr>\n",
       "    <tr>\n",
       "      <th>196771</th>\n",
       "      <td>2022-08-31 16:45:00</td>\n",
       "      <td>118</td>\n",
       "      <td>23.7</td>\n",
       "      <td>18.6</td>\n",
       "      <td>1023</td>\n",
       "      <td>57</td>\n",
       "      <td>3.8</td>\n",
       "      <td>0.0</td>\n",
       "      <td>0.0</td>\n",
       "      <td>52</td>\n",
       "      <td>1</td>\n",
       "      <td>780</td>\n",
       "      <td>825</td>\n",
       "      <td>0.95</td>\n",
       "      <td>3</td>\n",
       "      <td>16</td>\n",
       "      <td>8</td>\n",
       "    </tr>\n",
       "    <tr>\n",
       "      <th>196772</th>\n",
       "      <td>2022-08-31 17:00:00</td>\n",
       "      <td>82</td>\n",
       "      <td>15.6</td>\n",
       "      <td>18.5</td>\n",
       "      <td>1023</td>\n",
       "      <td>61</td>\n",
       "      <td>4.2</td>\n",
       "      <td>0.0</td>\n",
       "      <td>0.0</td>\n",
       "      <td>60</td>\n",
       "      <td>1</td>\n",
       "      <td>795</td>\n",
       "      <td>825</td>\n",
       "      <td>0.96</td>\n",
       "      <td>3</td>\n",
       "      <td>17</td>\n",
       "      <td>8</td>\n",
       "    </tr>\n",
       "    <tr>\n",
       "      <th>196773</th>\n",
       "      <td>2022-08-31 17:15:00</td>\n",
       "      <td>51</td>\n",
       "      <td>8.0</td>\n",
       "      <td>18.5</td>\n",
       "      <td>1023</td>\n",
       "      <td>61</td>\n",
       "      <td>4.2</td>\n",
       "      <td>0.0</td>\n",
       "      <td>0.0</td>\n",
       "      <td>60</td>\n",
       "      <td>1</td>\n",
       "      <td>810</td>\n",
       "      <td>825</td>\n",
       "      <td>0.98</td>\n",
       "      <td>3</td>\n",
       "      <td>17</td>\n",
       "      <td>8</td>\n",
       "    </tr>\n",
       "    <tr>\n",
       "      <th>196774</th>\n",
       "      <td>2022-08-31 17:30:00</td>\n",
       "      <td>24</td>\n",
       "      <td>2.1</td>\n",
       "      <td>18.5</td>\n",
       "      <td>1023</td>\n",
       "      <td>61</td>\n",
       "      <td>4.2</td>\n",
       "      <td>0.0</td>\n",
       "      <td>0.0</td>\n",
       "      <td>60</td>\n",
       "      <td>1</td>\n",
       "      <td>825</td>\n",
       "      <td>825</td>\n",
       "      <td>1.00</td>\n",
       "      <td>3</td>\n",
       "      <td>17</td>\n",
       "      <td>8</td>\n",
       "    </tr>\n",
       "    <tr>\n",
       "      <th>196775</th>\n",
       "      <td>2022-08-31 17:45:00</td>\n",
       "      <td>0</td>\n",
       "      <td>0.0</td>\n",
       "      <td>18.5</td>\n",
       "      <td>1023</td>\n",
       "      <td>61</td>\n",
       "      <td>4.2</td>\n",
       "      <td>0.0</td>\n",
       "      <td>0.0</td>\n",
       "      <td>60</td>\n",
       "      <td>0</td>\n",
       "      <td>0</td>\n",
       "      <td>825</td>\n",
       "      <td>0.00</td>\n",
       "      <td>3</td>\n",
       "      <td>17</td>\n",
       "      <td>8</td>\n",
       "    </tr>\n",
       "  </tbody>\n",
       "</table>\n",
       "<p>196776 rows × 17 columns</p>\n",
       "</div>"
      ],
      "text/plain": [
       "                      Time  Energy delta[Wh]   GHI  temp  pressure  humidity  \\\n",
       "0      2017-01-01 00:00:00                 0   0.0   1.6      1021       100   \n",
       "1      2017-01-01 00:15:00                 0   0.0   1.6      1021       100   \n",
       "2      2017-01-01 00:30:00                 0   0.0   1.6      1021       100   \n",
       "3      2017-01-01 00:45:00                 0   0.0   1.6      1021       100   \n",
       "4      2017-01-01 01:00:00                 0   0.0   1.7      1020       100   \n",
       "...                    ...               ...   ...   ...       ...       ...   \n",
       "196771 2022-08-31 16:45:00               118  23.7  18.6      1023        57   \n",
       "196772 2022-08-31 17:00:00                82  15.6  18.5      1023        61   \n",
       "196773 2022-08-31 17:15:00                51   8.0  18.5      1023        61   \n",
       "196774 2022-08-31 17:30:00                24   2.1  18.5      1023        61   \n",
       "196775 2022-08-31 17:45:00                 0   0.0  18.5      1023        61   \n",
       "\n",
       "        wind_speed  rain_1h  snow_1h  clouds_all  isSun  sunlightTime  \\\n",
       "0              4.9      0.0      0.0         100      0             0   \n",
       "1              4.9      0.0      0.0         100      0             0   \n",
       "2              4.9      0.0      0.0         100      0             0   \n",
       "3              4.9      0.0      0.0         100      0             0   \n",
       "4              5.2      0.0      0.0         100      0             0   \n",
       "...            ...      ...      ...         ...    ...           ...   \n",
       "196771         3.8      0.0      0.0          52      1           780   \n",
       "196772         4.2      0.0      0.0          60      1           795   \n",
       "196773         4.2      0.0      0.0          60      1           810   \n",
       "196774         4.2      0.0      0.0          60      1           825   \n",
       "196775         4.2      0.0      0.0          60      0             0   \n",
       "\n",
       "        dayLength  SunlightTime/daylength  weather_type  hour  month  \n",
       "0             450                    0.00             4     0      1  \n",
       "1             450                    0.00             4     0      1  \n",
       "2             450                    0.00             4     0      1  \n",
       "3             450                    0.00             4     0      1  \n",
       "4             450                    0.00             4     1      1  \n",
       "...           ...                     ...           ...   ...    ...  \n",
       "196771        825                    0.95             3    16      8  \n",
       "196772        825                    0.96             3    17      8  \n",
       "196773        825                    0.98             3    17      8  \n",
       "196774        825                    1.00             3    17      8  \n",
       "196775        825                    0.00             3    17      8  \n",
       "\n",
       "[196776 rows x 17 columns]"
      ]
     },
     "metadata": {},
     "output_type": "display_data"
    }
   ],
   "source": [
    "# data set https://www.kaggle.com/datasets/samanemami/renewable-energy-and-weather-conditions\n",
    "df = pd.read_csv('data/solar_weather.csv', parse_dates = ['Time'])\n",
    " \n",
    "display(df)"
   ]
  },
  {
   "cell_type": "code",
   "execution_count": 7,
   "metadata": {},
   "outputs": [],
   "source": [
    "df['weather_type'] = df['weather_type'].astype('category')"
   ]
  },
  {
   "cell_type": "markdown",
   "metadata": {},
   "source": [
    "# Análise Exploratória dos Dados"
   ]
  },
  {
   "cell_type": "code",
   "execution_count": 11,
   "metadata": {},
   "outputs": [
    {
     "name": "stdout",
     "output_type": "stream",
     "text": [
      "Dataset features = Index(['Time', 'Energy delta[Wh]', 'GHI', 'temp', 'pressure', 'humidity',\n",
      "       'wind_speed', 'rain_1h', 'snow_1h', 'clouds_all', 'isSun',\n",
      "       'sunlightTime', 'dayLength', 'SunlightTime/daylength', 'weather_type',\n",
      "       'hour', 'month'],\n",
      "      dtype='object')\n"
     ]
    }
   ],
   "source": [
    "print(f'Dataset features = {df.columns}')"
   ]
  },
  {
   "cell_type": "markdown",
   "metadata": {},
   "source": [
    "## Análise para verificar a incidência de valores nulos no dataset"
   ]
  },
  {
   "cell_type": "code",
   "execution_count": 12,
   "metadata": {},
   "outputs": [
    {
     "data": {
      "text/html": [
       "<div>\n",
       "<style scoped>\n",
       "    .dataframe tbody tr th:only-of-type {\n",
       "        vertical-align: middle;\n",
       "    }\n",
       "\n",
       "    .dataframe tbody tr th {\n",
       "        vertical-align: top;\n",
       "    }\n",
       "\n",
       "    .dataframe thead th {\n",
       "        text-align: right;\n",
       "    }\n",
       "</style>\n",
       "<table border=\"1\" class=\"dataframe\">\n",
       "  <thead>\n",
       "    <tr style=\"text-align: right;\">\n",
       "      <th></th>\n",
       "      <th>Time</th>\n",
       "      <th>Energy delta[Wh]</th>\n",
       "      <th>GHI</th>\n",
       "      <th>temp</th>\n",
       "      <th>pressure</th>\n",
       "      <th>humidity</th>\n",
       "      <th>wind_speed</th>\n",
       "      <th>rain_1h</th>\n",
       "      <th>snow_1h</th>\n",
       "      <th>clouds_all</th>\n",
       "      <th>isSun</th>\n",
       "      <th>sunlightTime</th>\n",
       "      <th>dayLength</th>\n",
       "      <th>SunlightTime/daylength</th>\n",
       "      <th>weather_type</th>\n",
       "      <th>hour</th>\n",
       "      <th>month</th>\n",
       "    </tr>\n",
       "  </thead>\n",
       "  <tbody>\n",
       "    <tr>\n",
       "      <th>Null amount</th>\n",
       "      <td>0</td>\n",
       "      <td>0</td>\n",
       "      <td>0</td>\n",
       "      <td>0</td>\n",
       "      <td>0</td>\n",
       "      <td>0</td>\n",
       "      <td>0</td>\n",
       "      <td>0</td>\n",
       "      <td>0</td>\n",
       "      <td>0</td>\n",
       "      <td>0</td>\n",
       "      <td>0</td>\n",
       "      <td>0</td>\n",
       "      <td>0</td>\n",
       "      <td>0</td>\n",
       "      <td>0</td>\n",
       "      <td>0</td>\n",
       "    </tr>\n",
       "  </tbody>\n",
       "</table>\n",
       "</div>"
      ],
      "text/plain": [
       "             Time  Energy delta[Wh]  GHI  temp  pressure  humidity  \\\n",
       "Null amount     0                 0    0     0         0         0   \n",
       "\n",
       "             wind_speed  rain_1h  snow_1h  clouds_all  isSun  sunlightTime  \\\n",
       "Null amount           0        0        0           0      0             0   \n",
       "\n",
       "             dayLength  SunlightTime/daylength  weather_type  hour  month  \n",
       "Null amount          0                       0             0     0      0  "
      ]
     },
     "metadata": {},
     "output_type": "display_data"
    },
    {
     "name": "stdout",
     "output_type": "stream",
     "text": [
      "\n",
      "Total null values = 0\n"
     ]
    }
   ],
   "source": [
    "nulls_df = pd.DataFrame(df.isnull().sum(), columns = ['Null amount'])\n",
    "\n",
    "display(nulls_df.T)\n",
    "\n",
    "print(f\"\\nTotal null values = {np.sum(nulls_df.values)}\")"
   ]
  },
  {
   "cell_type": "markdown",
   "metadata": {},
   "source": [
    "## Análise sobre a distribuição dos atributos numéricos do dataset"
   ]
  },
  {
   "cell_type": "code",
   "execution_count": null,
   "metadata": {
    "execution": {
     "iopub.execute_input": "2023-10-13T15:55:39.519572Z",
     "iopub.status.busy": "2023-10-13T15:55:39.519237Z",
     "iopub.status.idle": "2023-10-13T15:55:39.679088Z",
     "shell.execute_reply": "2023-10-13T15:55:39.678268Z",
     "shell.execute_reply.started": "2023-10-13T15:55:39.519544Z"
    }
   },
   "outputs": [],
   "source": [
    "display(df.describe())"
   ]
  },
  {
   "cell_type": "code",
   "execution_count": null,
   "metadata": {
    "execution": {
     "iopub.execute_input": "2023-10-13T15:55:39.680194Z",
     "iopub.status.busy": "2023-10-13T15:55:39.679939Z",
     "iopub.status.idle": "2023-10-13T15:55:41.146519Z",
     "shell.execute_reply": "2023-10-13T15:55:41.145343Z",
     "shell.execute_reply.started": "2023-10-13T15:55:39.680172Z"
    }
   },
   "outputs": [],
   "source": [
    "temp_distribution = f\"Temperature skew = {df['temp'].skew()}\\n\" + f\"Temperature kurtosis = {df['temp'].kurtosis()}\\n\"\n",
    "\n",
    "fig, ax = plt.subplots(figsize = (10,10))\n",
    "\n",
    "sns.kdeplot(data = df['temp'], color = 'DarkCyan', ax = ax).set_title(temp_distribution)\n",
    "\n",
    "ax.axvline(x = df['temp'].mean(), color = 'ForestGreen', label = 'Mean temperature')\n",
    "ax.axvline(x = df['temp'].median(), color = 'Silver', label = 'Median temperature')\n",
    "\n",
    "plt.legend()\n",
    "\n",
    "plt.show()"
   ]
  },
  {
   "cell_type": "markdown",
   "metadata": {},
   "source": [
    "A partir do gráfico acima é possível notar uma leve assimetria, com uma cauda direita na distribuição, indicada ainda pelo valor \"skew\" ser maior do que zero. \n",
    "Pelo coeficiente de curtose, concluí-se que a distribuição é leptocúrtica, sendo mais concentrada que uma distribuição normal"
   ]
  },
  {
   "cell_type": "code",
   "execution_count": null,
   "metadata": {
    "execution": {
     "iopub.execute_input": "2023-10-13T15:55:41.148012Z",
     "iopub.status.busy": "2023-10-13T15:55:41.147696Z",
     "iopub.status.idle": "2023-10-13T15:55:42.664442Z",
     "shell.execute_reply": "2023-10-13T15:55:42.663261Z",
     "shell.execute_reply.started": "2023-10-13T15:55:41.147985Z"
    }
   },
   "outputs": [],
   "source": [
    "fig, axes = plt.subplots(1, 2, figsize = (12, 5))\n",
    "\n",
    "sns.histplot(data = df['temp'], color = 'DarkGreen', kde = True, ax = axes[0])\n",
    "\n",
    "sns.boxplot(x = df['temp'], color = 'SeaGreen', ax = axes[1])\n",
    "\n",
    "plt.show()"
   ]
  },
  {
   "cell_type": "code",
   "execution_count": null,
   "metadata": {
    "execution": {
     "iopub.execute_input": "2023-10-13T15:55:42.668208Z",
     "iopub.status.busy": "2023-10-13T15:55:42.667856Z",
     "iopub.status.idle": "2023-10-13T15:58:08.908081Z",
     "shell.execute_reply": "2023-10-13T15:58:08.906884Z",
     "shell.execute_reply.started": "2023-10-13T15:55:42.668175Z"
    }
   },
   "outputs": [],
   "source": [
    "fig, axes = plt.subplots(1, 2, figsize = (12, 5))\n",
    "\n",
    "sns.regplot(data = df, \n",
    "            x = 'Energy delta[Wh]', \n",
    "            y = 'temp', \n",
    "            ax = axes[0],\n",
    "            color = 'LightBlue'\n",
    "           )\n",
    "\n",
    "sns.regplot(data = df, \n",
    "           x = 'pressure', \n",
    "           y = 'temp', \n",
    "           ax = axes[1],\n",
    "           color = 'LightSeaGreen'\n",
    "          )\n",
    "\n",
    "plt.show()"
   ]
  },
  {
   "cell_type": "code",
   "execution_count": null,
   "metadata": {
    "execution": {
     "iopub.execute_input": "2023-10-13T15:58:08.910096Z",
     "iopub.status.busy": "2023-10-13T15:58:08.909377Z",
     "iopub.status.idle": "2023-10-13T15:58:09.247004Z",
     "shell.execute_reply": "2023-10-13T15:58:09.245521Z",
     "shell.execute_reply.started": "2023-10-13T15:58:08.910065Z"
    }
   },
   "outputs": [],
   "source": [
    "mean_temp_by_month = df.groupby('month')[['temp']].mean()\n",
    "\n",
    "sns.scatterplot(x = mean_temp_by_month.index, \n",
    "                y = mean_temp_by_month.temp\n",
    "               )\n",
    "\n",
    "sns.lineplot(x = mean_temp_by_month.index, \n",
    "             y = mean_temp_by_month.temp\n",
    "            ).set_title('Mean temperature by month')\n",
    "\n",
    "plt.show()"
   ]
  },
  {
   "cell_type": "code",
   "execution_count": null,
   "metadata": {
    "execution": {
     "iopub.execute_input": "2023-10-13T15:58:09.248661Z",
     "iopub.status.busy": "2023-10-13T15:58:09.248323Z",
     "iopub.status.idle": "2023-10-13T15:58:09.508493Z",
     "shell.execute_reply": "2023-10-13T15:58:09.507023Z",
     "shell.execute_reply.started": "2023-10-13T15:58:09.248632Z"
    }
   },
   "outputs": [],
   "source": [
    "weather_type_counts = df['weather_type'].value_counts()\n",
    "\n",
    "sns.barplot(x = weather_type_counts.index, \n",
    "            y = weather_type_counts.values, \n",
    "            palette = ['steelblue', 'purple', 'gold', 'springgreen', 'teal']\n",
    "           )\n",
    "\n",
    "plt.show()"
   ]
  },
  {
   "cell_type": "code",
   "execution_count": null,
   "metadata": {
    "execution": {
     "iopub.execute_input": "2023-10-13T15:58:09.510171Z",
     "iopub.status.busy": "2023-10-13T15:58:09.509871Z",
     "iopub.status.idle": "2023-10-13T15:58:10.330191Z",
     "shell.execute_reply": "2023-10-13T15:58:10.328852Z",
     "shell.execute_reply.started": "2023-10-13T15:58:09.510145Z"
    }
   },
   "outputs": [],
   "source": [
    "fig, axes = plt.subplots(2, 2, figsize = (14, 10))\n",
    "\n",
    "wind_speed_title = f\"Wind Speed Boxplot\\nWind Speed median = {df['wind_speed'].median()}\"\n",
    "sns.boxplot(data = df, y = 'wind_speed', color = 'DarkRed', ax = axes[0][0]).set_title(wind_speed_title)\n",
    "\n",
    "energy_title = f\"Energy Boxplot\\nEnergy median = {df['Energy delta[Wh]'].median()}\"\n",
    "sns.boxplot(data = df, y = 'Energy delta[Wh]', color = 'DarkOrange', ax = axes[0][1]).set_title(energy_title)\n",
    "\n",
    "pressure_title = f\"Pressure Boxplot\\nPressure median = {df['pressure'].median()}\"\n",
    "sns.boxplot(data = df, y = 'pressure', color = 'Purple', ax = axes[1][0]).set_title(pressure_title)\n",
    "\n",
    "humidity_title = f\"Humidity Boxplot\\nHumidity median = {df['humidity'].median()}\"\n",
    "sns.boxplot(data = df, y = 'humidity', color = 'DarkBlue', ax = axes[1][1]).set_title(humidity_title)\n",
    "\n",
    "plt.show()"
   ]
  },
  {
   "cell_type": "code",
   "execution_count": null,
   "metadata": {
    "execution": {
     "iopub.execute_input": "2023-10-13T15:58:10.332336Z",
     "iopub.status.busy": "2023-10-13T15:58:10.331900Z",
     "iopub.status.idle": "2023-10-13T15:58:10.352151Z",
     "shell.execute_reply": "2023-10-13T15:58:10.351046Z",
     "shell.execute_reply.started": "2023-10-13T15:58:10.332296Z"
    }
   },
   "outputs": [],
   "source": [
    "numeric_features = df.drop(columns = ['isSun', 'weather_type'])"
   ]
  },
  {
   "cell_type": "code",
   "execution_count": null,
   "metadata": {
    "execution": {
     "iopub.execute_input": "2023-10-13T15:58:10.353788Z",
     "iopub.status.busy": "2023-10-13T15:58:10.353490Z",
     "iopub.status.idle": "2023-10-13T15:58:11.209517Z",
     "shell.execute_reply": "2023-10-13T15:58:11.208520Z",
     "shell.execute_reply.started": "2023-10-13T15:58:10.353763Z"
    }
   },
   "outputs": [],
   "source": [
    "numeric_data = numeric_features.copy()\n",
    "\n",
    "for feature in numeric_data.columns:\n",
    "    numeric_data[feature] -= np.min(numeric_data[feature])\n",
    "    numeric_data[feature] /= np.max(numeric_data[feature])\n",
    "\n",
    "fig, ax = plt.subplots(figsize = (20, 4))\n",
    "    \n",
    "sns.boxplot(data = numeric_data, palette = \"viridis\").set_title(\"Scaled numeric features boxplots\")\n",
    "\n",
    "plt.xticks(rotation = 45)\n",
    "\n",
    "plt.show()"
   ]
  },
  {
   "cell_type": "code",
   "execution_count": null,
   "metadata": {
    "execution": {
     "iopub.execute_input": "2023-10-13T15:58:11.211459Z",
     "iopub.status.busy": "2023-10-13T15:58:11.211050Z",
     "iopub.status.idle": "2023-10-13T16:00:54.763376Z",
     "shell.execute_reply": "2023-10-13T16:00:54.762221Z",
     "shell.execute_reply.started": "2023-10-13T15:58:11.211394Z"
    }
   },
   "outputs": [],
   "source": [
    "pd.plotting.scatter_matrix(numeric_features, c = df['weather_type'], figsize = (20, 20), cmap = 'viridis')\n",
    "\n",
    "plt.show()"
   ]
  },
  {
   "cell_type": "code",
   "execution_count": null,
   "metadata": {
    "execution": {
     "iopub.execute_input": "2023-10-13T16:00:54.765519Z",
     "iopub.status.busy": "2023-10-13T16:00:54.764722Z",
     "iopub.status.idle": "2023-10-13T16:00:56.013157Z",
     "shell.execute_reply": "2023-10-13T16:00:56.012133Z",
     "shell.execute_reply.started": "2023-10-13T16:00:54.765478Z"
    }
   },
   "outputs": [],
   "source": [
    "fig, ax = plt.subplots(figsize = (20,20))\n",
    "sns.heatmap(numeric_features.corr(), annot = True, cmap = 'viridis')\n",
    "plt.show()"
   ]
  },
  {
   "cell_type": "markdown",
   "metadata": {},
   "source": [
    "O heatmap acima indica a correlação, usando o método de Pearson, entre os atributos numéricos do dataset. A partir do gráfico, é possível observar uma forte correlação positiva entre a energia produzida e o GHI (global horizontal irradiance).<br> \n",
    "Por outro lado, nota-se também uma forte correlação negativa entre o tempo de luminosidade e a humidade."
   ]
  },
  {
   "cell_type": "code",
   "execution_count": 8,
   "metadata": {},
   "outputs": [],
   "source": [
    "X = df.drop(columns = ['temp', 'Time'])\n",
    "y = df['temp']"
   ]
  },
  {
   "cell_type": "code",
   "execution_count": 9,
   "metadata": {},
   "outputs": [],
   "source": [
    "numeric_X_features = ['Energy delta[Wh]', 'GHI', 'pressure', 'humidity',\n",
    "       'wind_speed', 'rain_1h', 'snow_1h', 'clouds_all',\n",
    "       'sunlightTime', 'dayLength', 'SunlightTime/daylength',\n",
    "       'hour', 'month']\n",
    "\n",
    "categorical_X_features = ['weather_type']"
   ]
  },
  {
   "cell_type": "code",
   "execution_count": 10,
   "metadata": {},
   "outputs": [],
   "source": [
    "preprocessor = ColumnTransformer(transformers = \n",
    "                                    [(\"numeric\", StandardScaler(), numeric_X_features),\n",
    "                                     (\"categorical\", OneHotEncoder(handle_unknown = \"ignore\"), categorical_X_features)]\n",
    "                                ) "
   ]
  },
  {
   "cell_type": "code",
   "execution_count": 11,
   "metadata": {},
   "outputs": [
    {
     "name": "stdout",
     "output_type": "stream",
     "text": [
      "X Train shape = (78710, 15)\n",
      "y Train shape = (78710,)\n",
      "X Test shape = (118066, 15)\n",
      "y Test shape = (118066,)\n"
     ]
    }
   ],
   "source": [
    "train_X, test_X, train_y, test_y = train_test_split(X, y, \n",
    "                                                    test_size = 0.6, \n",
    "                                                    random_state = 42\n",
    "                                                   )\n",
    "\n",
    "print(f\"X Train shape = {train_X.shape}\")\n",
    "print(f\"y Train shape = {train_y.shape}\")\n",
    "print(f\"X Test shape = {test_X.shape}\")\n",
    "print(f\"y Test shape = {test_y.shape}\")"
   ]
  },
  {
   "cell_type": "code",
   "execution_count": null,
   "metadata": {
    "execution": {
     "iopub.execute_input": "2023-10-13T16:00:56.148787Z",
     "iopub.status.busy": "2023-10-13T16:00:56.148464Z",
     "iopub.status.idle": "2023-10-13T16:00:56.454681Z",
     "shell.execute_reply": "2023-10-13T16:00:56.453162Z",
     "shell.execute_reply.started": "2023-10-13T16:00:56.148760Z"
    }
   },
   "outputs": [],
   "source": [
    "rlinear = Pipeline([('preprocessor', preprocessor),\n",
    "                    ('linear_reg', LinearRegression())\n",
    "                   ])\n",
    "\n",
    "rlinear.fit(train_X, train_y)"
   ]
  },
  {
   "cell_type": "code",
   "execution_count": null,
   "metadata": {
    "execution": {
     "iopub.execute_input": "2023-10-13T16:00:56.457189Z",
     "iopub.status.busy": "2023-10-13T16:00:56.456751Z",
     "iopub.status.idle": "2023-10-13T16:00:56.687039Z",
     "shell.execute_reply": "2023-10-13T16:00:56.685054Z",
     "shell.execute_reply.started": "2023-10-13T16:00:56.457156Z"
    }
   },
   "outputs": [],
   "source": [
    "print(f\"Linear regression train r2 score = {rlinear.score(train_X, train_y)}\")\n",
    "print(f\"Linear regression test r2 score = {rlinear.score(test_X, test_y)}\")"
   ]
  },
  {
   "cell_type": "code",
   "execution_count": null,
   "metadata": {
    "execution": {
     "iopub.execute_input": "2023-10-13T16:00:56.694716Z",
     "iopub.status.busy": "2023-10-13T16:00:56.688421Z",
     "iopub.status.idle": "2023-10-13T16:01:05.215357Z",
     "shell.execute_reply": "2023-10-13T16:01:05.213934Z",
     "shell.execute_reply.started": "2023-10-13T16:00:56.694656Z"
    }
   },
   "outputs": [],
   "source": [
    "linear_scores = cross_val_score(Pipeline([('preprocessor', preprocessor), \n",
    "                                          ('linear_reg', LinearRegression())\n",
    "                                         ]), \n",
    "                                X, y, cv = 5, n_jobs = 4\n",
    "                               )"
   ]
  },
  {
   "cell_type": "code",
   "execution_count": null,
   "metadata": {
    "execution": {
     "iopub.execute_input": "2023-10-13T16:01:05.217695Z",
     "iopub.status.busy": "2023-10-13T16:01:05.217301Z",
     "iopub.status.idle": "2023-10-13T16:01:05.225384Z",
     "shell.execute_reply": "2023-10-13T16:01:05.223938Z",
     "shell.execute_reply.started": "2023-10-13T16:01:05.217659Z"
    }
   },
   "outputs": [],
   "source": [
    "print(f\"Cross val scores for linear regression = {linear_scores}\")\n",
    "print(f\"Mean cross val scores = {linear_scores.mean()}\")\n",
    "print(f\"Cross val scores standard deviation = {linear_scores.std()}\")"
   ]
  },
  {
   "cell_type": "code",
   "execution_count": null,
   "metadata": {
    "execution": {
     "iopub.execute_input": "2023-10-13T16:01:05.227076Z",
     "iopub.status.busy": "2023-10-13T16:01:05.226749Z",
     "iopub.status.idle": "2023-10-13T16:01:11.008060Z",
     "shell.execute_reply": "2023-10-13T16:01:11.007006Z",
     "shell.execute_reply.started": "2023-10-13T16:01:05.227049Z"
    }
   },
   "outputs": [],
   "source": [
    "ridge_grid_param = {'ridge__alpha': [0.01, 0.1, 1, 10, 100]} \n",
    "\n",
    "ridge_pipe = Pipeline([('preprocessor', preprocessor), ('ridge', Ridge())])\n",
    "\n",
    "ridge = GridSearchCV(ridge_pipe, ridge_grid_param, cv = 5)\n",
    "\n",
    "ridge.fit(train_X, train_y)"
   ]
  },
  {
   "cell_type": "code",
   "execution_count": null,
   "metadata": {
    "execution": {
     "iopub.execute_input": "2023-10-13T16:01:11.010683Z",
     "iopub.status.busy": "2023-10-13T16:01:11.009881Z",
     "iopub.status.idle": "2023-10-13T16:01:11.234866Z",
     "shell.execute_reply": "2023-10-13T16:01:11.232354Z",
     "shell.execute_reply.started": "2023-10-13T16:01:11.010642Z"
    }
   },
   "outputs": [],
   "source": [
    "print(f\"Ridge train r2 score = {ridge.score(train_X, train_y)}\")\n",
    "print(f\"Ridge test r2 score = {ridge.score(test_X, test_y)}\")"
   ]
  },
  {
   "cell_type": "code",
   "execution_count": null,
   "metadata": {
    "execution": {
     "iopub.execute_input": "2023-10-13T16:01:11.259337Z",
     "iopub.status.busy": "2023-10-13T16:01:11.258970Z",
     "iopub.status.idle": "2023-10-13T16:01:11.283452Z",
     "shell.execute_reply": "2023-10-13T16:01:11.280507Z",
     "shell.execute_reply.started": "2023-10-13T16:01:11.259310Z"
    }
   },
   "outputs": [],
   "source": [
    "print(f\"Best parameter for ridge = {ridge.best_estimator_.named_steps['ridge']}\")"
   ]
  },
  {
   "cell_type": "code",
   "execution_count": null,
   "metadata": {
    "execution": {
     "iopub.execute_input": "2023-10-13T16:01:11.287166Z",
     "iopub.status.busy": "2023-10-13T16:01:11.286635Z",
     "iopub.status.idle": "2023-10-13T16:01:12.028017Z",
     "shell.execute_reply": "2023-10-13T16:01:12.025838Z",
     "shell.execute_reply.started": "2023-10-13T16:01:11.287120Z"
    }
   },
   "outputs": [],
   "source": [
    "elastic_net = Pipeline([('preprocessor', preprocessor), \n",
    "                        ('elast_net', ElasticNet(random_state = 42, alpha = 0.001))\n",
    "                       ])\n",
    "\n",
    "elastic_net.fit(train_X, train_y)"
   ]
  },
  {
   "cell_type": "code",
   "execution_count": null,
   "metadata": {
    "execution": {
     "iopub.execute_input": "2023-10-13T16:01:12.031080Z",
     "iopub.status.busy": "2023-10-13T16:01:12.030762Z",
     "iopub.status.idle": "2023-10-13T16:01:12.285088Z",
     "shell.execute_reply": "2023-10-13T16:01:12.282764Z",
     "shell.execute_reply.started": "2023-10-13T16:01:12.031054Z"
    }
   },
   "outputs": [],
   "source": [
    "print(f\"Elastic Net train r2 score = {elastic_net.score(train_X, train_y)}\")\n",
    "print(f\"Elastic Net test r2 score = {elastic_net.score(test_X, test_y)}\")"
   ]
  },
  {
   "cell_type": "code",
   "execution_count": null,
   "metadata": {
    "execution": {
     "iopub.execute_input": "2023-10-13T16:01:12.287981Z",
     "iopub.status.busy": "2023-10-13T16:01:12.287499Z",
     "iopub.status.idle": "2023-10-13T16:01:20.404102Z",
     "shell.execute_reply": "2023-10-13T16:01:20.402805Z",
     "shell.execute_reply.started": "2023-10-13T16:01:12.287936Z"
    }
   },
   "outputs": [],
   "source": [
    "elastic_scores = cross_val_score(Pipeline([('preprocessor', preprocessor), \n",
    "                                           ('elast_net', ElasticNet(random_state = 42, alpha = 0.001))\n",
    "                                          ]),\n",
    "                                 X, y, cv = 5, n_jobs = 4\n",
    "                                )"
   ]
  },
  {
   "cell_type": "code",
   "execution_count": null,
   "metadata": {
    "execution": {
     "iopub.execute_input": "2023-10-13T16:01:20.405841Z",
     "iopub.status.busy": "2023-10-13T16:01:20.405521Z",
     "iopub.status.idle": "2023-10-13T16:01:20.412605Z",
     "shell.execute_reply": "2023-10-13T16:01:20.411515Z",
     "shell.execute_reply.started": "2023-10-13T16:01:20.405814Z"
    }
   },
   "outputs": [],
   "source": [
    "print(f\"Cross val scores for elastic net = {elastic_scores}\")\n",
    "print(f\"Mean cross val scores = {elastic_scores.mean()}\")\n",
    "print(f\"Cross val scores standard deviation = {elastic_scores.std()}\")"
   ]
  },
  {
   "cell_type": "code",
   "execution_count": null,
   "metadata": {
    "execution": {
     "iopub.execute_input": "2023-10-13T16:01:20.414412Z",
     "iopub.status.busy": "2023-10-13T16:01:20.414111Z",
     "iopub.status.idle": "2023-10-13T16:13:07.789465Z",
     "shell.execute_reply": "2023-10-13T16:13:07.788324Z",
     "shell.execute_reply.started": "2023-10-13T16:01:20.414387Z"
    }
   },
   "outputs": [],
   "source": [
    "svr = Pipeline([('preprocessor', preprocessor), ('svr', SVR(C = 100, gamma = 0.01))])\n",
    "\n",
    "svr.fit(train_X, train_y)"
   ]
  },
  {
   "cell_type": "code",
   "execution_count": null,
   "metadata": {},
   "outputs": [],
   "source": [
    "print(f\"SVR train r2 score = {svr.score(train_X, train_y)}\")\n",
    "print(f\"SVR test r2 score = {svr.score(test_X, test_y)}\")"
   ]
  },
  {
   "cell_type": "code",
   "execution_count": 12,
   "metadata": {},
   "outputs": [
    {
     "data": {
      "text/html": [
       "<style>#sk-container-id-1 {color: black;}#sk-container-id-1 pre{padding: 0;}#sk-container-id-1 div.sk-toggleable {background-color: white;}#sk-container-id-1 label.sk-toggleable__label {cursor: pointer;display: block;width: 100%;margin-bottom: 0;padding: 0.3em;box-sizing: border-box;text-align: center;}#sk-container-id-1 label.sk-toggleable__label-arrow:before {content: \"▸\";float: left;margin-right: 0.25em;color: #696969;}#sk-container-id-1 label.sk-toggleable__label-arrow:hover:before {color: black;}#sk-container-id-1 div.sk-estimator:hover label.sk-toggleable__label-arrow:before {color: black;}#sk-container-id-1 div.sk-toggleable__content {max-height: 0;max-width: 0;overflow: hidden;text-align: left;background-color: #f0f8ff;}#sk-container-id-1 div.sk-toggleable__content pre {margin: 0.2em;color: black;border-radius: 0.25em;background-color: #f0f8ff;}#sk-container-id-1 input.sk-toggleable__control:checked~div.sk-toggleable__content {max-height: 200px;max-width: 100%;overflow: auto;}#sk-container-id-1 input.sk-toggleable__control:checked~label.sk-toggleable__label-arrow:before {content: \"▾\";}#sk-container-id-1 div.sk-estimator input.sk-toggleable__control:checked~label.sk-toggleable__label {background-color: #d4ebff;}#sk-container-id-1 div.sk-label input.sk-toggleable__control:checked~label.sk-toggleable__label {background-color: #d4ebff;}#sk-container-id-1 input.sk-hidden--visually {border: 0;clip: rect(1px 1px 1px 1px);clip: rect(1px, 1px, 1px, 1px);height: 1px;margin: -1px;overflow: hidden;padding: 0;position: absolute;width: 1px;}#sk-container-id-1 div.sk-estimator {font-family: monospace;background-color: #f0f8ff;border: 1px dotted black;border-radius: 0.25em;box-sizing: border-box;margin-bottom: 0.5em;}#sk-container-id-1 div.sk-estimator:hover {background-color: #d4ebff;}#sk-container-id-1 div.sk-parallel-item::after {content: \"\";width: 100%;border-bottom: 1px solid gray;flex-grow: 1;}#sk-container-id-1 div.sk-label:hover label.sk-toggleable__label {background-color: #d4ebff;}#sk-container-id-1 div.sk-serial::before {content: \"\";position: absolute;border-left: 1px solid gray;box-sizing: border-box;top: 0;bottom: 0;left: 50%;z-index: 0;}#sk-container-id-1 div.sk-serial {display: flex;flex-direction: column;align-items: center;background-color: white;padding-right: 0.2em;padding-left: 0.2em;position: relative;}#sk-container-id-1 div.sk-item {position: relative;z-index: 1;}#sk-container-id-1 div.sk-parallel {display: flex;align-items: stretch;justify-content: center;background-color: white;position: relative;}#sk-container-id-1 div.sk-item::before, #sk-container-id-1 div.sk-parallel-item::before {content: \"\";position: absolute;border-left: 1px solid gray;box-sizing: border-box;top: 0;bottom: 0;left: 50%;z-index: -1;}#sk-container-id-1 div.sk-parallel-item {display: flex;flex-direction: column;z-index: 1;position: relative;background-color: white;}#sk-container-id-1 div.sk-parallel-item:first-child::after {align-self: flex-end;width: 50%;}#sk-container-id-1 div.sk-parallel-item:last-child::after {align-self: flex-start;width: 50%;}#sk-container-id-1 div.sk-parallel-item:only-child::after {width: 0;}#sk-container-id-1 div.sk-dashed-wrapped {border: 1px dashed gray;margin: 0 0.4em 0.5em 0.4em;box-sizing: border-box;padding-bottom: 0.4em;background-color: white;}#sk-container-id-1 div.sk-label label {font-family: monospace;font-weight: bold;display: inline-block;line-height: 1.2em;}#sk-container-id-1 div.sk-label-container {text-align: center;}#sk-container-id-1 div.sk-container {/* jupyter's `normalize.less` sets `[hidden] { display: none; }` but bootstrap.min.css set `[hidden] { display: none !important; }` so we also need the `!important` here to be able to override the default hidden behavior on the sphinx rendered scikit-learn.org. See: https://github.com/scikit-learn/scikit-learn/issues/21755 */display: inline-block !important;position: relative;}#sk-container-id-1 div.sk-text-repr-fallback {display: none;}</style><div id=\"sk-container-id-1\" class=\"sk-top-container\"><div class=\"sk-text-repr-fallback\"><pre>Pipeline(steps=[(&#x27;preprocessor&#x27;,\n",
       "                 ColumnTransformer(transformers=[(&#x27;numeric&#x27;, StandardScaler(),\n",
       "                                                  [&#x27;Energy delta[Wh]&#x27;, &#x27;GHI&#x27;,\n",
       "                                                   &#x27;pressure&#x27;, &#x27;humidity&#x27;,\n",
       "                                                   &#x27;wind_speed&#x27;, &#x27;rain_1h&#x27;,\n",
       "                                                   &#x27;snow_1h&#x27;, &#x27;clouds_all&#x27;,\n",
       "                                                   &#x27;sunlightTime&#x27;, &#x27;dayLength&#x27;,\n",
       "                                                   &#x27;SunlightTime/daylength&#x27;,\n",
       "                                                   &#x27;hour&#x27;, &#x27;month&#x27;]),\n",
       "                                                 (&#x27;categorical&#x27;,\n",
       "                                                  OneHotEncoder(handle_unknown=&#x27;ignore&#x27;),\n",
       "                                                  [&#x27;weather_type&#x27;])])),\n",
       "                (&#x27;svr&#x27;, SVR(C=100, gamma=0.01, kernel=&#x27;sigmoid&#x27;))])</pre><b>In a Jupyter environment, please rerun this cell to show the HTML representation or trust the notebook. <br />On GitHub, the HTML representation is unable to render, please try loading this page with nbviewer.org.</b></div><div class=\"sk-container\" hidden><div class=\"sk-item sk-dashed-wrapped\"><div class=\"sk-label-container\"><div class=\"sk-label sk-toggleable\"><input class=\"sk-toggleable__control sk-hidden--visually\" id=\"sk-estimator-id-1\" type=\"checkbox\" ><label for=\"sk-estimator-id-1\" class=\"sk-toggleable__label sk-toggleable__label-arrow\">Pipeline</label><div class=\"sk-toggleable__content\"><pre>Pipeline(steps=[(&#x27;preprocessor&#x27;,\n",
       "                 ColumnTransformer(transformers=[(&#x27;numeric&#x27;, StandardScaler(),\n",
       "                                                  [&#x27;Energy delta[Wh]&#x27;, &#x27;GHI&#x27;,\n",
       "                                                   &#x27;pressure&#x27;, &#x27;humidity&#x27;,\n",
       "                                                   &#x27;wind_speed&#x27;, &#x27;rain_1h&#x27;,\n",
       "                                                   &#x27;snow_1h&#x27;, &#x27;clouds_all&#x27;,\n",
       "                                                   &#x27;sunlightTime&#x27;, &#x27;dayLength&#x27;,\n",
       "                                                   &#x27;SunlightTime/daylength&#x27;,\n",
       "                                                   &#x27;hour&#x27;, &#x27;month&#x27;]),\n",
       "                                                 (&#x27;categorical&#x27;,\n",
       "                                                  OneHotEncoder(handle_unknown=&#x27;ignore&#x27;),\n",
       "                                                  [&#x27;weather_type&#x27;])])),\n",
       "                (&#x27;svr&#x27;, SVR(C=100, gamma=0.01, kernel=&#x27;sigmoid&#x27;))])</pre></div></div></div><div class=\"sk-serial\"><div class=\"sk-item sk-dashed-wrapped\"><div class=\"sk-label-container\"><div class=\"sk-label sk-toggleable\"><input class=\"sk-toggleable__control sk-hidden--visually\" id=\"sk-estimator-id-2\" type=\"checkbox\" ><label for=\"sk-estimator-id-2\" class=\"sk-toggleable__label sk-toggleable__label-arrow\">preprocessor: ColumnTransformer</label><div class=\"sk-toggleable__content\"><pre>ColumnTransformer(transformers=[(&#x27;numeric&#x27;, StandardScaler(),\n",
       "                                 [&#x27;Energy delta[Wh]&#x27;, &#x27;GHI&#x27;, &#x27;pressure&#x27;,\n",
       "                                  &#x27;humidity&#x27;, &#x27;wind_speed&#x27;, &#x27;rain_1h&#x27;,\n",
       "                                  &#x27;snow_1h&#x27;, &#x27;clouds_all&#x27;, &#x27;sunlightTime&#x27;,\n",
       "                                  &#x27;dayLength&#x27;, &#x27;SunlightTime/daylength&#x27;, &#x27;hour&#x27;,\n",
       "                                  &#x27;month&#x27;]),\n",
       "                                (&#x27;categorical&#x27;,\n",
       "                                 OneHotEncoder(handle_unknown=&#x27;ignore&#x27;),\n",
       "                                 [&#x27;weather_type&#x27;])])</pre></div></div></div><div class=\"sk-parallel\"><div class=\"sk-parallel-item\"><div class=\"sk-item\"><div class=\"sk-label-container\"><div class=\"sk-label sk-toggleable\"><input class=\"sk-toggleable__control sk-hidden--visually\" id=\"sk-estimator-id-3\" type=\"checkbox\" ><label for=\"sk-estimator-id-3\" class=\"sk-toggleable__label sk-toggleable__label-arrow\">numeric</label><div class=\"sk-toggleable__content\"><pre>[&#x27;Energy delta[Wh]&#x27;, &#x27;GHI&#x27;, &#x27;pressure&#x27;, &#x27;humidity&#x27;, &#x27;wind_speed&#x27;, &#x27;rain_1h&#x27;, &#x27;snow_1h&#x27;, &#x27;clouds_all&#x27;, &#x27;sunlightTime&#x27;, &#x27;dayLength&#x27;, &#x27;SunlightTime/daylength&#x27;, &#x27;hour&#x27;, &#x27;month&#x27;]</pre></div></div></div><div class=\"sk-serial\"><div class=\"sk-item\"><div class=\"sk-estimator sk-toggleable\"><input class=\"sk-toggleable__control sk-hidden--visually\" id=\"sk-estimator-id-4\" type=\"checkbox\" ><label for=\"sk-estimator-id-4\" class=\"sk-toggleable__label sk-toggleable__label-arrow\">StandardScaler</label><div class=\"sk-toggleable__content\"><pre>StandardScaler()</pre></div></div></div></div></div></div><div class=\"sk-parallel-item\"><div class=\"sk-item\"><div class=\"sk-label-container\"><div class=\"sk-label sk-toggleable\"><input class=\"sk-toggleable__control sk-hidden--visually\" id=\"sk-estimator-id-5\" type=\"checkbox\" ><label for=\"sk-estimator-id-5\" class=\"sk-toggleable__label sk-toggleable__label-arrow\">categorical</label><div class=\"sk-toggleable__content\"><pre>[&#x27;weather_type&#x27;]</pre></div></div></div><div class=\"sk-serial\"><div class=\"sk-item\"><div class=\"sk-estimator sk-toggleable\"><input class=\"sk-toggleable__control sk-hidden--visually\" id=\"sk-estimator-id-6\" type=\"checkbox\" ><label for=\"sk-estimator-id-6\" class=\"sk-toggleable__label sk-toggleable__label-arrow\">OneHotEncoder</label><div class=\"sk-toggleable__content\"><pre>OneHotEncoder(handle_unknown=&#x27;ignore&#x27;)</pre></div></div></div></div></div></div></div></div><div class=\"sk-item\"><div class=\"sk-estimator sk-toggleable\"><input class=\"sk-toggleable__control sk-hidden--visually\" id=\"sk-estimator-id-7\" type=\"checkbox\" ><label for=\"sk-estimator-id-7\" class=\"sk-toggleable__label sk-toggleable__label-arrow\">SVR</label><div class=\"sk-toggleable__content\"><pre>SVR(C=100, gamma=0.01, kernel=&#x27;sigmoid&#x27;)</pre></div></div></div></div></div></div></div>"
      ],
      "text/plain": [
       "Pipeline(steps=[('preprocessor',\n",
       "                 ColumnTransformer(transformers=[('numeric', StandardScaler(),\n",
       "                                                  ['Energy delta[Wh]', 'GHI',\n",
       "                                                   'pressure', 'humidity',\n",
       "                                                   'wind_speed', 'rain_1h',\n",
       "                                                   'snow_1h', 'clouds_all',\n",
       "                                                   'sunlightTime', 'dayLength',\n",
       "                                                   'SunlightTime/daylength',\n",
       "                                                   'hour', 'month']),\n",
       "                                                 ('categorical',\n",
       "                                                  OneHotEncoder(handle_unknown='ignore'),\n",
       "                                                  ['weather_type'])])),\n",
       "                ('svr', SVR(C=100, gamma=0.01, kernel='sigmoid'))])"
      ]
     },
     "execution_count": 12,
     "metadata": {},
     "output_type": "execute_result"
    }
   ],
   "source": [
    "svr_sig = Pipeline([('preprocessor', preprocessor), ('svr', SVR(kernel = 'sigmoid', C = 100, gamma = 0.01))])\n",
    "\n",
    "svr_sig.fit(train_X, train_y)"
   ]
  },
  {
   "cell_type": "code",
   "execution_count": 13,
   "metadata": {},
   "outputs": [
    {
     "name": "stdout",
     "output_type": "stream",
     "text": [
      "SVR train r2 score = -29684.245405440062\n",
      "SVR test r2 score = -33375.52435700111\n"
     ]
    }
   ],
   "source": [
    "print(f\"SVR train r2 score = {svr_sig.score(train_X, train_y)}\")\n",
    "print(f\"SVR test r2 score = {svr_sig.score(test_X, test_y)}\")"
   ]
  },
  {
   "cell_type": "code",
   "execution_count": 14,
   "metadata": {},
   "outputs": [
    {
     "data": {
      "text/html": [
       "<style>#sk-container-id-2 {color: black;}#sk-container-id-2 pre{padding: 0;}#sk-container-id-2 div.sk-toggleable {background-color: white;}#sk-container-id-2 label.sk-toggleable__label {cursor: pointer;display: block;width: 100%;margin-bottom: 0;padding: 0.3em;box-sizing: border-box;text-align: center;}#sk-container-id-2 label.sk-toggleable__label-arrow:before {content: \"▸\";float: left;margin-right: 0.25em;color: #696969;}#sk-container-id-2 label.sk-toggleable__label-arrow:hover:before {color: black;}#sk-container-id-2 div.sk-estimator:hover label.sk-toggleable__label-arrow:before {color: black;}#sk-container-id-2 div.sk-toggleable__content {max-height: 0;max-width: 0;overflow: hidden;text-align: left;background-color: #f0f8ff;}#sk-container-id-2 div.sk-toggleable__content pre {margin: 0.2em;color: black;border-radius: 0.25em;background-color: #f0f8ff;}#sk-container-id-2 input.sk-toggleable__control:checked~div.sk-toggleable__content {max-height: 200px;max-width: 100%;overflow: auto;}#sk-container-id-2 input.sk-toggleable__control:checked~label.sk-toggleable__label-arrow:before {content: \"▾\";}#sk-container-id-2 div.sk-estimator input.sk-toggleable__control:checked~label.sk-toggleable__label {background-color: #d4ebff;}#sk-container-id-2 div.sk-label input.sk-toggleable__control:checked~label.sk-toggleable__label {background-color: #d4ebff;}#sk-container-id-2 input.sk-hidden--visually {border: 0;clip: rect(1px 1px 1px 1px);clip: rect(1px, 1px, 1px, 1px);height: 1px;margin: -1px;overflow: hidden;padding: 0;position: absolute;width: 1px;}#sk-container-id-2 div.sk-estimator {font-family: monospace;background-color: #f0f8ff;border: 1px dotted black;border-radius: 0.25em;box-sizing: border-box;margin-bottom: 0.5em;}#sk-container-id-2 div.sk-estimator:hover {background-color: #d4ebff;}#sk-container-id-2 div.sk-parallel-item::after {content: \"\";width: 100%;border-bottom: 1px solid gray;flex-grow: 1;}#sk-container-id-2 div.sk-label:hover label.sk-toggleable__label {background-color: #d4ebff;}#sk-container-id-2 div.sk-serial::before {content: \"\";position: absolute;border-left: 1px solid gray;box-sizing: border-box;top: 0;bottom: 0;left: 50%;z-index: 0;}#sk-container-id-2 div.sk-serial {display: flex;flex-direction: column;align-items: center;background-color: white;padding-right: 0.2em;padding-left: 0.2em;position: relative;}#sk-container-id-2 div.sk-item {position: relative;z-index: 1;}#sk-container-id-2 div.sk-parallel {display: flex;align-items: stretch;justify-content: center;background-color: white;position: relative;}#sk-container-id-2 div.sk-item::before, #sk-container-id-2 div.sk-parallel-item::before {content: \"\";position: absolute;border-left: 1px solid gray;box-sizing: border-box;top: 0;bottom: 0;left: 50%;z-index: -1;}#sk-container-id-2 div.sk-parallel-item {display: flex;flex-direction: column;z-index: 1;position: relative;background-color: white;}#sk-container-id-2 div.sk-parallel-item:first-child::after {align-self: flex-end;width: 50%;}#sk-container-id-2 div.sk-parallel-item:last-child::after {align-self: flex-start;width: 50%;}#sk-container-id-2 div.sk-parallel-item:only-child::after {width: 0;}#sk-container-id-2 div.sk-dashed-wrapped {border: 1px dashed gray;margin: 0 0.4em 0.5em 0.4em;box-sizing: border-box;padding-bottom: 0.4em;background-color: white;}#sk-container-id-2 div.sk-label label {font-family: monospace;font-weight: bold;display: inline-block;line-height: 1.2em;}#sk-container-id-2 div.sk-label-container {text-align: center;}#sk-container-id-2 div.sk-container {/* jupyter's `normalize.less` sets `[hidden] { display: none; }` but bootstrap.min.css set `[hidden] { display: none !important; }` so we also need the `!important` here to be able to override the default hidden behavior on the sphinx rendered scikit-learn.org. See: https://github.com/scikit-learn/scikit-learn/issues/21755 */display: inline-block !important;position: relative;}#sk-container-id-2 div.sk-text-repr-fallback {display: none;}</style><div id=\"sk-container-id-2\" class=\"sk-top-container\"><div class=\"sk-text-repr-fallback\"><pre>Pipeline(steps=[(&#x27;preprocessor&#x27;,\n",
       "                 ColumnTransformer(transformers=[(&#x27;numeric&#x27;, StandardScaler(),\n",
       "                                                  [&#x27;Energy delta[Wh]&#x27;, &#x27;GHI&#x27;,\n",
       "                                                   &#x27;pressure&#x27;, &#x27;humidity&#x27;,\n",
       "                                                   &#x27;wind_speed&#x27;, &#x27;rain_1h&#x27;,\n",
       "                                                   &#x27;snow_1h&#x27;, &#x27;clouds_all&#x27;,\n",
       "                                                   &#x27;sunlightTime&#x27;, &#x27;dayLength&#x27;,\n",
       "                                                   &#x27;SunlightTime/daylength&#x27;,\n",
       "                                                   &#x27;hour&#x27;, &#x27;month&#x27;]),\n",
       "                                                 (&#x27;categorical&#x27;,\n",
       "                                                  OneHotEncoder(handle_unknown=&#x27;ignore&#x27;),\n",
       "                                                  [&#x27;weather_type&#x27;])])),\n",
       "                (&#x27;svr&#x27;, SVR(C=100, degree=2, gamma=0.01, kernel=&#x27;poly&#x27;))])</pre><b>In a Jupyter environment, please rerun this cell to show the HTML representation or trust the notebook. <br />On GitHub, the HTML representation is unable to render, please try loading this page with nbviewer.org.</b></div><div class=\"sk-container\" hidden><div class=\"sk-item sk-dashed-wrapped\"><div class=\"sk-label-container\"><div class=\"sk-label sk-toggleable\"><input class=\"sk-toggleable__control sk-hidden--visually\" id=\"sk-estimator-id-8\" type=\"checkbox\" ><label for=\"sk-estimator-id-8\" class=\"sk-toggleable__label sk-toggleable__label-arrow\">Pipeline</label><div class=\"sk-toggleable__content\"><pre>Pipeline(steps=[(&#x27;preprocessor&#x27;,\n",
       "                 ColumnTransformer(transformers=[(&#x27;numeric&#x27;, StandardScaler(),\n",
       "                                                  [&#x27;Energy delta[Wh]&#x27;, &#x27;GHI&#x27;,\n",
       "                                                   &#x27;pressure&#x27;, &#x27;humidity&#x27;,\n",
       "                                                   &#x27;wind_speed&#x27;, &#x27;rain_1h&#x27;,\n",
       "                                                   &#x27;snow_1h&#x27;, &#x27;clouds_all&#x27;,\n",
       "                                                   &#x27;sunlightTime&#x27;, &#x27;dayLength&#x27;,\n",
       "                                                   &#x27;SunlightTime/daylength&#x27;,\n",
       "                                                   &#x27;hour&#x27;, &#x27;month&#x27;]),\n",
       "                                                 (&#x27;categorical&#x27;,\n",
       "                                                  OneHotEncoder(handle_unknown=&#x27;ignore&#x27;),\n",
       "                                                  [&#x27;weather_type&#x27;])])),\n",
       "                (&#x27;svr&#x27;, SVR(C=100, degree=2, gamma=0.01, kernel=&#x27;poly&#x27;))])</pre></div></div></div><div class=\"sk-serial\"><div class=\"sk-item sk-dashed-wrapped\"><div class=\"sk-label-container\"><div class=\"sk-label sk-toggleable\"><input class=\"sk-toggleable__control sk-hidden--visually\" id=\"sk-estimator-id-9\" type=\"checkbox\" ><label for=\"sk-estimator-id-9\" class=\"sk-toggleable__label sk-toggleable__label-arrow\">preprocessor: ColumnTransformer</label><div class=\"sk-toggleable__content\"><pre>ColumnTransformer(transformers=[(&#x27;numeric&#x27;, StandardScaler(),\n",
       "                                 [&#x27;Energy delta[Wh]&#x27;, &#x27;GHI&#x27;, &#x27;pressure&#x27;,\n",
       "                                  &#x27;humidity&#x27;, &#x27;wind_speed&#x27;, &#x27;rain_1h&#x27;,\n",
       "                                  &#x27;snow_1h&#x27;, &#x27;clouds_all&#x27;, &#x27;sunlightTime&#x27;,\n",
       "                                  &#x27;dayLength&#x27;, &#x27;SunlightTime/daylength&#x27;, &#x27;hour&#x27;,\n",
       "                                  &#x27;month&#x27;]),\n",
       "                                (&#x27;categorical&#x27;,\n",
       "                                 OneHotEncoder(handle_unknown=&#x27;ignore&#x27;),\n",
       "                                 [&#x27;weather_type&#x27;])])</pre></div></div></div><div class=\"sk-parallel\"><div class=\"sk-parallel-item\"><div class=\"sk-item\"><div class=\"sk-label-container\"><div class=\"sk-label sk-toggleable\"><input class=\"sk-toggleable__control sk-hidden--visually\" id=\"sk-estimator-id-10\" type=\"checkbox\" ><label for=\"sk-estimator-id-10\" class=\"sk-toggleable__label sk-toggleable__label-arrow\">numeric</label><div class=\"sk-toggleable__content\"><pre>[&#x27;Energy delta[Wh]&#x27;, &#x27;GHI&#x27;, &#x27;pressure&#x27;, &#x27;humidity&#x27;, &#x27;wind_speed&#x27;, &#x27;rain_1h&#x27;, &#x27;snow_1h&#x27;, &#x27;clouds_all&#x27;, &#x27;sunlightTime&#x27;, &#x27;dayLength&#x27;, &#x27;SunlightTime/daylength&#x27;, &#x27;hour&#x27;, &#x27;month&#x27;]</pre></div></div></div><div class=\"sk-serial\"><div class=\"sk-item\"><div class=\"sk-estimator sk-toggleable\"><input class=\"sk-toggleable__control sk-hidden--visually\" id=\"sk-estimator-id-11\" type=\"checkbox\" ><label for=\"sk-estimator-id-11\" class=\"sk-toggleable__label sk-toggleable__label-arrow\">StandardScaler</label><div class=\"sk-toggleable__content\"><pre>StandardScaler()</pre></div></div></div></div></div></div><div class=\"sk-parallel-item\"><div class=\"sk-item\"><div class=\"sk-label-container\"><div class=\"sk-label sk-toggleable\"><input class=\"sk-toggleable__control sk-hidden--visually\" id=\"sk-estimator-id-12\" type=\"checkbox\" ><label for=\"sk-estimator-id-12\" class=\"sk-toggleable__label sk-toggleable__label-arrow\">categorical</label><div class=\"sk-toggleable__content\"><pre>[&#x27;weather_type&#x27;]</pre></div></div></div><div class=\"sk-serial\"><div class=\"sk-item\"><div class=\"sk-estimator sk-toggleable\"><input class=\"sk-toggleable__control sk-hidden--visually\" id=\"sk-estimator-id-13\" type=\"checkbox\" ><label for=\"sk-estimator-id-13\" class=\"sk-toggleable__label sk-toggleable__label-arrow\">OneHotEncoder</label><div class=\"sk-toggleable__content\"><pre>OneHotEncoder(handle_unknown=&#x27;ignore&#x27;)</pre></div></div></div></div></div></div></div></div><div class=\"sk-item\"><div class=\"sk-estimator sk-toggleable\"><input class=\"sk-toggleable__control sk-hidden--visually\" id=\"sk-estimator-id-14\" type=\"checkbox\" ><label for=\"sk-estimator-id-14\" class=\"sk-toggleable__label sk-toggleable__label-arrow\">SVR</label><div class=\"sk-toggleable__content\"><pre>SVR(C=100, degree=2, gamma=0.01, kernel=&#x27;poly&#x27;)</pre></div></div></div></div></div></div></div>"
      ],
      "text/plain": [
       "Pipeline(steps=[('preprocessor',\n",
       "                 ColumnTransformer(transformers=[('numeric', StandardScaler(),\n",
       "                                                  ['Energy delta[Wh]', 'GHI',\n",
       "                                                   'pressure', 'humidity',\n",
       "                                                   'wind_speed', 'rain_1h',\n",
       "                                                   'snow_1h', 'clouds_all',\n",
       "                                                   'sunlightTime', 'dayLength',\n",
       "                                                   'SunlightTime/daylength',\n",
       "                                                   'hour', 'month']),\n",
       "                                                 ('categorical',\n",
       "                                                  OneHotEncoder(handle_unknown='ignore'),\n",
       "                                                  ['weather_type'])])),\n",
       "                ('svr', SVR(C=100, degree=2, gamma=0.01, kernel='poly'))])"
      ]
     },
     "execution_count": 14,
     "metadata": {},
     "output_type": "execute_result"
    }
   ],
   "source": [
    "svr_poly = Pipeline([('preprocessor', preprocessor), ('svr', SVR(kernel = 'poly', degree = 2, C = 100, gamma = 0.01))])\n",
    "\n",
    "svr_poly.fit(train_X, train_y)"
   ]
  },
  {
   "cell_type": "code",
   "execution_count": 15,
   "metadata": {},
   "outputs": [
    {
     "name": "stdout",
     "output_type": "stream",
     "text": [
      "SVR train r2 score = 0.8298980135166718\n",
      "SVR test r2 score = 0.8306459374463602\n"
     ]
    }
   ],
   "source": [
    "print(f\"SVR train r2 score = {svr_poly.score(train_X, train_y)}\")\n",
    "print(f\"SVR test r2 score = {svr_poly.score(test_X, test_y)}\")"
   ]
  },
  {
   "cell_type": "code",
   "execution_count": 16,
   "metadata": {},
   "outputs": [
    {
     "data": {
      "text/html": [
       "<style>#sk-container-id-3 {color: black;}#sk-container-id-3 pre{padding: 0;}#sk-container-id-3 div.sk-toggleable {background-color: white;}#sk-container-id-3 label.sk-toggleable__label {cursor: pointer;display: block;width: 100%;margin-bottom: 0;padding: 0.3em;box-sizing: border-box;text-align: center;}#sk-container-id-3 label.sk-toggleable__label-arrow:before {content: \"▸\";float: left;margin-right: 0.25em;color: #696969;}#sk-container-id-3 label.sk-toggleable__label-arrow:hover:before {color: black;}#sk-container-id-3 div.sk-estimator:hover label.sk-toggleable__label-arrow:before {color: black;}#sk-container-id-3 div.sk-toggleable__content {max-height: 0;max-width: 0;overflow: hidden;text-align: left;background-color: #f0f8ff;}#sk-container-id-3 div.sk-toggleable__content pre {margin: 0.2em;color: black;border-radius: 0.25em;background-color: #f0f8ff;}#sk-container-id-3 input.sk-toggleable__control:checked~div.sk-toggleable__content {max-height: 200px;max-width: 100%;overflow: auto;}#sk-container-id-3 input.sk-toggleable__control:checked~label.sk-toggleable__label-arrow:before {content: \"▾\";}#sk-container-id-3 div.sk-estimator input.sk-toggleable__control:checked~label.sk-toggleable__label {background-color: #d4ebff;}#sk-container-id-3 div.sk-label input.sk-toggleable__control:checked~label.sk-toggleable__label {background-color: #d4ebff;}#sk-container-id-3 input.sk-hidden--visually {border: 0;clip: rect(1px 1px 1px 1px);clip: rect(1px, 1px, 1px, 1px);height: 1px;margin: -1px;overflow: hidden;padding: 0;position: absolute;width: 1px;}#sk-container-id-3 div.sk-estimator {font-family: monospace;background-color: #f0f8ff;border: 1px dotted black;border-radius: 0.25em;box-sizing: border-box;margin-bottom: 0.5em;}#sk-container-id-3 div.sk-estimator:hover {background-color: #d4ebff;}#sk-container-id-3 div.sk-parallel-item::after {content: \"\";width: 100%;border-bottom: 1px solid gray;flex-grow: 1;}#sk-container-id-3 div.sk-label:hover label.sk-toggleable__label {background-color: #d4ebff;}#sk-container-id-3 div.sk-serial::before {content: \"\";position: absolute;border-left: 1px solid gray;box-sizing: border-box;top: 0;bottom: 0;left: 50%;z-index: 0;}#sk-container-id-3 div.sk-serial {display: flex;flex-direction: column;align-items: center;background-color: white;padding-right: 0.2em;padding-left: 0.2em;position: relative;}#sk-container-id-3 div.sk-item {position: relative;z-index: 1;}#sk-container-id-3 div.sk-parallel {display: flex;align-items: stretch;justify-content: center;background-color: white;position: relative;}#sk-container-id-3 div.sk-item::before, #sk-container-id-3 div.sk-parallel-item::before {content: \"\";position: absolute;border-left: 1px solid gray;box-sizing: border-box;top: 0;bottom: 0;left: 50%;z-index: -1;}#sk-container-id-3 div.sk-parallel-item {display: flex;flex-direction: column;z-index: 1;position: relative;background-color: white;}#sk-container-id-3 div.sk-parallel-item:first-child::after {align-self: flex-end;width: 50%;}#sk-container-id-3 div.sk-parallel-item:last-child::after {align-self: flex-start;width: 50%;}#sk-container-id-3 div.sk-parallel-item:only-child::after {width: 0;}#sk-container-id-3 div.sk-dashed-wrapped {border: 1px dashed gray;margin: 0 0.4em 0.5em 0.4em;box-sizing: border-box;padding-bottom: 0.4em;background-color: white;}#sk-container-id-3 div.sk-label label {font-family: monospace;font-weight: bold;display: inline-block;line-height: 1.2em;}#sk-container-id-3 div.sk-label-container {text-align: center;}#sk-container-id-3 div.sk-container {/* jupyter's `normalize.less` sets `[hidden] { display: none; }` but bootstrap.min.css set `[hidden] { display: none !important; }` so we also need the `!important` here to be able to override the default hidden behavior on the sphinx rendered scikit-learn.org. See: https://github.com/scikit-learn/scikit-learn/issues/21755 */display: inline-block !important;position: relative;}#sk-container-id-3 div.sk-text-repr-fallback {display: none;}</style><div id=\"sk-container-id-3\" class=\"sk-top-container\"><div class=\"sk-text-repr-fallback\"><pre>Pipeline(steps=[(&#x27;preprocessor&#x27;,\n",
       "                 ColumnTransformer(transformers=[(&#x27;numeric&#x27;, StandardScaler(),\n",
       "                                                  [&#x27;Energy delta[Wh]&#x27;, &#x27;GHI&#x27;,\n",
       "                                                   &#x27;pressure&#x27;, &#x27;humidity&#x27;,\n",
       "                                                   &#x27;wind_speed&#x27;, &#x27;rain_1h&#x27;,\n",
       "                                                   &#x27;snow_1h&#x27;, &#x27;clouds_all&#x27;,\n",
       "                                                   &#x27;sunlightTime&#x27;, &#x27;dayLength&#x27;,\n",
       "                                                   &#x27;SunlightTime/daylength&#x27;,\n",
       "                                                   &#x27;hour&#x27;, &#x27;month&#x27;]),\n",
       "                                                 (&#x27;categorical&#x27;,\n",
       "                                                  OneHotEncoder(handle_unknown=&#x27;ignore&#x27;),\n",
       "                                                  [&#x27;weather_type&#x27;])])),\n",
       "                (&#x27;svr&#x27;, SVR(C=100, gamma=0.01, kernel=&#x27;poly&#x27;))])</pre><b>In a Jupyter environment, please rerun this cell to show the HTML representation or trust the notebook. <br />On GitHub, the HTML representation is unable to render, please try loading this page with nbviewer.org.</b></div><div class=\"sk-container\" hidden><div class=\"sk-item sk-dashed-wrapped\"><div class=\"sk-label-container\"><div class=\"sk-label sk-toggleable\"><input class=\"sk-toggleable__control sk-hidden--visually\" id=\"sk-estimator-id-15\" type=\"checkbox\" ><label for=\"sk-estimator-id-15\" class=\"sk-toggleable__label sk-toggleable__label-arrow\">Pipeline</label><div class=\"sk-toggleable__content\"><pre>Pipeline(steps=[(&#x27;preprocessor&#x27;,\n",
       "                 ColumnTransformer(transformers=[(&#x27;numeric&#x27;, StandardScaler(),\n",
       "                                                  [&#x27;Energy delta[Wh]&#x27;, &#x27;GHI&#x27;,\n",
       "                                                   &#x27;pressure&#x27;, &#x27;humidity&#x27;,\n",
       "                                                   &#x27;wind_speed&#x27;, &#x27;rain_1h&#x27;,\n",
       "                                                   &#x27;snow_1h&#x27;, &#x27;clouds_all&#x27;,\n",
       "                                                   &#x27;sunlightTime&#x27;, &#x27;dayLength&#x27;,\n",
       "                                                   &#x27;SunlightTime/daylength&#x27;,\n",
       "                                                   &#x27;hour&#x27;, &#x27;month&#x27;]),\n",
       "                                                 (&#x27;categorical&#x27;,\n",
       "                                                  OneHotEncoder(handle_unknown=&#x27;ignore&#x27;),\n",
       "                                                  [&#x27;weather_type&#x27;])])),\n",
       "                (&#x27;svr&#x27;, SVR(C=100, gamma=0.01, kernel=&#x27;poly&#x27;))])</pre></div></div></div><div class=\"sk-serial\"><div class=\"sk-item sk-dashed-wrapped\"><div class=\"sk-label-container\"><div class=\"sk-label sk-toggleable\"><input class=\"sk-toggleable__control sk-hidden--visually\" id=\"sk-estimator-id-16\" type=\"checkbox\" ><label for=\"sk-estimator-id-16\" class=\"sk-toggleable__label sk-toggleable__label-arrow\">preprocessor: ColumnTransformer</label><div class=\"sk-toggleable__content\"><pre>ColumnTransformer(transformers=[(&#x27;numeric&#x27;, StandardScaler(),\n",
       "                                 [&#x27;Energy delta[Wh]&#x27;, &#x27;GHI&#x27;, &#x27;pressure&#x27;,\n",
       "                                  &#x27;humidity&#x27;, &#x27;wind_speed&#x27;, &#x27;rain_1h&#x27;,\n",
       "                                  &#x27;snow_1h&#x27;, &#x27;clouds_all&#x27;, &#x27;sunlightTime&#x27;,\n",
       "                                  &#x27;dayLength&#x27;, &#x27;SunlightTime/daylength&#x27;, &#x27;hour&#x27;,\n",
       "                                  &#x27;month&#x27;]),\n",
       "                                (&#x27;categorical&#x27;,\n",
       "                                 OneHotEncoder(handle_unknown=&#x27;ignore&#x27;),\n",
       "                                 [&#x27;weather_type&#x27;])])</pre></div></div></div><div class=\"sk-parallel\"><div class=\"sk-parallel-item\"><div class=\"sk-item\"><div class=\"sk-label-container\"><div class=\"sk-label sk-toggleable\"><input class=\"sk-toggleable__control sk-hidden--visually\" id=\"sk-estimator-id-17\" type=\"checkbox\" ><label for=\"sk-estimator-id-17\" class=\"sk-toggleable__label sk-toggleable__label-arrow\">numeric</label><div class=\"sk-toggleable__content\"><pre>[&#x27;Energy delta[Wh]&#x27;, &#x27;GHI&#x27;, &#x27;pressure&#x27;, &#x27;humidity&#x27;, &#x27;wind_speed&#x27;, &#x27;rain_1h&#x27;, &#x27;snow_1h&#x27;, &#x27;clouds_all&#x27;, &#x27;sunlightTime&#x27;, &#x27;dayLength&#x27;, &#x27;SunlightTime/daylength&#x27;, &#x27;hour&#x27;, &#x27;month&#x27;]</pre></div></div></div><div class=\"sk-serial\"><div class=\"sk-item\"><div class=\"sk-estimator sk-toggleable\"><input class=\"sk-toggleable__control sk-hidden--visually\" id=\"sk-estimator-id-18\" type=\"checkbox\" ><label for=\"sk-estimator-id-18\" class=\"sk-toggleable__label sk-toggleable__label-arrow\">StandardScaler</label><div class=\"sk-toggleable__content\"><pre>StandardScaler()</pre></div></div></div></div></div></div><div class=\"sk-parallel-item\"><div class=\"sk-item\"><div class=\"sk-label-container\"><div class=\"sk-label sk-toggleable\"><input class=\"sk-toggleable__control sk-hidden--visually\" id=\"sk-estimator-id-19\" type=\"checkbox\" ><label for=\"sk-estimator-id-19\" class=\"sk-toggleable__label sk-toggleable__label-arrow\">categorical</label><div class=\"sk-toggleable__content\"><pre>[&#x27;weather_type&#x27;]</pre></div></div></div><div class=\"sk-serial\"><div class=\"sk-item\"><div class=\"sk-estimator sk-toggleable\"><input class=\"sk-toggleable__control sk-hidden--visually\" id=\"sk-estimator-id-20\" type=\"checkbox\" ><label for=\"sk-estimator-id-20\" class=\"sk-toggleable__label sk-toggleable__label-arrow\">OneHotEncoder</label><div class=\"sk-toggleable__content\"><pre>OneHotEncoder(handle_unknown=&#x27;ignore&#x27;)</pre></div></div></div></div></div></div></div></div><div class=\"sk-item\"><div class=\"sk-estimator sk-toggleable\"><input class=\"sk-toggleable__control sk-hidden--visually\" id=\"sk-estimator-id-21\" type=\"checkbox\" ><label for=\"sk-estimator-id-21\" class=\"sk-toggleable__label sk-toggleable__label-arrow\">SVR</label><div class=\"sk-toggleable__content\"><pre>SVR(C=100, gamma=0.01, kernel=&#x27;poly&#x27;)</pre></div></div></div></div></div></div></div>"
      ],
      "text/plain": [
       "Pipeline(steps=[('preprocessor',\n",
       "                 ColumnTransformer(transformers=[('numeric', StandardScaler(),\n",
       "                                                  ['Energy delta[Wh]', 'GHI',\n",
       "                                                   'pressure', 'humidity',\n",
       "                                                   'wind_speed', 'rain_1h',\n",
       "                                                   'snow_1h', 'clouds_all',\n",
       "                                                   'sunlightTime', 'dayLength',\n",
       "                                                   'SunlightTime/daylength',\n",
       "                                                   'hour', 'month']),\n",
       "                                                 ('categorical',\n",
       "                                                  OneHotEncoder(handle_unknown='ignore'),\n",
       "                                                  ['weather_type'])])),\n",
       "                ('svr', SVR(C=100, gamma=0.01, kernel='poly'))])"
      ]
     },
     "execution_count": 16,
     "metadata": {},
     "output_type": "execute_result"
    }
   ],
   "source": [
    "svr_poly3 = Pipeline([('preprocessor', preprocessor), ('svr', SVR(kernel = 'poly', degree = 3, C = 100, gamma = 0.01))])\n",
    "\n",
    "svr_poly3.fit(train_X, train_y)"
   ]
  },
  {
   "cell_type": "code",
   "execution_count": 17,
   "metadata": {},
   "outputs": [
    {
     "name": "stdout",
     "output_type": "stream",
     "text": [
      "SVR train r2 score = 0.8034010166038053\n",
      "SVR test r2 score = 0.8029910371972682\n"
     ]
    }
   ],
   "source": [
    "print(f\"SVR train r2 score = {svr_poly3.score(train_X, train_y)}\")\n",
    "print(f\"SVR test r2 score = {svr_poly3.score(test_X, test_y)}\")"
   ]
  },
  {
   "cell_type": "code",
   "execution_count": 19,
   "metadata": {},
   "outputs": [
    {
     "data": {
      "text/html": [
       "<style>#sk-container-id-4 {color: black;}#sk-container-id-4 pre{padding: 0;}#sk-container-id-4 div.sk-toggleable {background-color: white;}#sk-container-id-4 label.sk-toggleable__label {cursor: pointer;display: block;width: 100%;margin-bottom: 0;padding: 0.3em;box-sizing: border-box;text-align: center;}#sk-container-id-4 label.sk-toggleable__label-arrow:before {content: \"▸\";float: left;margin-right: 0.25em;color: #696969;}#sk-container-id-4 label.sk-toggleable__label-arrow:hover:before {color: black;}#sk-container-id-4 div.sk-estimator:hover label.sk-toggleable__label-arrow:before {color: black;}#sk-container-id-4 div.sk-toggleable__content {max-height: 0;max-width: 0;overflow: hidden;text-align: left;background-color: #f0f8ff;}#sk-container-id-4 div.sk-toggleable__content pre {margin: 0.2em;color: black;border-radius: 0.25em;background-color: #f0f8ff;}#sk-container-id-4 input.sk-toggleable__control:checked~div.sk-toggleable__content {max-height: 200px;max-width: 100%;overflow: auto;}#sk-container-id-4 input.sk-toggleable__control:checked~label.sk-toggleable__label-arrow:before {content: \"▾\";}#sk-container-id-4 div.sk-estimator input.sk-toggleable__control:checked~label.sk-toggleable__label {background-color: #d4ebff;}#sk-container-id-4 div.sk-label input.sk-toggleable__control:checked~label.sk-toggleable__label {background-color: #d4ebff;}#sk-container-id-4 input.sk-hidden--visually {border: 0;clip: rect(1px 1px 1px 1px);clip: rect(1px, 1px, 1px, 1px);height: 1px;margin: -1px;overflow: hidden;padding: 0;position: absolute;width: 1px;}#sk-container-id-4 div.sk-estimator {font-family: monospace;background-color: #f0f8ff;border: 1px dotted black;border-radius: 0.25em;box-sizing: border-box;margin-bottom: 0.5em;}#sk-container-id-4 div.sk-estimator:hover {background-color: #d4ebff;}#sk-container-id-4 div.sk-parallel-item::after {content: \"\";width: 100%;border-bottom: 1px solid gray;flex-grow: 1;}#sk-container-id-4 div.sk-label:hover label.sk-toggleable__label {background-color: #d4ebff;}#sk-container-id-4 div.sk-serial::before {content: \"\";position: absolute;border-left: 1px solid gray;box-sizing: border-box;top: 0;bottom: 0;left: 50%;z-index: 0;}#sk-container-id-4 div.sk-serial {display: flex;flex-direction: column;align-items: center;background-color: white;padding-right: 0.2em;padding-left: 0.2em;position: relative;}#sk-container-id-4 div.sk-item {position: relative;z-index: 1;}#sk-container-id-4 div.sk-parallel {display: flex;align-items: stretch;justify-content: center;background-color: white;position: relative;}#sk-container-id-4 div.sk-item::before, #sk-container-id-4 div.sk-parallel-item::before {content: \"\";position: absolute;border-left: 1px solid gray;box-sizing: border-box;top: 0;bottom: 0;left: 50%;z-index: -1;}#sk-container-id-4 div.sk-parallel-item {display: flex;flex-direction: column;z-index: 1;position: relative;background-color: white;}#sk-container-id-4 div.sk-parallel-item:first-child::after {align-self: flex-end;width: 50%;}#sk-container-id-4 div.sk-parallel-item:last-child::after {align-self: flex-start;width: 50%;}#sk-container-id-4 div.sk-parallel-item:only-child::after {width: 0;}#sk-container-id-4 div.sk-dashed-wrapped {border: 1px dashed gray;margin: 0 0.4em 0.5em 0.4em;box-sizing: border-box;padding-bottom: 0.4em;background-color: white;}#sk-container-id-4 div.sk-label label {font-family: monospace;font-weight: bold;display: inline-block;line-height: 1.2em;}#sk-container-id-4 div.sk-label-container {text-align: center;}#sk-container-id-4 div.sk-container {/* jupyter's `normalize.less` sets `[hidden] { display: none; }` but bootstrap.min.css set `[hidden] { display: none !important; }` so we also need the `!important` here to be able to override the default hidden behavior on the sphinx rendered scikit-learn.org. See: https://github.com/scikit-learn/scikit-learn/issues/21755 */display: inline-block !important;position: relative;}#sk-container-id-4 div.sk-text-repr-fallback {display: none;}</style><div id=\"sk-container-id-4\" class=\"sk-top-container\"><div class=\"sk-text-repr-fallback\"><pre>DecisionTreeRegressor(max_leaf_nodes=1484)</pre><b>In a Jupyter environment, please rerun this cell to show the HTML representation or trust the notebook. <br />On GitHub, the HTML representation is unable to render, please try loading this page with nbviewer.org.</b></div><div class=\"sk-container\" hidden><div class=\"sk-item\"><div class=\"sk-estimator sk-toggleable\"><input class=\"sk-toggleable__control sk-hidden--visually\" id=\"sk-estimator-id-22\" type=\"checkbox\" checked><label for=\"sk-estimator-id-22\" class=\"sk-toggleable__label sk-toggleable__label-arrow\">DecisionTreeRegressor</label><div class=\"sk-toggleable__content\"><pre>DecisionTreeRegressor(max_leaf_nodes=1484)</pre></div></div></div></div></div>"
      ],
      "text/plain": [
       "DecisionTreeRegressor(max_leaf_nodes=1484)"
      ]
     },
     "execution_count": 19,
     "metadata": {},
     "output_type": "execute_result"
    }
   ],
   "source": [
    "tree = DecisionTreeRegressor(max_leaf_nodes = 1484, criterion = \"squared_error\")\n",
    "\n",
    "tree.fit(train_X, train_y)"
   ]
  },
  {
   "cell_type": "code",
   "execution_count": 20,
   "metadata": {},
   "outputs": [
    {
     "name": "stdout",
     "output_type": "stream",
     "text": [
      "Decision Tree train r2 score = 0.9230260471579232\n",
      "Decision Tree test r2 score = 0.9008628389681361\n"
     ]
    }
   ],
   "source": [
    "print(f\"Decision Tree train r2 score = {tree.score(train_X, train_y)}\")\n",
    "print(f\"Decision Tree test r2 score = {tree.score(test_X, test_y)}\")"
   ]
  },
  {
   "cell_type": "code",
   "execution_count": 24,
   "metadata": {},
   "outputs": [
    {
     "data": {
      "text/plain": [
       "array([0.00118105, 0.00297275, 0.03118535, 0.0945248 , 0.02667581,\n",
       "       0.00394783, 0.00081398, 0.01859782, 0.        , 0.04817567,\n",
       "       0.58765773, 0.0029021 , 0.00167973, 0.0092802 , 0.17040518])"
      ]
     },
     "execution_count": 24,
     "metadata": {},
     "output_type": "execute_result"
    }
   ],
   "source": [
    "tree.feature_importances_"
   ]
  },
  {
   "cell_type": "code",
   "execution_count": 27,
   "metadata": {},
   "outputs": [
    {
     "name": "stderr",
     "output_type": "stream",
     "text": [
      "findfont: Generic family 'sans-serif' not found because none of the following families were found: Arial, Liberation Sans, Bitstream Vera Sans, sans-serif\n",
      "findfont: Generic family 'sans-serif' not found because none of the following families were found: Arial, Liberation Sans, Bitstream Vera Sans, sans-serif\n",
      "findfont: Generic family 'sans-serif' not found because none of the following families were found: Arial, Liberation Sans, Bitstream Vera Sans, sans-serif\n",
      "findfont: Generic family 'sans-serif' not found because none of the following families were found: Arial, Liberation Sans, Bitstream Vera Sans, sans-serif\n",
      "findfont: Generic family 'sans-serif' not found because none of the following families were found: Arial, Liberation Sans, Bitstream Vera Sans, sans-serif\n",
      "findfont: Generic family 'sans-serif' not found because none of the following families were found: Arial, Liberation Sans, Bitstream Vera Sans, sans-serif\n",
      "findfont: Generic family 'sans-serif' not found because none of the following families were found: Arial, Liberation Sans, Bitstream Vera Sans, sans-serif\n",
      "findfont: Generic family 'sans-serif' not found because none of the following families were found: Arial, Liberation Sans, Bitstream Vera Sans, sans-serif\n",
      "findfont: Generic family 'sans-serif' not found because none of the following families were found: Arial, Liberation Sans, Bitstream Vera Sans, sans-serif\n",
      "findfont: Generic family 'sans-serif' not found because none of the following families were found: Arial, Liberation Sans, Bitstream Vera Sans, sans-serif\n",
      "findfont: Generic family 'sans-serif' not found because none of the following families were found: Arial, Liberation Sans, Bitstream Vera Sans, sans-serif\n",
      "findfont: Generic family 'sans-serif' not found because none of the following families were found: Arial, Liberation Sans, Bitstream Vera Sans, sans-serif\n",
      "findfont: Generic family 'sans-serif' not found because none of the following families were found: Arial, Liberation Sans, Bitstream Vera Sans, sans-serif\n",
      "findfont: Generic family 'sans-serif' not found because none of the following families were found: Arial, Liberation Sans, Bitstream Vera Sans, sans-serif\n",
      "findfont: Generic family 'sans-serif' not found because none of the following families were found: Arial, Liberation Sans, Bitstream Vera Sans, sans-serif\n",
      "findfont: Generic family 'sans-serif' not found because none of the following families were found: Arial, Liberation Sans, Bitstream Vera Sans, sans-serif\n",
      "findfont: Generic family 'sans-serif' not found because none of the following families were found: Arial, Liberation Sans, Bitstream Vera Sans, sans-serif\n",
      "findfont: Generic family 'sans-serif' not found because none of the following families were found: Arial, Liberation Sans, Bitstream Vera Sans, sans-serif\n",
      "findfont: Generic family 'sans-serif' not found because none of the following families were found: Arial, Liberation Sans, Bitstream Vera Sans, sans-serif\n",
      "findfont: Generic family 'sans-serif' not found because none of the following families were found: Arial, Liberation Sans, Bitstream Vera Sans, sans-serif\n",
      "findfont: Generic family 'sans-serif' not found because none of the following families were found: Arial, Liberation Sans, Bitstream Vera Sans, sans-serif\n",
      "findfont: Generic family 'sans-serif' not found because none of the following families were found: Arial, Liberation Sans, Bitstream Vera Sans, sans-serif\n",
      "findfont: Generic family 'sans-serif' not found because none of the following families were found: Arial, Liberation Sans, Bitstream Vera Sans, sans-serif\n",
      "findfont: Generic family 'sans-serif' not found because none of the following families were found: Arial, Liberation Sans, Bitstream Vera Sans, sans-serif\n",
      "findfont: Generic family 'sans-serif' not found because none of the following families were found: Arial, Liberation Sans, Bitstream Vera Sans, sans-serif\n",
      "findfont: Generic family 'sans-serif' not found because none of the following families were found: Arial, Liberation Sans, Bitstream Vera Sans, sans-serif\n",
      "findfont: Generic family 'sans-serif' not found because none of the following families were found: Arial, Liberation Sans, Bitstream Vera Sans, sans-serif\n",
      "findfont: Generic family 'sans-serif' not found because none of the following families were found: Arial, Liberation Sans, Bitstream Vera Sans, sans-serif\n",
      "findfont: Generic family 'sans-serif' not found because none of the following families were found: Arial, Liberation Sans, Bitstream Vera Sans, sans-serif\n",
      "findfont: Generic family 'sans-serif' not found because none of the following families were found: Arial, Liberation Sans, Bitstream Vera Sans, sans-serif\n",
      "findfont: Generic family 'sans-serif' not found because none of the following families were found: Arial, Liberation Sans, Bitstream Vera Sans, sans-serif\n",
      "findfont: Generic family 'sans-serif' not found because none of the following families were found: Arial, Liberation Sans, Bitstream Vera Sans, sans-serif\n",
      "findfont: Generic family 'sans-serif' not found because none of the following families were found: Arial, Liberation Sans, Bitstream Vera Sans, sans-serif\n",
      "findfont: Generic family 'sans-serif' not found because none of the following families were found: Arial, Liberation Sans, Bitstream Vera Sans, sans-serif\n",
      "findfont: Generic family 'sans-serif' not found because none of the following families were found: Arial, Liberation Sans, Bitstream Vera Sans, sans-serif\n",
      "findfont: Generic family 'sans-serif' not found because none of the following families were found: Arial, Liberation Sans, Bitstream Vera Sans, sans-serif\n",
      "findfont: Generic family 'sans-serif' not found because none of the following families were found: Arial, Liberation Sans, Bitstream Vera Sans, sans-serif\n",
      "findfont: Generic family 'sans-serif' not found because none of the following families were found: Arial, Liberation Sans, Bitstream Vera Sans, sans-serif\n",
      "findfont: Generic family 'sans-serif' not found because none of the following families were found: Arial, Liberation Sans, Bitstream Vera Sans, sans-serif\n",
      "findfont: Generic family 'sans-serif' not found because none of the following families were found: Arial, Liberation Sans, Bitstream Vera Sans, sans-serif\n",
      "findfont: Generic family 'sans-serif' not found because none of the following families were found: Arial, Liberation Sans, Bitstream Vera Sans, sans-serif\n",
      "findfont: Generic family 'sans-serif' not found because none of the following families were found: Arial, Liberation Sans, Bitstream Vera Sans, sans-serif\n",
      "findfont: Generic family 'sans-serif' not found because none of the following families were found: Arial, Liberation Sans, Bitstream Vera Sans, sans-serif\n",
      "findfont: Generic family 'sans-serif' not found because none of the following families were found: Arial, Liberation Sans, Bitstream Vera Sans, sans-serif\n",
      "findfont: Generic family 'sans-serif' not found because none of the following families were found: Arial, Liberation Sans, Bitstream Vera Sans, sans-serif\n",
      "findfont: Generic family 'sans-serif' not found because none of the following families were found: Arial, Liberation Sans, Bitstream Vera Sans, sans-serif\n",
      "findfont: Generic family 'sans-serif' not found because none of the following families were found: Arial, Liberation Sans, Bitstream Vera Sans, sans-serif\n",
      "findfont: Generic family 'sans-serif' not found because none of the following families were found: Arial, Liberation Sans, Bitstream Vera Sans, sans-serif\n",
      "findfont: Generic family 'sans-serif' not found because none of the following families were found: Arial, Liberation Sans, Bitstream Vera Sans, sans-serif\n",
      "findfont: Generic family 'sans-serif' not found because none of the following families were found: Arial, Liberation Sans, Bitstream Vera Sans, sans-serif\n",
      "findfont: Generic family 'sans-serif' not found because none of the following families were found: Arial, Liberation Sans, Bitstream Vera Sans, sans-serif\n",
      "findfont: Generic family 'sans-serif' not found because none of the following families were found: Arial, Liberation Sans, Bitstream Vera Sans, sans-serif\n",
      "findfont: Generic family 'sans-serif' not found because none of the following families were found: Arial, Liberation Sans, Bitstream Vera Sans, sans-serif\n",
      "findfont: Generic family 'sans-serif' not found because none of the following families were found: Arial, Liberation Sans, Bitstream Vera Sans, sans-serif\n",
      "findfont: Generic family 'sans-serif' not found because none of the following families were found: Arial, Liberation Sans, Bitstream Vera Sans, sans-serif\n",
      "findfont: Generic family 'sans-serif' not found because none of the following families were found: Arial, Liberation Sans, Bitstream Vera Sans, sans-serif\n",
      "findfont: Generic family 'sans-serif' not found because none of the following families were found: Arial, Liberation Sans, Bitstream Vera Sans, sans-serif\n",
      "findfont: Generic family 'sans-serif' not found because none of the following families were found: Arial, Liberation Sans, Bitstream Vera Sans, sans-serif\n",
      "findfont: Generic family 'sans-serif' not found because none of the following families were found: Arial, Liberation Sans, Bitstream Vera Sans, sans-serif\n",
      "findfont: Generic family 'sans-serif' not found because none of the following families were found: Arial, Liberation Sans, Bitstream Vera Sans, sans-serif\n",
      "findfont: Generic family 'sans-serif' not found because none of the following families were found: Arial, Liberation Sans, Bitstream Vera Sans, sans-serif\n",
      "findfont: Generic family 'sans-serif' not found because none of the following families were found: Arial, Liberation Sans, Bitstream Vera Sans, sans-serif\n",
      "findfont: Generic family 'sans-serif' not found because none of the following families were found: Arial, Liberation Sans, Bitstream Vera Sans, sans-serif\n",
      "findfont: Generic family 'sans-serif' not found because none of the following families were found: Arial, Liberation Sans, Bitstream Vera Sans, sans-serif\n",
      "findfont: Generic family 'sans-serif' not found because none of the following families were found: Arial, Liberation Sans, Bitstream Vera Sans, sans-serif\n",
      "findfont: Generic family 'sans-serif' not found because none of the following families were found: Arial, Liberation Sans, Bitstream Vera Sans, sans-serif\n",
      "findfont: Generic family 'sans-serif' not found because none of the following families were found: Arial, Liberation Sans, Bitstream Vera Sans, sans-serif\n",
      "findfont: Generic family 'sans-serif' not found because none of the following families were found: Arial, Liberation Sans, Bitstream Vera Sans, sans-serif\n",
      "findfont: Generic family 'sans-serif' not found because none of the following families were found: Arial, Liberation Sans, Bitstream Vera Sans, sans-serif\n",
      "findfont: Generic family 'sans-serif' not found because none of the following families were found: Arial, Liberation Sans, Bitstream Vera Sans, sans-serif\n",
      "findfont: Generic family 'sans-serif' not found because none of the following families were found: Arial, Liberation Sans, Bitstream Vera Sans, sans-serif\n",
      "findfont: Generic family 'sans-serif' not found because none of the following families were found: Arial, Liberation Sans, Bitstream Vera Sans, sans-serif\n",
      "findfont: Generic family 'sans-serif' not found because none of the following families were found: Arial, Liberation Sans, Bitstream Vera Sans, sans-serif\n",
      "findfont: Generic family 'sans-serif' not found because none of the following families were found: Arial, Liberation Sans, Bitstream Vera Sans, sans-serif\n",
      "findfont: Generic family 'sans-serif' not found because none of the following families were found: Arial, Liberation Sans, Bitstream Vera Sans, sans-serif\n",
      "findfont: Generic family 'sans-serif' not found because none of the following families were found: Arial, Liberation Sans, Bitstream Vera Sans, sans-serif\n",
      "findfont: Generic family 'sans-serif' not found because none of the following families were found: Arial, Liberation Sans, Bitstream Vera Sans, sans-serif\n",
      "findfont: Generic family 'sans-serif' not found because none of the following families were found: Arial, Liberation Sans, Bitstream Vera Sans, sans-serif\n",
      "findfont: Generic family 'sans-serif' not found because none of the following families were found: Arial, Liberation Sans, Bitstream Vera Sans, sans-serif\n",
      "findfont: Generic family 'sans-serif' not found because none of the following families were found: Arial, Liberation Sans, Bitstream Vera Sans, sans-serif\n",
      "findfont: Generic family 'sans-serif' not found because none of the following families were found: Arial, Liberation Sans, Bitstream Vera Sans, sans-serif\n",
      "findfont: Generic family 'sans-serif' not found because none of the following families were found: Arial, Liberation Sans, Bitstream Vera Sans, sans-serif\n",
      "findfont: Generic family 'sans-serif' not found because none of the following families were found: Arial, Liberation Sans, Bitstream Vera Sans, sans-serif\n",
      "findfont: Generic family 'sans-serif' not found because none of the following families were found: Arial, Liberation Sans, Bitstream Vera Sans, sans-serif\n",
      "findfont: Generic family 'sans-serif' not found because none of the following families were found: Arial, Liberation Sans, Bitstream Vera Sans, sans-serif\n",
      "findfont: Generic family 'sans-serif' not found because none of the following families were found: Arial, Liberation Sans, Bitstream Vera Sans, sans-serif\n",
      "findfont: Generic family 'sans-serif' not found because none of the following families were found: Arial, Liberation Sans, Bitstream Vera Sans, sans-serif\n",
      "findfont: Generic family 'sans-serif' not found because none of the following families were found: Arial, Liberation Sans, Bitstream Vera Sans, sans-serif\n",
      "findfont: Generic family 'sans-serif' not found because none of the following families were found: Arial, Liberation Sans, Bitstream Vera Sans, sans-serif\n",
      "findfont: Generic family 'sans-serif' not found because none of the following families were found: Arial, Liberation Sans, Bitstream Vera Sans, sans-serif\n",
      "findfont: Generic family 'sans-serif' not found because none of the following families were found: Arial, Liberation Sans, Bitstream Vera Sans, sans-serif\n",
      "findfont: Generic family 'sans-serif' not found because none of the following families were found: Arial, Liberation Sans, Bitstream Vera Sans, sans-serif\n",
      "findfont: Generic family 'sans-serif' not found because none of the following families were found: Arial, Liberation Sans, Bitstream Vera Sans, sans-serif\n",
      "findfont: Generic family 'sans-serif' not found because none of the following families were found: Arial, Liberation Sans, Bitstream Vera Sans, sans-serif\n",
      "findfont: Generic family 'sans-serif' not found because none of the following families were found: Arial, Liberation Sans, Bitstream Vera Sans, sans-serif\n",
      "findfont: Generic family 'sans-serif' not found because none of the following families were found: Arial, Liberation Sans, Bitstream Vera Sans, sans-serif\n",
      "findfont: Generic family 'sans-serif' not found because none of the following families were found: Arial, Liberation Sans, Bitstream Vera Sans, sans-serif\n",
      "findfont: Generic family 'sans-serif' not found because none of the following families were found: Arial, Liberation Sans, Bitstream Vera Sans, sans-serif\n"
     ]
    },
    {
     "data": {
      "image/png": "[encoded data removed]",
      "text/plain": [
       "<Figure size 800x550 with 1 Axes>"
      ]
     },
     "metadata": {},
     "output_type": "display_data"
    }
   ],
   "source": [
    "importances = pd.Series(tree.feature_importances_, index=train_X.columns)\n",
    "importances = 1 - importances\n",
    "fig, ax = plt.subplots()\n",
    "importances.plot.bar(ax=ax)\n",
    "ax.set_title(\"Feature importances using MDI\")\n",
    "ax.set_ylabel(\"Mean decrease in impurity\")\n",
    "fig.tight_layout()\n"
   ]
  },
  {
   "cell_type": "code",
   "execution_count": null,
   "metadata": {
    "execution": {
     "iopub.execute_input": "2023-10-23T15:05:50.642330Z",
     "iopub.status.busy": "2023-10-23T15:05:50.641198Z",
     "iopub.status.idle": "2023-10-23T15:05:51.838730Z",
     "shell.execute_reply": "2023-10-23T15:05:51.837645Z",
     "shell.execute_reply.started": "2023-10-23T15:05:50.642295Z"
    }
   },
   "outputs": [],
   "source": [
    "fig, ax = plt.subplots(figsize = (14, 10))\n",
    "plot_tree(tree)\n",
    "plt.show()"
   ]
  },
  {
   "cell_type": "code",
   "execution_count": 18,
   "metadata": {},
   "outputs": [
    {
     "ename": "TypeError",
     "evalue": "DecisionTreeRegressor.__init__() got an unexpected keyword argument 'max_featurrs'",
     "output_type": "error",
     "traceback": [
      "\u001b[0;31m---------------------------------------------------------------------------\u001b[0m",
      "\u001b[0;31mTypeError\u001b[0m                                 Traceback (most recent call last)",
      "Cell \u001b[0;32mIn[18], line 1\u001b[0m\n\u001b[0;32m----> 1\u001b[0m tree_scores \u001b[38;5;241m=\u001b[39m cross_val_score(\u001b[43mDecisionTreeRegressor\u001b[49m\u001b[43m(\u001b[49m\u001b[43mmax_leaf_nodes\u001b[49m\u001b[43m \u001b[49m\u001b[38;5;241;43m=\u001b[39;49m\u001b[43m \u001b[49m\u001b[38;5;241;43m1484\u001b[39;49m\u001b[43m,\u001b[49m\u001b[43m \u001b[49m\n\u001b[1;32m      2\u001b[0m \u001b[43m                                                    \u001b[49m\u001b[43mmax_featurrs\u001b[49m\u001b[43m \u001b[49m\u001b[38;5;241;43m=\u001b[39;49m\u001b[43m \u001b[49m\u001b[38;5;241;43m14\u001b[39;49m\u001b[43m)\u001b[49m, \n\u001b[1;32m      3\u001b[0m                               X, y, cv \u001b[38;5;241m=\u001b[39m \u001b[38;5;241m5\u001b[39m, n_jobs \u001b[38;5;241m=\u001b[39m \u001b[38;5;241m4\u001b[39m)\n",
      "\u001b[0;31mTypeError\u001b[0m: DecisionTreeRegressor.__init__() got an unexpected keyword argument 'max_featurrs'"
     ]
    }
   ],
   "source": [
    "tree_scores = cross_val_score(DecisionTreeRegressor(max_leaf_nodes = 1484, \n",
    "                                                    max_features = 14), \n",
    "                              X, y, cv = 5, n_jobs = 4)"
   ]
  },
  {
   "cell_type": "code",
   "execution_count": null,
   "metadata": {},
   "outputs": [],
   "source": [
    "print(f'Decision Tree scores = {tree_scores}')\n",
    "print(f'Mean score = {tree_scores.mean()}')\n",
    "print(f'SD score = {tree_scores.std()}')"
   ]
  },
  {
   "cell_type": "code",
   "execution_count": null,
   "metadata": {},
   "outputs": [],
   "source": [
    "tree_grid_param = {'max_leaf_nodes': [954, 1354, 1654], \n",
    "                   'max_features': [10, 12, 13, 14],\n",
    "                   'criterion': ['squared_error', 'absolute_error']\n",
    "                  } \n",
    "\n",
    "\n",
    "grid_tree = GridSearchCV(DecisionTreeRegressor(), tree_grid_param, cv = 5, n_jobs = 4)\n",
    "\n",
    "grid_tree.fit(train_X, train_y)"
   ]
  },
  {
   "cell_type": "code",
   "execution_count": null,
   "metadata": {},
   "outputs": [],
   "source": [
    "print(f\"Gridge Decision Tree train r2 score = {grid_tree.score(train_X, train_y)}\")\n",
    "print(f\"Gridge Decision Tree test r2 score = {grid_tree.score(test_X, test_y)}\")"
   ]
  },
  {
   "cell_type": "code",
   "execution_count": null,
   "metadata": {},
   "outputs": [],
   "source": [
    "print(f\"Best parameter for Decision Tree = {grid_tree.best_estimator_}\")"
   ]
  },
  {
   "cell_type": "code",
   "execution_count": null,
   "metadata": {
    "execution": {
     "iopub.execute_input": "2023-10-13T16:28:10.521694Z",
     "iopub.status.busy": "2023-10-13T16:28:10.521283Z",
     "iopub.status.idle": "2023-10-13T16:29:02.620999Z",
     "shell.execute_reply": "2023-10-13T16:29:02.619623Z",
     "shell.execute_reply.started": "2023-10-13T16:28:10.521663Z"
    }
   },
   "outputs": [],
   "source": [
    "forest = RandomForestRegressor(random_state = 42, \n",
    "                               n_estimators = 154, \n",
    "                               max_leaf_nodes = 704, \n",
    "                               n_jobs = 2 \n",
    "                              )\n",
    "\n",
    "forest.fit(train_X, train_y)"
   ]
  },
  {
   "cell_type": "code",
   "execution_count": null,
   "metadata": {
    "execution": {
     "iopub.execute_input": "2023-10-13T16:29:02.623048Z",
     "iopub.status.busy": "2023-10-13T16:29:02.622527Z",
     "iopub.status.idle": "2023-10-13T16:29:06.428677Z",
     "shell.execute_reply": "2023-10-13T16:29:06.427348Z",
     "shell.execute_reply.started": "2023-10-13T16:29:02.623020Z"
    }
   },
   "outputs": [],
   "source": [
    "print(f\"Random forest train r2 score = {forest.score(train_X, train_y)}\")\n",
    "print(f\"Random forest test r2 score = {forest.score(test_X, test_y)}\")"
   ]
  },
  {
   "cell_type": "code",
   "execution_count": null,
   "metadata": {
    "execution": {
     "iopub.execute_input": "2023-10-13T16:29:06.430845Z",
     "iopub.status.busy": "2023-10-13T16:29:06.430496Z",
     "iopub.status.idle": "2023-10-13T16:31:53.659831Z",
     "shell.execute_reply": "2023-10-13T16:31:53.658645Z",
     "shell.execute_reply.started": "2023-10-13T16:29:06.430818Z"
    }
   },
   "outputs": [],
   "source": [
    "permutation = PermutationImportance(forest, random_state = 1).fit(test_X, test_y)\n",
    "eli5.show_weights(permutation, feature_names = test_X.columns.tolist())"
   ]
  },
  {
   "cell_type": "code",
   "execution_count": null,
   "metadata": {
    "execution": {
     "iopub.execute_input": "2023-10-13T16:31:53.661139Z",
     "iopub.status.busy": "2023-10-13T16:31:53.660842Z",
     "iopub.status.idle": "2023-10-13T16:39:50.171966Z",
     "shell.execute_reply": "2023-10-13T16:39:50.170326Z",
     "shell.execute_reply.started": "2023-10-13T16:31:53.661113Z"
    }
   },
   "outputs": [],
   "source": [
    "forest_scores = cross_val_score(RandomForestRegressor(random_state = 42, \n",
    "                                                      n_estimators = 154, \n",
    "                                                      max_leaf_nodes = 704\n",
    "                                                     ), \n",
    "                                X, y, cv = 5, n_jobs = 4\n",
    "                               )"
   ]
  },
  {
   "cell_type": "code",
   "execution_count": null,
   "metadata": {
    "execution": {
     "iopub.execute_input": "2023-10-13T16:39:50.174958Z",
     "iopub.status.busy": "2023-10-13T16:39:50.174492Z",
     "iopub.status.idle": "2023-10-13T16:39:50.182742Z",
     "shell.execute_reply": "2023-10-13T16:39:50.181361Z",
     "shell.execute_reply.started": "2023-10-13T16:39:50.174909Z"
    }
   },
   "outputs": [],
   "source": [
    "print(f\"Cross val scores for random forest = {forest_scores}\")\n",
    "print(f\"Mean cross val scores = {forest_scores.mean()}\")\n",
    "print(f\"Cross val scores standard deviation = {forest_scores.std()}\")"
   ]
  },
  {
   "cell_type": "code",
   "execution_count": null,
   "metadata": {
    "execution": {
     "iopub.execute_input": "2023-10-13T16:39:50.184971Z",
     "iopub.status.busy": "2023-10-13T16:39:50.184535Z",
     "iopub.status.idle": "2023-10-13T16:39:57.867866Z",
     "shell.execute_reply": "2023-10-13T16:39:57.866885Z",
     "shell.execute_reply.started": "2023-10-13T16:39:50.184935Z"
    }
   },
   "outputs": [],
   "source": [
    "histboost = HistGradientBoostingRegressor(random_state = 42, \n",
    "                                          learning_rate = 0.11, \n",
    "                                          max_leaf_nodes = 38, \n",
    "                                          scoring = \"r2\"\n",
    "                                         )\n",
    "\n",
    "histboost.fit(train_X, train_y)"
   ]
  },
  {
   "cell_type": "code",
   "execution_count": null,
   "metadata": {
    "execution": {
     "iopub.execute_input": "2023-10-13T16:39:57.869724Z",
     "iopub.status.busy": "2023-10-13T16:39:57.869246Z",
     "iopub.status.idle": "2023-10-13T16:39:59.998957Z",
     "shell.execute_reply": "2023-10-13T16:39:59.997928Z",
     "shell.execute_reply.started": "2023-10-13T16:39:57.869684Z"
    }
   },
   "outputs": [],
   "source": [
    "print(f\"Histogram Gradient Boosting train r2 score = {histboost.score(train_X, train_y)}\")\n",
    "print(f\"Histogram Gradient Boosting test r2 score = {histboost.score(test_X, test_y)}\")"
   ]
  },
  {
   "cell_type": "code",
   "execution_count": null,
   "metadata": {
    "execution": {
     "iopub.execute_input": "2023-10-13T16:40:00.000772Z",
     "iopub.status.busy": "2023-10-13T16:40:00.000309Z",
     "iopub.status.idle": "2023-10-13T16:40:57.830459Z",
     "shell.execute_reply": "2023-10-13T16:40:57.829183Z",
     "shell.execute_reply.started": "2023-10-13T16:40:00.000726Z"
    }
   },
   "outputs": [],
   "source": [
    "histboost_scores = cross_val_score(HistGradientBoostingRegressor(random_state = 42, \n",
    "                                                                 learning_rate = 0.11, \n",
    "                                                                 max_leaf_nodes = 38, \n",
    "                                                                 scoring = \"r2\"\n",
    "                                                                ),\n",
    "                                   X, y, cv = 5, n_jobs = 4\n",
    "                                  )"
   ]
  },
  {
   "cell_type": "code",
   "execution_count": null,
   "metadata": {
    "execution": {
     "iopub.execute_input": "2023-10-13T16:40:57.832515Z",
     "iopub.status.busy": "2023-10-13T16:40:57.832065Z",
     "iopub.status.idle": "2023-10-13T16:40:57.838516Z",
     "shell.execute_reply": "2023-10-13T16:40:57.837774Z",
     "shell.execute_reply.started": "2023-10-13T16:40:57.832476Z"
    }
   },
   "outputs": [],
   "source": [
    "print(f\"Cross val scores for Histogram Gradient Boosting = {histboost_scores}\")\n",
    "print(f\"Mean cross val scores = {histboost_scores.mean()}\")\n",
    "print(f\"Cross val scores standard deviation = {histboost_scores.std()}\")"
   ]
  },
  {
   "cell_type": "code",
   "execution_count": null,
   "metadata": {
    "execution": {
     "iopub.execute_input": "2023-10-13T16:40:57.840515Z",
     "iopub.status.busy": "2023-10-13T16:40:57.839965Z",
     "iopub.status.idle": "2023-10-13T16:40:57.931055Z",
     "shell.execute_reply": "2023-10-13T16:40:57.930020Z",
     "shell.execute_reply.started": "2023-10-13T16:40:57.840484Z"
    }
   },
   "outputs": [],
   "source": [
    "lgbr_X = X.copy()\n",
    "\n",
    "lgbr_X = lgbr_X.rename(columns = lambda x: re.sub('[^A-Za-z0-9_]+', '', x))\n",
    "\n",
    "lgbr_train_X, lgbr_test_X, lgbr_train_y, lgbr_test_y = train_test_split(lgbr_X, y, \n",
    "                                                                        random_state = 42, \n",
    "                                                                        test_size = 0.6\n",
    "                                                                       ) "
   ]
  },
  {
   "cell_type": "code",
   "execution_count": null,
   "metadata": {
    "execution": {
     "iopub.execute_input": "2023-10-13T19:09:20.677556Z",
     "iopub.status.busy": "2023-10-13T19:09:20.677130Z",
     "iopub.status.idle": "2023-10-13T19:09:28.047009Z",
     "shell.execute_reply": "2023-10-13T19:09:28.045861Z",
     "shell.execute_reply.started": "2023-10-13T19:09:20.677517Z"
    }
   },
   "outputs": [],
   "source": [
    "lgbmr = LGBMRegressor(n_estimators = 674,\n",
    "                      max_depth = 21, \n",
    "                      learning_rate = 0.12, \n",
    "                      num_leaves = 32 \n",
    "                     )\n",
    "\n",
    "lgbmr.fit(lgbr_train_X, lgbr_train_y)"
   ]
  },
  {
   "cell_type": "code",
   "execution_count": null,
   "metadata": {
    "execution": {
     "iopub.execute_input": "2023-10-13T19:09:28.049498Z",
     "iopub.status.busy": "2023-10-13T19:09:28.049147Z",
     "iopub.status.idle": "2023-10-13T19:09:31.585246Z",
     "shell.execute_reply": "2023-10-13T19:09:31.584475Z",
     "shell.execute_reply.started": "2023-10-13T19:09:28.049470Z"
    }
   },
   "outputs": [],
   "source": [
    "print(f\"LGBM train r2 score = {lgbmr.score(lgbr_train_X, lgbr_train_y)}\")\n",
    "print(f\"LGBM test r2 score = {lgbmr.score(lgbr_test_X, lgbr_test_y)}\")"
   ]
  },
  {
   "cell_type": "code",
   "execution_count": null,
   "metadata": {
    "execution": {
     "iopub.execute_input": "2023-10-13T19:09:31.587165Z",
     "iopub.status.busy": "2023-10-13T19:09:31.586221Z",
     "iopub.status.idle": "2023-10-13T19:10:17.251151Z",
     "shell.execute_reply": "2023-10-13T19:10:17.249892Z",
     "shell.execute_reply.started": "2023-10-13T19:09:31.587125Z"
    }
   },
   "outputs": [],
   "source": [
    "lgbmr_scores = cross_val_score(LGBMRegressor(n_estimators = 674,\n",
    "                                             max_depth = 21, \n",
    "                                             learning_rate = 0.12, \n",
    "                                             num_leaves = 32 \n",
    "                                            ), \n",
    "                               lgbr_X, y,\n",
    "                               cv = 5,\n",
    "                               n_jobs = 4\n",
    "                              )"
   ]
  },
  {
   "cell_type": "code",
   "execution_count": null,
   "metadata": {
    "execution": {
     "iopub.execute_input": "2023-10-13T19:10:17.255227Z",
     "iopub.status.busy": "2023-10-13T19:10:17.254735Z",
     "iopub.status.idle": "2023-10-13T19:10:17.263507Z",
     "shell.execute_reply": "2023-10-13T19:10:17.262260Z",
     "shell.execute_reply.started": "2023-10-13T19:10:17.255176Z"
    }
   },
   "outputs": [],
   "source": [
    "print(f\"LGBM scores = {lgbmr_scores}\")\n",
    "print(f\"LGBM mean score = {lgbmr_scores.mean()}\")\n",
    "print(f\"LGBM score standard deviation = {lgbmr_scores.std()}\")"
   ]
  },
  {
   "cell_type": "code",
   "execution_count": null,
   "metadata": {
    "execution": {
     "iopub.execute_input": "2023-10-13T16:42:07.274531Z",
     "iopub.status.busy": "2023-10-13T16:42:07.274203Z",
     "iopub.status.idle": "2023-10-13T16:42:24.467673Z",
     "shell.execute_reply": "2023-10-13T16:42:24.466699Z",
     "shell.execute_reply.started": "2023-10-13T16:42:07.274503Z"
    }
   },
   "outputs": [],
   "source": [
    "xgbr = Pipeline([\n",
    "         ('scaler', StandardScaler()),\n",
    "         ('xgbr', XGBRegressor(random_state = 1,\n",
    "                               n_estimators = 200, \n",
    "                               learning_rate = 0.1,\n",
    "                               base_score = 0.5\n",
    "                              )\n",
    "         ) \n",
    "        ])\n",
    "\n",
    "xgbr.fit(train_X, train_y)"
   ]
  },
  {
   "cell_type": "code",
   "execution_count": null,
   "metadata": {
    "execution": {
     "iopub.execute_input": "2023-10-13T16:42:24.469556Z",
     "iopub.status.busy": "2023-10-13T16:42:24.469245Z",
     "iopub.status.idle": "2023-10-13T16:42:25.421172Z",
     "shell.execute_reply": "2023-10-13T16:42:25.420109Z",
     "shell.execute_reply.started": "2023-10-13T16:42:24.469530Z"
    }
   },
   "outputs": [],
   "source": [
    "print(f\"XGBoost train r2 score = {xgbr.score(train_X, train_y)}\")\n",
    "print(f\"XGBoost test r2 score = {xgbr.score(test_X, test_y)}\")"
   ]
  },
  {
   "cell_type": "code",
   "execution_count": null,
   "metadata": {
    "execution": {
     "iopub.execute_input": "2023-10-13T16:42:25.422875Z",
     "iopub.status.busy": "2023-10-13T16:42:25.422530Z",
     "iopub.status.idle": "2023-10-13T16:45:18.657147Z",
     "shell.execute_reply": "2023-10-13T16:45:18.655895Z",
     "shell.execute_reply.started": "2023-10-13T16:42:25.422848Z"
    }
   },
   "outputs": [],
   "source": [
    "xgbr_scores = cross_val_score(\n",
    "                Pipeline([\n",
    "                    ('scaler', StandardScaler()),\n",
    "                    ('xgbr', XGBRegressor(random_state = 1,\n",
    "                                          n_estimators = 200, \n",
    "                                          learning_rate = 0.1,\n",
    "                                          base_score = 0.5\n",
    "                                         ))\n",
    "                ]), X, y, cv = 5, n_jobs = 2\n",
    "              )"
   ]
  },
  {
   "cell_type": "code",
   "execution_count": null,
   "metadata": {
    "execution": {
     "iopub.execute_input": "2023-10-13T16:45:18.658807Z",
     "iopub.status.busy": "2023-10-13T16:45:18.658517Z",
     "iopub.status.idle": "2023-10-13T16:45:18.664147Z",
     "shell.execute_reply": "2023-10-13T16:45:18.663382Z",
     "shell.execute_reply.started": "2023-10-13T16:45:18.658783Z"
    }
   },
   "outputs": [],
   "source": [
    "print(f\"Cross val scores for XGBoost = {xgbr_scores}\")\n",
    "print(f\"Mean cross val scores = {xgbr_scores.mean()}\")\n",
    "print(f\"Cross val scores standard deviation = {xgbr_scores.std()}\")"
   ]
  },
  {
   "cell_type": "code",
   "execution_count": null,
   "metadata": {
    "execution": {
     "iopub.execute_input": "2023-10-13T16:45:18.666157Z",
     "iopub.status.busy": "2023-10-13T16:45:18.665738Z",
     "iopub.status.idle": "2023-10-13T16:45:18.727302Z",
     "shell.execute_reply": "2023-10-13T16:45:18.726347Z",
     "shell.execute_reply.started": "2023-10-13T16:45:18.666131Z"
    }
   },
   "outputs": [],
   "source": [
    "scaler = StandardScaler().fit(train_X)\n",
    "\n",
    "train_X_scaled = scaler.transform(train_X)\n",
    "test_X_scaled = scaler.transform(test_X)"
   ]
  },
  {
   "cell_type": "code",
   "execution_count": null,
   "metadata": {
    "execution": {
     "iopub.execute_input": "2023-10-13T16:45:18.729229Z",
     "iopub.status.busy": "2023-10-13T16:45:18.728351Z",
     "iopub.status.idle": "2023-10-13T16:45:18.994316Z",
     "shell.execute_reply": "2023-10-13T16:45:18.993112Z",
     "shell.execute_reply.started": "2023-10-13T16:45:18.729194Z"
    }
   },
   "outputs": [],
   "source": [
    "neural_net = tf.keras.Sequential([\n",
    "                layers.Dense(128, input_shape = [train_X_scaled.shape[1]], activation = 'relu'),\n",
    "                layers.Dense(16, activation = 'relu'),\n",
    "                layers.Dense(8),\n",
    "                layers.Dense(1)\n",
    "             ])"
   ]
  },
  {
   "cell_type": "code",
   "execution_count": null,
   "metadata": {
    "execution": {
     "iopub.execute_input": "2023-10-13T16:45:18.996081Z",
     "iopub.status.busy": "2023-10-13T16:45:18.995725Z",
     "iopub.status.idle": "2023-10-13T16:45:19.018294Z",
     "shell.execute_reply": "2023-10-13T16:45:19.017143Z",
     "shell.execute_reply.started": "2023-10-13T16:45:18.996049Z"
    }
   },
   "outputs": [],
   "source": [
    "neural_net.compile(optimizer = 'adam',\n",
    "                   loss = 'mse',\n",
    "                   metrics = ['mean_absolute_error']\n",
    "                  )"
   ]
  },
  {
   "cell_type": "code",
   "execution_count": null,
   "metadata": {
    "execution": {
     "iopub.execute_input": "2023-10-13T16:45:19.020847Z",
     "iopub.status.busy": "2023-10-13T16:45:19.020223Z",
     "iopub.status.idle": "2023-10-13T16:47:42.064847Z",
     "shell.execute_reply": "2023-10-13T16:47:42.063530Z",
     "shell.execute_reply.started": "2023-10-13T16:45:19.020801Z"
    }
   },
   "outputs": [],
   "source": [
    "history = neural_net.fit(train_X_scaled, \n",
    "                         train_y, \n",
    "                         validation_data = (test_X_scaled, test_y),\n",
    "                         epochs = 14\n",
    "                        )"
   ]
  },
  {
   "cell_type": "code",
   "execution_count": null,
   "metadata": {
    "execution": {
     "iopub.execute_input": "2023-10-13T16:47:42.067532Z",
     "iopub.status.busy": "2023-10-13T16:47:42.067062Z",
     "iopub.status.idle": "2023-10-13T16:47:42.081173Z",
     "shell.execute_reply": "2023-10-13T16:47:42.080127Z",
     "shell.execute_reply.started": "2023-10-13T16:47:42.067491Z"
    }
   },
   "outputs": [],
   "source": [
    "history_df = pd.DataFrame(history.history)\n",
    "\n",
    "display(history_df.head())"
   ]
  },
  {
   "cell_type": "code",
   "execution_count": null,
   "metadata": {
    "execution": {
     "iopub.execute_input": "2023-10-13T16:47:42.083129Z",
     "iopub.status.busy": "2023-10-13T16:47:42.082752Z",
     "iopub.status.idle": "2023-10-13T16:47:42.669394Z",
     "shell.execute_reply": "2023-10-13T16:47:42.668373Z",
     "shell.execute_reply.started": "2023-10-13T16:47:42.083100Z"
    }
   },
   "outputs": [],
   "source": [
    "fig, axes = plt.subplots(1, 2, figsize = (10, 5))\n",
    "\n",
    "sns.lineplot(history_df.loc[:, ['loss', 'val_loss']], \n",
    "             ax = axes[0], \n",
    "             palette = ['Blue', 'Green']\n",
    "            ).set(title = \"Tensorflow Regression Loss\")\n",
    "\n",
    "sns.lineplot(history_df.loc[:, ['mean_absolute_error', 'val_mean_absolute_error']], \n",
    "             ax = axes[1], \n",
    "             palette = ['DarkBlue', 'DarkGreen']\n",
    "            ).set(title = \"Tensorflow MAE\")\n",
    "\n",
    "plt.show()"
   ]
  },
  {
   "cell_type": "code",
   "execution_count": null,
   "metadata": {
    "execution": {
     "iopub.execute_input": "2023-10-13T16:47:42.671318Z",
     "iopub.status.busy": "2023-10-13T16:47:42.670904Z",
     "iopub.status.idle": "2023-10-13T16:47:58.224309Z",
     "shell.execute_reply": "2023-10-13T16:47:58.223447Z",
     "shell.execute_reply.started": "2023-10-13T16:47:42.671279Z"
    }
   },
   "outputs": [],
   "source": [
    "predict_train_y = neural_net.predict(train_X_scaled) \n",
    "predict_y = neural_net.predict(test_X_scaled)"
   ]
  },
  {
   "cell_type": "code",
   "execution_count": null,
   "metadata": {
    "execution": {
     "iopub.execute_input": "2023-10-13T16:47:58.226369Z",
     "iopub.status.busy": "2023-10-13T16:47:58.226038Z",
     "iopub.status.idle": "2023-10-13T16:47:58.235196Z",
     "shell.execute_reply": "2023-10-13T16:47:58.234426Z",
     "shell.execute_reply.started": "2023-10-13T16:47:58.226342Z"
    }
   },
   "outputs": [],
   "source": [
    "print(f\"Neural Network train r2 score = {r2_score(predict_train_y, train_y)}\")\n",
    "print(f\"Neural Network test r2 score = {r2_score(predict_y, test_y)}\")"
   ]
  },
  {
   "cell_type": "code",
   "execution_count": null,
   "metadata": {
    "execution": {
     "iopub.execute_input": "2023-10-13T16:47:58.237249Z",
     "iopub.status.busy": "2023-10-13T16:47:58.236260Z",
     "iopub.status.idle": "2023-10-13T16:47:58.383535Z",
     "shell.execute_reply": "2023-10-13T16:47:58.382562Z",
     "shell.execute_reply.started": "2023-10-13T16:47:58.237220Z"
    }
   },
   "outputs": [],
   "source": [
    "nn_X = X.copy()\n",
    "\n",
    "nn_X = pd.DataFrame(preprocessor.fit_transform(nn_X))"
   ]
  },
  {
   "cell_type": "code",
   "execution_count": null,
   "metadata": {
    "execution": {
     "iopub.execute_input": "2023-10-13T16:47:58.386034Z",
     "iopub.status.busy": "2023-10-13T16:47:58.385076Z",
     "iopub.status.idle": "2023-10-13T16:47:58.391602Z",
     "shell.execute_reply": "2023-10-13T16:47:58.390298Z",
     "shell.execute_reply.started": "2023-10-13T16:47:58.385992Z"
    }
   },
   "outputs": [],
   "source": [
    "early_stopping = callbacks.EarlyStopping(patience = 5)"
   ]
  },
  {
   "cell_type": "code",
   "execution_count": null,
   "metadata": {
    "execution": {
     "iopub.execute_input": "2023-10-13T16:47:58.393400Z",
     "iopub.status.busy": "2023-10-13T16:47:58.393082Z",
     "iopub.status.idle": "2023-10-13T17:08:29.253292Z",
     "shell.execute_reply": "2023-10-13T17:08:29.251998Z",
     "shell.execute_reply.started": "2023-10-13T16:47:58.393374Z"
    }
   },
   "outputs": [],
   "source": [
    "model = tf.keras.Sequential([\n",
    "                layers.Dense(256, input_shape = [nn_X.shape[1]], activation = 'relu'),\n",
    "                layers.Dense(128, activation = 'relu'),\n",
    "                layers.Dense(64, activation = 'relu'),\n",
    "                layers.Dense(64, activation = 'relu'),\n",
    "                layers.Dense(16),\n",
    "                layers.Dense(1)\n",
    "        ])\n",
    "\n",
    "model.compile(optimizer = 'adam', loss = 'mse', metrics = ['mae'])\n",
    "\n",
    "scikeras_model = KerasRegressor(model, \n",
    "                                callbacks = [early_stopping], \n",
    "                                epochs = 424, \n",
    "                                batch_size = 64,\n",
    "                                verbose = 0\n",
    "                               )\n",
    "\n",
    "nn_X_train, nn_X_test, nn_y_train, nn_y_test = train_test_split(nn_X, y, \n",
    "                                                                random_state = 1, \n",
    "                                                                test_size= 0.6\n",
    "                                                               )\n",
    "\n",
    "hist = scikeras_model.fit(nn_X_train, nn_y_train)\n",
    "\n",
    "nn_y_tr_pred = scikeras_model.predict(nn_X_train)\n",
    "nn_y_ts_pred = scikeras_model.predict(nn_X_test)\n",
    "\n",
    "print(f\"Neural Network train r2 score = {r2_score(nn_y_tr_pred, nn_y_train)}\")\n",
    "print(f\"Neural Network test r2 score = {r2_score(nn_y_ts_pred, nn_y_test)}\")"
   ]
  },
  {
   "cell_type": "code",
   "execution_count": null,
   "metadata": {
    "execution": {
     "iopub.execute_input": "2023-10-13T17:08:29.255401Z",
     "iopub.status.busy": "2023-10-13T17:08:29.255092Z",
     "iopub.status.idle": "2023-10-13T17:08:30.484801Z",
     "shell.execute_reply": "2023-10-13T17:08:30.483841Z",
     "shell.execute_reply.started": "2023-10-13T17:08:29.255375Z"
    }
   },
   "outputs": [],
   "source": [
    "filename = \"neural_network_98and96\"\n",
    "\n",
    "model.save(f\"/kaggle/working/{filename}\")"
   ]
  },
  {
   "cell_type": "code",
   "execution_count": null,
   "metadata": {
    "execution": {
     "iopub.execute_input": "2023-10-13T17:08:30.488230Z",
     "iopub.status.busy": "2023-10-13T17:08:30.487500Z",
     "iopub.status.idle": "2023-10-13T17:08:41.307864Z",
     "shell.execute_reply": "2023-10-13T17:08:41.306513Z",
     "shell.execute_reply.started": "2023-10-13T17:08:30.488187Z"
    }
   },
   "outputs": [],
   "source": [
    "saved_model = tf.keras.models.load_model(f\"/kaggle/working/{filename}\")\n",
    "\n",
    "saved_pred = saved_model.predict(nn_X_test)\n",
    "\n",
    "print(f\"Score = {r2_score(saved_pred, nn_y_test)}\")"
   ]
  },
  {
   "cell_type": "code",
   "execution_count": null,
   "metadata": {
    "execution": {
     "iopub.execute_input": "2023-10-13T23:23:43.622231Z",
     "iopub.status.busy": "2023-10-13T23:23:43.620297Z",
     "iopub.status.idle": "2023-10-13T23:23:43.714872Z",
     "shell.execute_reply": "2023-10-13T23:23:43.713803Z",
     "shell.execute_reply.started": "2023-10-13T23:23:43.622187Z"
    }
   },
   "outputs": [],
   "source": [
    "model = tf.keras.Sequential([\n",
    "                layers.Dense(64, input_shape = [nn_X.shape[1]], activation = 'relu'),\n",
    "                layers.Dense(16, activation = 'relu'),\n",
    "                layers.Dense(8),\n",
    "                layers.Dense(1)\n",
    "        ])\n",
    "\n",
    "model.compile(optimizer = 'adam', loss = 'mse', metrics = ['mae'])"
   ]
  },
  {
   "cell_type": "code",
   "execution_count": null,
   "metadata": {
    "execution": {
     "iopub.execute_input": "2023-10-13T23:23:46.126486Z",
     "iopub.status.busy": "2023-10-13T23:23:46.126107Z",
     "iopub.status.idle": "2023-10-13T23:23:46.135741Z",
     "shell.execute_reply": "2023-10-13T23:23:46.134650Z",
     "shell.execute_reply.started": "2023-10-13T23:23:46.126456Z"
    }
   },
   "outputs": [],
   "source": [
    "scikeras_model = KerasRegressor(model, \n",
    "                                callbacks = [early_stopping], \n",
    "                                epochs = 54, \n",
    "                                batch_size = 16,\n",
    "                                verbose = 0\n",
    "                               )"
   ]
  },
  {
   "cell_type": "code",
   "execution_count": null,
   "metadata": {
    "execution": {
     "iopub.execute_input": "2023-10-13T23:23:48.600915Z",
     "iopub.status.busy": "2023-10-13T23:23:48.600542Z",
     "iopub.status.idle": "2023-10-14T00:22:25.622040Z",
     "shell.execute_reply": "2023-10-14T00:22:25.620610Z",
     "shell.execute_reply.started": "2023-10-13T23:23:48.600888Z"
    }
   },
   "outputs": [],
   "source": [
    "neural_net_scores = cross_val_score(scikeras_model, \n",
    "                                    nn_X, y, \n",
    "                                    cv = 4, n_jobs = 4\n",
    "                                   )"
   ]
  },
  {
   "cell_type": "code",
   "execution_count": null,
   "metadata": {
    "execution": {
     "iopub.execute_input": "2023-10-14T00:22:25.624968Z",
     "iopub.status.busy": "2023-10-14T00:22:25.624367Z",
     "iopub.status.idle": "2023-10-14T00:22:25.639568Z",
     "shell.execute_reply": "2023-10-14T00:22:25.638505Z",
     "shell.execute_reply.started": "2023-10-14T00:22:25.624929Z"
    }
   },
   "outputs": [],
   "source": [
    "print(f\"Cross val scores for Neural Network = {neural_net_scores}\")\n",
    "print(f\"Mean cross val scores = {neural_net_scores.mean()}\")\n",
    "print(f\"Cross val scores standard deviation = {neural_net_scores.std()}\")"
   ]
  },
  {
   "cell_type": "code",
   "execution_count": null,
   "metadata": {
    "execution": {
     "iopub.execute_input": "2023-10-13T19:07:04.784027Z",
     "iopub.status.busy": "2023-10-13T19:07:04.783668Z",
     "iopub.status.idle": "2023-10-13T19:07:04.889118Z",
     "shell.execute_reply": "2023-10-13T19:07:04.887888Z",
     "shell.execute_reply.started": "2023-10-13T19:07:04.783999Z"
    }
   },
   "outputs": [],
   "source": [
    "X_transformed = pd.DataFrame(preprocessor.fit_transform(X))"
   ]
  },
  {
   "cell_type": "code",
   "execution_count": null,
   "metadata": {
    "execution": {
     "iopub.execute_input": "2023-10-13T19:11:18.858710Z",
     "iopub.status.busy": "2023-10-13T19:11:18.858335Z",
     "iopub.status.idle": "2023-10-13T19:11:18.864767Z",
     "shell.execute_reply": "2023-10-13T19:11:18.863502Z",
     "shell.execute_reply.started": "2023-10-13T19:11:18.858682Z"
    }
   },
   "outputs": [],
   "source": [
    "X_transformed.columns = numeric_X_features + [f'weather_type{i}' for i in range(1, 6)]"
   ]
  },
  {
   "cell_type": "code",
   "execution_count": null,
   "metadata": {
    "execution": {
     "iopub.execute_input": "2023-10-13T19:11:21.423506Z",
     "iopub.status.busy": "2023-10-13T19:11:21.423051Z",
     "iopub.status.idle": "2023-10-13T19:11:23.086342Z",
     "shell.execute_reply": "2023-10-13T19:11:23.084889Z",
     "shell.execute_reply.started": "2023-10-13T19:11:21.423477Z"
    }
   },
   "outputs": [],
   "source": [
    "pca = PCA(n_components = 2)\n",
    "pca.fit(X_transformed)"
   ]
  },
  {
   "cell_type": "code",
   "execution_count": null,
   "metadata": {
    "execution": {
     "iopub.execute_input": "2023-10-13T19:11:24.102885Z",
     "iopub.status.busy": "2023-10-13T19:11:24.102472Z",
     "iopub.status.idle": "2023-10-13T19:11:24.159259Z",
     "shell.execute_reply": "2023-10-13T19:11:24.157096Z",
     "shell.execute_reply.started": "2023-10-13T19:11:24.102854Z"
    }
   },
   "outputs": [],
   "source": [
    "X_pca = pca.transform(X_transformed)\n",
    "print(\"Original shape: \", X_transformed.shape)\n",
    "print(\"Transformed shape: \", X_pca.shape)"
   ]
  },
  {
   "cell_type": "code",
   "execution_count": null,
   "metadata": {
    "execution": {
     "iopub.execute_input": "2023-10-13T19:17:02.561308Z",
     "iopub.status.busy": "2023-10-13T19:17:02.560941Z",
     "iopub.status.idle": "2023-10-13T19:17:03.210908Z",
     "shell.execute_reply": "2023-10-13T19:17:03.209743Z",
     "shell.execute_reply.started": "2023-10-13T19:17:02.561280Z"
    }
   },
   "outputs": [],
   "source": [
    "plt.matshow(pca.components_, cmap = 'viridis')\n",
    "plt.yticks([0, 1], [\"First component\", \"Second component\"])\n",
    "plt.colorbar()\n",
    "plt.xticks(range(len(X_transformed.columns)), X_transformed.columns, rotation = 60, ha = 'left')\n",
    "plt.show()"
   ]
  },
  {
   "cell_type": "code",
   "execution_count": null,
   "metadata": {
    "execution": {
     "iopub.execute_input": "2023-10-13T19:17:09.797972Z",
     "iopub.status.busy": "2023-10-13T19:17:09.797497Z",
     "iopub.status.idle": "2023-10-13T19:17:09.806163Z",
     "shell.execute_reply": "2023-10-13T19:17:09.804889Z",
     "shell.execute_reply.started": "2023-10-13T19:17:09.797943Z"
    }
   },
   "outputs": [],
   "source": [
    "# print best features by name and by most important to least important\n",
    "print(f\"Best features by name: {X_transformed.columns[np.argsort(pca.components_[0])][::-1]}\\n\")\n",
    "print(f\"Best features by importance: {np.sort(pca.components_[0])[::-1]}\\n\")"
   ]
  },
  {
   "cell_type": "code",
   "execution_count": null,
   "metadata": {
    "execution": {
     "iopub.execute_input": "2023-10-13T19:17:24.932396Z",
     "iopub.status.busy": "2023-10-13T19:17:24.932023Z",
     "iopub.status.idle": "2023-10-13T19:17:28.998905Z",
     "shell.execute_reply": "2023-10-13T19:17:28.997722Z",
     "shell.execute_reply.started": "2023-10-13T19:17:24.932369Z"
    }
   },
   "outputs": [],
   "source": [
    "plt.figure(figsize = (8, 8))\n",
    "plt.scatter(X_pca[:, 0], X_pca[:, 1], c = y, cmap = 'viridis')\n",
    "plt.xlabel('First principal component')\n",
    "plt.ylabel('Second principal component')\n",
    "plt.show()"
   ]
  },
  {
   "cell_type": "code",
   "execution_count": null,
   "metadata": {
    "execution": {
     "iopub.execute_input": "2023-10-13T19:17:52.405015Z",
     "iopub.status.busy": "2023-10-13T19:17:52.404645Z",
     "iopub.status.idle": "2023-10-13T19:17:52.410713Z",
     "shell.execute_reply": "2023-10-13T19:17:52.409522Z",
     "shell.execute_reply.started": "2023-10-13T19:17:52.404988Z"
    }
   },
   "outputs": [],
   "source": [
    "viz = ValidationCurve(\n",
    "        RandomForestRegressor(random_state = 1), \n",
    "        param_name = \"max_leaf_nodes\",\n",
    "        param_range = [10**x + 1 for x in range(1, 5)], \n",
    "        cv = 4, scoring = \"r2\",\n",
    "        logx = True,\n",
    "        n_jobs = 4\n",
    "      )"
   ]
  },
  {
   "cell_type": "code",
   "execution_count": null,
   "metadata": {
    "execution": {
     "iopub.execute_input": "2023-10-13T19:17:56.168211Z",
     "iopub.status.busy": "2023-10-13T19:17:56.167806Z",
     "iopub.status.idle": "2023-10-13T19:31:02.493653Z",
     "shell.execute_reply": "2023-10-13T19:31:02.492500Z",
     "shell.execute_reply.started": "2023-10-13T19:17:56.168181Z"
    }
   },
   "outputs": [],
   "source": [
    "viz.fit(X, y)"
   ]
  }
 ],
 "metadata": {
  "kernelspec": {
   "display_name": "Python 3 (ipykernel)",
   "language": "python",
   "name": "python3"
  },
  "language_info": {
   "codemirror_mode": {
    "name": "ipython",
    "version": 3
   },
   "file_extension": ".py",
   "mimetype": "text/x-python",
   "name": "python",
   "nbconvert_exporter": "python",
   "pygments_lexer": "ipython3",
   "version": "3.11.0rc1"
  }
 },
 "nbformat": 4,
 "nbformat_minor": 4
}
